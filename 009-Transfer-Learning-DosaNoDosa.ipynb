{
 "cells": [
  {
   "cell_type": "markdown",
   "metadata": {},
   "source": [
    "# Dosa / No Dosa - Transfer Learning"
   ]
  },
  {
   "cell_type": "markdown",
   "metadata": {},
   "source": [
    "## Frame the Problem"
   ]
  },
  {
   "cell_type": "markdown",
   "metadata": {},
   "source": [
    "We want to classify the images in two categories - **Dosa** and **No-Dosa**. This is a classical two-class image classification problem.\n",
    "- Dosa\n",
    "- No-Dosa"
   ]
  },
  {
   "cell_type": "markdown",
   "metadata": {},
   "source": [
    "## Acquire the Data\n",
    "\n",
    "These images very downloaded google.com/images with \"reuse with modification\" filter to allow for commercial reuse."
   ]
  },
  {
   "cell_type": "code",
   "execution_count": 1,
   "metadata": {},
   "outputs": [],
   "source": [
    "#!mkdir data\n",
    "#!wget https://bit.do/dosa-nodosa -O data/food-binary.zip\n",
    "#!cd data && unzip food-binary.zip"
   ]
  },
  {
   "cell_type": "markdown",
   "metadata": {},
   "source": [
    "### Load basic libraries"
   ]
  },
  {
   "cell_type": "code",
   "execution_count": 2,
   "metadata": {},
   "outputs": [
    {
     "name": "stderr",
     "output_type": "stream",
     "text": [
      "Using TensorFlow backend.\n"
     ]
    }
   ],
   "source": [
    "import numpy as np\n",
    "import pandas as pd\n",
    "import keras\n",
    "import matplotlib.pyplot as plt\n",
    "%matplotlib inline\n",
    "import vis"
   ]
  },
  {
   "cell_type": "markdown",
   "metadata": {},
   "source": [
    "## Transfer Learning with Image Augementation"
   ]
  },
  {
   "cell_type": "markdown",
   "metadata": {},
   "source": [
    "**Step 1: Prepare the images and labels**"
   ]
  },
  {
   "cell_type": "code",
   "execution_count": 3,
   "metadata": {},
   "outputs": [],
   "source": [
    "from keras.preprocessing.image import ImageDataGenerator"
   ]
  },
  {
   "cell_type": "code",
   "execution_count": 4,
   "metadata": {},
   "outputs": [],
   "source": [
    "data = ImageDataGenerator(validation_split=0.2, \n",
    "                          rescale=1/255,\n",
    "                          samplewise_center=True, # set input mean to 0 over the sample\n",
    "                          samplewise_std_normalization=True,  # divide inputs by std of the sample\n",
    "                          rotation_range=90,       # randomly rotate images in the range (degrees, 0 to 180)\n",
    "                          width_shift_range=0.4,   # randomly shift images horizontally (fraction of total width)\n",
    "                          height_shift_range=0.4,  # randomly shift images vertically (fraction of total height)\n",
    "                          fill_mode='reflect',     # filling the area outside\n",
    "                          zoom_range=0.4,          # random zoom\n",
    "                          horizontal_flip=True,    # randomly flip images\n",
    "                          vertical_flip=True)      # randomly flip images"
   ]
  },
  {
   "cell_type": "code",
   "execution_count": 5,
   "metadata": {},
   "outputs": [
    {
     "name": "stdout",
     "output_type": "stream",
     "text": [
      "Found 260 images belonging to 2 classes.\n"
     ]
    }
   ],
   "source": [
    "train_generator = data.flow_from_directory(directory=\"data/food-binary/\", \n",
    "                                           target_size=(224,224),\n",
    "                                           class_mode=\"categorical\", \n",
    "                                           shuffle=True, \n",
    "                                           batch_size=8, \n",
    "                                           subset='training')"
   ]
  },
  {
   "cell_type": "code",
   "execution_count": 6,
   "metadata": {},
   "outputs": [
    {
     "name": "stdout",
     "output_type": "stream",
     "text": [
      "Found 65 images belonging to 2 classes.\n"
     ]
    }
   ],
   "source": [
    "val_generator = data.flow_from_directory(directory=\"data/food-binary/\", \n",
    "                                           target_size=(224,224),\n",
    "                                           class_mode=\"categorical\", \n",
    "                                           shuffle=True, \n",
    "                                           batch_size=8, \n",
    "                                           subset='validation')"
   ]
  },
  {
   "cell_type": "markdown",
   "metadata": {},
   "source": [
    "**Step 2: Using a Transfer Learning Model **"
   ]
  },
  {
   "cell_type": "markdown",
   "metadata": {},
   "source": [
    "Let us load the ResNet50 model without the classifier layer and **do not** train the weights"
   ]
  },
  {
   "cell_type": "code",
   "execution_count": 7,
   "metadata": {},
   "outputs": [],
   "source": [
    "from keras.applications import ResNet50\n",
    "from keras.models import Model\n",
    "from keras.layers import Conv2D, MaxPooling2D, Dropout, Dense, Flatten, GlobalAveragePooling2D"
   ]
  },
  {
   "cell_type": "code",
   "execution_count": 8,
   "metadata": {},
   "outputs": [],
   "source": [
    "conv_base = ResNet50(include_top=False, weights='imagenet', input_shape=(224,224,3), pooling=\"avg\")"
   ]
  },
  {
   "cell_type": "code",
   "execution_count": 9,
   "metadata": {},
   "outputs": [],
   "source": [
    "for layer in conv_base.layers:\n",
    "    layer.trainable = False"
   ]
  },
  {
   "cell_type": "code",
   "execution_count": 10,
   "metadata": {},
   "outputs": [],
   "source": [
    "x = conv_base.output\n",
    "x = Dense(512, activation='relu')(x) # let's add a fully-connected layer\n",
    "x = Dense(128, activation='relu')(x) # let's add a fully-connected layer\n",
    "predictions = Dense(2, activation='softmax')(x)\n",
    "\n",
    "# this is the model we will train\n",
    "m = Model(inputs=conv_base.input, outputs=predictions)"
   ]
  },
  {
   "cell_type": "code",
   "execution_count": 11,
   "metadata": {},
   "outputs": [],
   "source": [
    "#m.summary()"
   ]
  },
  {
   "cell_type": "code",
   "execution_count": 12,
   "metadata": {},
   "outputs": [],
   "source": [
    "m.compile(loss='binary_crossentropy', optimizer=\"sgd\", metrics=['accuracy'])"
   ]
  },
  {
   "cell_type": "code",
   "execution_count": 15,
   "metadata": {},
   "outputs": [
    {
     "name": "stdout",
     "output_type": "stream",
     "text": [
      "Epoch 1/10\n",
      "125/125 [==============================] - 32s 257ms/step - loss: 0.2825 - acc: 0.8730 - val_loss: 0.7059 - val_acc: 0.5423\n",
      "Epoch 2/10\n",
      "125/125 [==============================] - 31s 251ms/step - loss: 0.2670 - acc: 0.8750 - val_loss: 0.8478 - val_acc: 0.4357\n",
      "Epoch 3/10\n",
      "125/125 [==============================] - 31s 251ms/step - loss: 0.2060 - acc: 0.9120 - val_loss: 0.7998 - val_acc: 0.4871\n",
      "Epoch 4/10\n",
      "125/125 [==============================] - 32s 253ms/step - loss: 0.2294 - acc: 0.9040 - val_loss: 1.1971 - val_acc: 0.3474\n",
      "Epoch 5/10\n",
      "125/125 [==============================] - 31s 245ms/step - loss: 0.2180 - acc: 0.9100 - val_loss: 1.0371 - val_acc: 0.3842\n",
      "Epoch 6/10\n",
      "125/125 [==============================] - 32s 252ms/step - loss: 0.2079 - acc: 0.9100 - val_loss: 1.3816 - val_acc: 0.3364\n",
      "Epoch 7/10\n",
      "125/125 [==============================] - 32s 257ms/step - loss: 0.1792 - acc: 0.9240 - val_loss: 0.9260 - val_acc: 0.4265\n",
      "Epoch 8/10\n",
      "125/125 [==============================] - 31s 244ms/step - loss: 0.1658 - acc: 0.9270 - val_loss: 1.1524 - val_acc: 0.3676\n",
      "Epoch 9/10\n",
      "125/125 [==============================] - 31s 250ms/step - loss: 0.1811 - acc: 0.9270 - val_loss: 1.1141 - val_acc: 0.3713\n",
      "Epoch 10/10\n",
      "125/125 [==============================] - 31s 248ms/step - loss: 0.1357 - acc: 0.9540 - val_loss: 1.1580 - val_acc: 0.3787\n"
     ]
    }
   ],
   "source": [
    "m_output =  m.fit_generator(train_generator, epochs=10, steps_per_epoch=1000 // 8,\n",
    "                            validation_data=val_generator, validation_steps=600 // 8,\n",
    "                            verbose = 1)"
   ]
  },
  {
   "cell_type": "code",
   "execution_count": 16,
   "metadata": {},
   "outputs": [],
   "source": [
    "m_metrics = m_output.history"
   ]
  },
  {
   "cell_type": "code",
   "execution_count": 17,
   "metadata": {},
   "outputs": [
    {
     "data": {
      "application/vnd.vegalite.v2+json": {
       "$schema": "https://vega.github.io/schema/vega-lite/v2.4.3.json",
       "config": {
        "view": {
         "height": 300,
         "width": 400
        }
       },
       "data": {
        "values": [
         {
          "batch": 1,
          "metrics": "loss",
          "type": "validation",
          "value": 0.705860278897864
         },
         {
          "batch": 2,
          "metrics": "loss",
          "type": "validation",
          "value": 0.8478022473042502
         },
         {
          "batch": 3,
          "metrics": "loss",
          "type": "validation",
          "value": 0.7998232053702369
         },
         {
          "batch": 4,
          "metrics": "loss",
          "type": "validation",
          "value": 1.1970701429116375
         },
         {
          "batch": 5,
          "metrics": "loss",
          "type": "validation",
          "value": 1.0371340383939884
         },
         {
          "batch": 6,
          "metrics": "loss",
          "type": "validation",
          "value": 1.3816189193988548
         },
         {
          "batch": 7,
          "metrics": "loss",
          "type": "validation",
          "value": 0.9260265327003949
         },
         {
          "batch": 8,
          "metrics": "loss",
          "type": "validation",
          "value": 1.1523763160769116
         },
         {
          "batch": 9,
          "metrics": "loss",
          "type": "validation",
          "value": 1.1140822055475676
         },
         {
          "batch": 10,
          "metrics": "loss",
          "type": "validation",
          "value": 1.158007231513586
         },
         {
          "batch": 1,
          "metrics": "acc",
          "type": "validation",
          "value": 0.5422794117647058
         },
         {
          "batch": 2,
          "metrics": "acc",
          "type": "validation",
          "value": 0.43566176470588236
         },
         {
          "batch": 3,
          "metrics": "acc",
          "type": "validation",
          "value": 0.48713235294117646
         },
         {
          "batch": 4,
          "metrics": "acc",
          "type": "validation",
          "value": 0.3474264705882353
         },
         {
          "batch": 5,
          "metrics": "acc",
          "type": "validation",
          "value": 0.38419117647058826
         },
         {
          "batch": 6,
          "metrics": "acc",
          "type": "validation",
          "value": 0.33639705882352944
         },
         {
          "batch": 7,
          "metrics": "acc",
          "type": "validation",
          "value": 0.4264705882352941
         },
         {
          "batch": 8,
          "metrics": "acc",
          "type": "validation",
          "value": 0.36764705882352944
         },
         {
          "batch": 9,
          "metrics": "acc",
          "type": "validation",
          "value": 0.3713235294117647
         },
         {
          "batch": 10,
          "metrics": "acc",
          "type": "validation",
          "value": 0.3786764705882353
         },
         {
          "batch": 1,
          "metrics": "loss",
          "type": "training",
          "value": 0.2817574585901528
         },
         {
          "batch": 2,
          "metrics": "loss",
          "type": "training",
          "value": 0.2616466000312712
         },
         {
          "batch": 3,
          "metrics": "loss",
          "type": "training",
          "value": 0.20364281327683267
         },
         {
          "batch": 4,
          "metrics": "loss",
          "type": "training",
          "value": 0.22935377869770113
         },
         {
          "batch": 5,
          "metrics": "loss",
          "type": "training",
          "value": 0.21546384607388722
         },
         {
          "batch": 6,
          "metrics": "loss",
          "type": "training",
          "value": 0.2092189786433265
         },
         {
          "batch": 7,
          "metrics": "loss",
          "type": "training",
          "value": 0.17916824658842465
         },
         {
          "batch": 8,
          "metrics": "loss",
          "type": "training",
          "value": 0.16574674213259685
         },
         {
          "batch": 9,
          "metrics": "loss",
          "type": "training",
          "value": 0.18267697212475587
         },
         {
          "batch": 10,
          "metrics": "loss",
          "type": "training",
          "value": 0.13627371489168788
         },
         {
          "batch": 1,
          "metrics": "acc",
          "type": "training",
          "value": 0.8729674796747967
         },
         {
          "batch": 2,
          "metrics": "acc",
          "type": "training",
          "value": 0.8780487804878049
         },
         {
          "batch": 3,
          "metrics": "acc",
          "type": "training",
          "value": 0.9136178861788617
         },
         {
          "batch": 4,
          "metrics": "acc",
          "type": "training",
          "value": 0.9038461538461539
         },
         {
          "batch": 5,
          "metrics": "acc",
          "type": "training",
          "value": 0.9115853658536586
         },
         {
          "batch": 6,
          "metrics": "acc",
          "type": "training",
          "value": 0.9095528455284553
         },
         {
          "batch": 7,
          "metrics": "acc",
          "type": "training",
          "value": 0.9240890688259109
         },
         {
          "batch": 8,
          "metrics": "acc",
          "type": "training",
          "value": 0.9278455284552846
         },
         {
          "batch": 9,
          "metrics": "acc",
          "type": "training",
          "value": 0.926829268292683
         },
         {
          "batch": 10,
          "metrics": "acc",
          "type": "training",
          "value": 0.9542682926829268
         }
        ]
       },
       "facet": {
        "column": {
         "field": "metrics",
         "type": "nominal"
        }
       },
       "resolve": {
        "scale": {
         "color": "shared",
         "x": "shared",
         "y": "independent"
        }
       },
       "spec": {
        "layer": [
         {
          "encoding": {
           "color": {
            "field": "type",
            "type": "nominal"
           },
           "tooltip": [
            {
             "field": "batch",
             "type": "quantitative"
            },
            {
             "field": "value",
             "type": "quantitative"
            }
           ],
           "x": {
            "field": "batch",
            "type": "quantitative"
           },
           "y": {
            "field": "value",
            "type": "quantitative"
           }
          },
          "height": 300,
          "mark": {
           "size": 50,
           "type": "circle"
          },
          "width": 300
         },
         {
          "encoding": {
           "color": {
            "field": "type",
            "type": "nominal"
           },
           "x": {
            "field": "batch",
            "type": "quantitative"
           },
           "y": {
            "field": "value",
            "type": "quantitative"
           }
          },
          "height": 300,
          "mark": "line",
          "width": 300
         }
        ]
       }
      },
      "image/png": "[encoded data removed]",
      "text/plain": [
       "<VegaLite 2 object>\n",
       "\n",
       "If you see this message, it means the renderer has not been properly enabled\n",
       "for the frontend that you are using. For more information, see\n",
       "https://altair-viz.github.io/user_guide/troubleshooting.html\n"
      ]
     },
     "execution_count": 17,
     "metadata": {},
     "output_type": "execute_result"
    }
   ],
   "source": [
    "vis.metrics(m_metrics)"
   ]
  },
  {
   "cell_type": "markdown",
   "metadata": {},
   "source": [
    "## Fine Tuning a Transfer Learning Model"
   ]
  },
  {
   "cell_type": "markdown",
   "metadata": {},
   "source": [
    "Retrain the last 3 layers of base model with image augmentation"
   ]
  },
  {
   "cell_type": "code",
   "execution_count": 18,
   "metadata": {},
   "outputs": [],
   "source": [
    "for layer in m.layers[:47]:\n",
    "   layer.trainable = False\n",
    "for layer in m.layers[47:]:\n",
    "   layer.trainable = True"
   ]
  },
  {
   "cell_type": "code",
   "execution_count": 19,
   "metadata": {},
   "outputs": [],
   "source": [
    "m.compile(loss='binary_crossentropy', optimizer=\"sgd\", metrics=['accuracy'])"
   ]
  },
  {
   "cell_type": "code",
   "execution_count": null,
   "metadata": {},
   "outputs": [
    {
     "name": "stdout",
     "output_type": "stream",
     "text": [
      "Epoch 1/10\n",
      "125/125 [==============================] - 49s 391ms/step - loss: 0.1734 - acc: 0.9290 - val_loss: 0.6892 - val_acc: 0.5680\n",
      "Epoch 2/10\n",
      "125/125 [==============================] - 42s 337ms/step - loss: 0.1346 - acc: 0.9470 - val_loss: 2.0037 - val_acc: 0.3217\n",
      "Epoch 3/10\n",
      "125/125 [==============================] - 42s 338ms/step - loss: 0.0871 - acc: 0.9640 - val_loss: 5.0807 - val_acc: 0.3272\n",
      "Epoch 4/10\n",
      "125/125 [==============================] - 42s 337ms/step - loss: 0.0805 - acc: 0.9700 - val_loss: 1.3968 - val_acc: 0.3199\n",
      "Epoch 5/10\n",
      "125/125 [==============================] - 42s 333ms/step - loss: 0.0831 - acc: 0.9720 - val_loss: 0.6649 - val_acc: 0.6103\n",
      "Epoch 6/10\n",
      "125/125 [==============================] - 42s 335ms/step - loss: 0.0517 - acc: 0.9840 - val_loss: 0.9899 - val_acc: 0.3290\n",
      "Epoch 7/10\n",
      "125/125 [==============================] - 42s 336ms/step - loss: 0.0377 - acc: 0.9880 - val_loss: 0.9633 - val_acc: 0.3290\n",
      "Epoch 8/10\n",
      "124/125 [============================>.] - ETA: 0s - loss: 0.0457 - acc: 0.9798"
     ]
    }
   ],
   "source": [
    "m_output_trainable =  m.fit_generator(train_generator, epochs=10, steps_per_epoch=1000 // 8,\n",
    "                            validation_data=val_generator, validation_steps=600 // 8,\n",
    "                            verbose = 1)"
   ]
  },
  {
   "cell_type": "code",
   "execution_count": null,
   "metadata": {},
   "outputs": [],
   "source": [
    "vis.metrics(m_output_trainable.history)"
   ]
  },
  {
   "cell_type": "code",
   "execution_count": null,
   "metadata": {},
   "outputs": [],
   "source": []
  },
  {
   "cell_type": "code",
   "execution_count": null,
   "metadata": {},
   "outputs": [],
   "source": []
  }
 ],
 "metadata": {
  "kernelspec": {
   "display_name": "Python 3",
   "language": "python",
   "name": "python3"
  },
  "language_info": {
   "codemirror_mode": {
    "name": "ipython",
    "version": 3
   },
   "file_extension": ".py",
   "mimetype": "text/x-python",
   "name": "python",
   "nbconvert_exporter": "python",
   "pygments_lexer": "ipython3",
   "version": "3.6.6"
  }
 },
 "nbformat": 4,
 "nbformat_minor": 2
}
