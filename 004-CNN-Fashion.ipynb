{
 "cells": [
  {
   "cell_type": "markdown",
   "metadata": {},
   "source": [
    "# Convolution Neural Network - Fashion MNIST"
   ]
  },
  {
   "cell_type": "markdown",
   "metadata": {},
   "source": [
    "CNN allow us to extract the features of the image while maintaining the spatial arrangement of the image. \n",
    "\n",
    "Lets apply this to the Fashion MNIST Example"
   ]
  },
  {
   "cell_type": "code",
   "execution_count": 1,
   "metadata": {},
   "outputs": [
    {
     "name": "stderr",
     "output_type": "stream",
     "text": [
      "Using TensorFlow backend.\n"
     ]
    }
   ],
   "source": [
    "import numpy as np\n",
    "import pandas as pd\n",
    "import keras\n",
    "import matplotlib.pyplot as plt\n",
    "% matplotlib inline\n",
    "import vis"
   ]
  },
  {
   "cell_type": "code",
   "execution_count": 2,
   "metadata": {},
   "outputs": [],
   "source": [
    "from keras.models import Sequential\n",
    "from keras.layers import Conv2D, MaxPooling2D, Activation, Flatten, Dense\n",
    "from keras import backend as K"
   ]
  },
  {
   "cell_type": "markdown",
   "metadata": {},
   "source": [
    "## Get Data"
   ]
  },
  {
   "cell_type": "code",
   "execution_count": 3,
   "metadata": {},
   "outputs": [],
   "source": [
    "from keras.datasets import fashion_mnist"
   ]
  },
  {
   "cell_type": "code",
   "execution_count": 4,
   "metadata": {},
   "outputs": [
    {
     "data": {
      "text/plain": [
       "((60000, 28, 28), (60000,), (10000, 28, 28), (10000,))"
      ]
     },
     "execution_count": 4,
     "metadata": {},
     "output_type": "execute_result"
    }
   ],
   "source": [
    "(x_train, y_train), (x_test, y_test) = fashion_mnist.load_data()\n",
    "x_train.shape, y_train.shape, x_test.shape, y_test.shape"
   ]
  },
  {
   "cell_type": "code",
   "execution_count": 5,
   "metadata": {},
   "outputs": [
    {
     "data": {
      "text/plain": [
       "<module 'vis' from '/Users/amitkaps/Dropbox/github/deep-learning/vis.py'>"
      ]
     },
     "execution_count": 5,
     "metadata": {},
     "output_type": "execute_result"
    }
   ],
   "source": [
    "import importlib\n",
    "importlib.reload(vis)"
   ]
  },
  {
   "cell_type": "code",
   "execution_count": 6,
   "metadata": {},
   "outputs": [],
   "source": [
    "labels = vis.fashion_mnist_label()"
   ]
  },
  {
   "cell_type": "markdown",
   "metadata": {},
   "source": [
    "**Step 1: Prepare the images and labels**\n",
    "\n",
    "Reshape data for convolution network"
   ]
  },
  {
   "cell_type": "code",
   "execution_count": 7,
   "metadata": {},
   "outputs": [
    {
     "data": {
      "text/plain": [
       "'channels_last'"
      ]
     },
     "execution_count": 7,
     "metadata": {},
     "output_type": "execute_result"
    }
   ],
   "source": [
    "K.image_data_format()"
   ]
  },
  {
   "cell_type": "code",
   "execution_count": 8,
   "metadata": {},
   "outputs": [],
   "source": [
    "x_train_conv = x_train.reshape(x_train.shape[0], 28, 28, 1)\n",
    "x_test_conv = x_test.reshape(x_test.shape[0], 28, 28, 1)\n",
    "input_shape = (28, 28, 1)"
   ]
  },
  {
   "cell_type": "markdown",
   "metadata": {},
   "source": [
    "Convert from 'uint8' to 'float32' and normalise the data to (0,1) "
   ]
  },
  {
   "cell_type": "code",
   "execution_count": 9,
   "metadata": {},
   "outputs": [],
   "source": [
    "x_train_conv =  x_train_conv.astype(\"float32\") / 255\n",
    "x_test_conv = x_test_conv.astype(\"float32\") / 255"
   ]
  },
  {
   "cell_type": "markdown",
   "metadata": {},
   "source": [
    "Convert class vectors to binary class matrices"
   ]
  },
  {
   "cell_type": "code",
   "execution_count": 10,
   "metadata": {},
   "outputs": [],
   "source": [
    "# convert class vectors to binary class matrices\n",
    "y_train_class = keras.utils.to_categorical(y_train, 10)\n",
    "y_test_class = keras.utils.to_categorical(y_test, 10)"
   ]
  },
  {
   "cell_type": "markdown",
   "metadata": {},
   "source": [
    "## Model 1: Simple Convolution"
   ]
  },
  {
   "cell_type": "markdown",
   "metadata": {},
   "source": [
    "**Step 2: Craft the feature transfomation and classifier model **"
   ]
  },
  {
   "cell_type": "code",
   "execution_count": 32,
   "metadata": {},
   "outputs": [],
   "source": [
    "model_simple_conv = Sequential()\n",
    "model_simple_conv.add(Conv2D(32, (3, 3), activation =\"relu\", input_shape=(28, 28, 1)))\n",
    "model_simple_conv.add(Flatten())\n",
    "model_simple_conv.add(Dense(100, activation='relu'))\n",
    "model_simple_conv.add(Dense(10, activation='softmax'))"
   ]
  },
  {
   "cell_type": "code",
   "execution_count": 33,
   "metadata": {},
   "outputs": [
    {
     "name": "stdout",
     "output_type": "stream",
     "text": [
      "_________________________________________________________________\n",
      "Layer (type)                 Output Shape              Param #   \n",
      "=================================================================\n",
      "conv2d_9 (Conv2D)            (None, 26, 26, 32)        320       \n",
      "_________________________________________________________________\n",
      "flatten_5 (Flatten)          (None, 21632)             0         \n",
      "_________________________________________________________________\n",
      "dense_9 (Dense)              (None, 100)               2163300   \n",
      "_________________________________________________________________\n",
      "dense_10 (Dense)             (None, 10)                1010      \n",
      "=================================================================\n",
      "Total params: 2,164,630\n",
      "Trainable params: 2,164,630\n",
      "Non-trainable params: 0\n",
      "_________________________________________________________________\n"
     ]
    }
   ],
   "source": [
    "model_simple_conv.summary()"
   ]
  },
  {
   "cell_type": "markdown",
   "metadata": {},
   "source": [
    "**Step 3: Compile and fit the model**"
   ]
  },
  {
   "cell_type": "code",
   "execution_count": 13,
   "metadata": {},
   "outputs": [],
   "source": [
    "model_simple_conv.compile(loss='categorical_crossentropy', optimizer=\"sgd\", metrics=['accuracy'])"
   ]
  },
  {
   "cell_type": "code",
   "execution_count": 14,
   "metadata": {},
   "outputs": [
    {
     "name": "stdout",
     "output_type": "stream",
     "text": [
      "Train on 60000 samples, validate on 10000 samples\n",
      "Epoch 1/5\n",
      " - 45s - loss: 0.8339 - acc: 0.7255 - val_loss: 0.7958 - val_acc: 0.6926\n",
      "Epoch 2/5\n",
      " - 45s - loss: 0.5556 - acc: 0.8036 - val_loss: 0.5383 - val_acc: 0.8099\n",
      "Epoch 3/5\n",
      " - 48s - loss: 0.4947 - acc: 0.8256 - val_loss: 0.5097 - val_acc: 0.8186\n",
      "Epoch 4/5\n",
      " - 46s - loss: 0.4650 - acc: 0.8375 - val_loss: 0.4686 - val_acc: 0.8373\n",
      "Epoch 5/5\n",
      " - 44s - loss: 0.4413 - acc: 0.8450 - val_loss: 0.4791 - val_acc: 0.8276\n",
      "CPU times: user 9min 23s, sys: 1min 11s, total: 10min 34s\n",
      "Wall time: 3min 48s\n"
     ]
    }
   ],
   "source": [
    "%%time \n",
    "output_simple_conv = model_simple_conv.fit(x_train_conv, y_train_class, batch_size=128, epochs=5, verbose=2,\n",
    "                    validation_data=(x_test_conv, y_test_class))"
   ]
  },
  {
   "cell_type": "markdown",
   "metadata": {},
   "source": [
    "**Step 4: Check the performance of the model**"
   ]
  },
  {
   "cell_type": "code",
   "execution_count": 15,
   "metadata": {},
   "outputs": [
    {
     "data": {
      "application/vnd.vegalite.v2+json": {
       "$schema": "https://vega.github.io/schema/vega-lite/v2.4.3.json",
       "config": {
        "view": {
         "height": 300,
         "width": 400
        }
       },
       "data": {
        "values": [
         {
          "batch": 1,
          "metrics": "acc",
          "type": "training",
          "value": 0.7255166666666667
         },
         {
          "batch": 2,
          "metrics": "acc",
          "type": "training",
          "value": 0.8035833333015442
         },
         {
          "batch": 3,
          "metrics": "acc",
          "type": "training",
          "value": 0.8255833333651225
         },
         {
          "batch": 4,
          "metrics": "acc",
          "type": "training",
          "value": 0.8374666666348776
         },
         {
          "batch": 5,
          "metrics": "acc",
          "type": "training",
          "value": 0.8450000000317891
         },
         {
          "batch": 1,
          "metrics": "loss",
          "type": "training",
          "value": 0.8339437921206156
         },
         {
          "batch": 2,
          "metrics": "loss",
          "type": "training",
          "value": 0.5556273014386495
         },
         {
          "batch": 3,
          "metrics": "loss",
          "type": "training",
          "value": 0.49468703970909117
         },
         {
          "batch": 4,
          "metrics": "loss",
          "type": "training",
          "value": 0.4650178969860077
         },
         {
          "batch": 5,
          "metrics": "loss",
          "type": "training",
          "value": 0.4413230877717336
         },
         {
          "batch": 1,
          "metrics": "acc",
          "type": "validation",
          "value": 0.6926
         },
         {
          "batch": 2,
          "metrics": "acc",
          "type": "validation",
          "value": 0.8099
         },
         {
          "batch": 3,
          "metrics": "acc",
          "type": "validation",
          "value": 0.8186
         },
         {
          "batch": 4,
          "metrics": "acc",
          "type": "validation",
          "value": 0.8373
         },
         {
          "batch": 5,
          "metrics": "acc",
          "type": "validation",
          "value": 0.8276
         },
         {
          "batch": 1,
          "metrics": "loss",
          "type": "validation",
          "value": 0.795830527305603
         },
         {
          "batch": 2,
          "metrics": "loss",
          "type": "validation",
          "value": 0.538257976102829
         },
         {
          "batch": 3,
          "metrics": "loss",
          "type": "validation",
          "value": 0.5097026987075806
         },
         {
          "batch": 4,
          "metrics": "loss",
          "type": "validation",
          "value": 0.4685512024879456
         },
         {
          "batch": 5,
          "metrics": "loss",
          "type": "validation",
          "value": 0.47908285093307496
         }
        ]
       },
       "facet": {
        "column": {
         "field": "metrics",
         "type": "nominal"
        }
       },
       "resolve": {
        "scale": {
         "color": "shared",
         "x": "shared",
         "y": "independent"
        }
       },
       "spec": {
        "layer": [
         {
          "encoding": {
           "color": {
            "field": "type",
            "type": "nominal"
           },
           "tooltip": [
            {
             "field": "batch",
             "type": "quantitative"
            },
            {
             "field": "value",
             "type": "quantitative"
            }
           ],
           "x": {
            "field": "batch",
            "type": "quantitative"
           },
           "y": {
            "field": "value",
            "type": "quantitative"
           }
          },
          "height": 300,
          "mark": {
           "size": 50,
           "type": "circle"
          },
          "width": 300
         },
         {
          "encoding": {
           "color": {
            "field": "type",
            "type": "nominal"
           },
           "x": {
            "field": "batch",
            "type": "quantitative"
           },
           "y": {
            "field": "value",
            "type": "quantitative"
           }
          },
          "height": 300,
          "mark": "line",
          "width": 300
         }
        ]
       }
      },
      "image/png": "[encoded data removed]",
      "text/plain": [
       "<VegaLite 2 object>\n",
       "\n",
       "If you see this message, it means the renderer has not been properly enabled\n",
       "for the frontend that you are using. For more information, see\n",
       "https://altair-viz.github.io/user_guide/troubleshooting.html\n"
      ]
     },
     "execution_count": 15,
     "metadata": {},
     "output_type": "execute_result"
    }
   ],
   "source": [
    "vis.metrics(output_simple_conv.history)"
   ]
  },
  {
   "cell_type": "code",
   "execution_count": 16,
   "metadata": {},
   "outputs": [
    {
     "name": "stdout",
     "output_type": "stream",
     "text": [
      "10000/10000 [==============================] - 4s 375us/step\n"
     ]
    }
   ],
   "source": [
    "score = model_simple_conv.evaluate(x_test_conv, y_test_class, verbose=1)"
   ]
  },
  {
   "cell_type": "code",
   "execution_count": 17,
   "metadata": {},
   "outputs": [
    {
     "name": "stdout",
     "output_type": "stream",
     "text": [
      "Test loss: 0.479082851648\n",
      "Test accuracy: 0.8276\n"
     ]
    }
   ],
   "source": [
    "print('Test loss:', score[0])\n",
    "print('Test accuracy:', score[1])"
   ]
  },
  {
   "cell_type": "markdown",
   "metadata": {},
   "source": [
    "**Step 5: Make & Visualise the Prediction**"
   ]
  },
  {
   "cell_type": "code",
   "execution_count": 18,
   "metadata": {},
   "outputs": [],
   "source": [
    "predict_classes_conv = model_simple_conv.predict_classes(x_test_conv)"
   ]
  },
  {
   "cell_type": "code",
   "execution_count": 19,
   "metadata": {},
   "outputs": [
    {
     "data": {
      "text/html": [
       "<div>\n",
       "<style scoped>\n",
       "    .dataframe tbody tr th:only-of-type {\n",
       "        vertical-align: middle;\n",
       "    }\n",
       "\n",
       "    .dataframe tbody tr th {\n",
       "        vertical-align: top;\n",
       "    }\n",
       "\n",
       "    .dataframe thead th {\n",
       "        text-align: right;\n",
       "    }\n",
       "</style>\n",
       "<table border=\"1\" class=\"dataframe\">\n",
       "  <thead>\n",
       "    <tr style=\"text-align: right;\">\n",
       "      <th>col_0</th>\n",
       "      <th>0</th>\n",
       "      <th>1</th>\n",
       "      <th>2</th>\n",
       "      <th>3</th>\n",
       "      <th>4</th>\n",
       "      <th>5</th>\n",
       "      <th>6</th>\n",
       "      <th>7</th>\n",
       "      <th>8</th>\n",
       "      <th>9</th>\n",
       "    </tr>\n",
       "    <tr>\n",
       "      <th>row_0</th>\n",
       "      <th></th>\n",
       "      <th></th>\n",
       "      <th></th>\n",
       "      <th></th>\n",
       "      <th></th>\n",
       "      <th></th>\n",
       "      <th></th>\n",
       "      <th></th>\n",
       "      <th></th>\n",
       "      <th></th>\n",
       "    </tr>\n",
       "  </thead>\n",
       "  <tbody>\n",
       "    <tr>\n",
       "      <th>0</th>\n",
       "      <td>883</td>\n",
       "      <td>4</td>\n",
       "      <td>19</td>\n",
       "      <td>27</td>\n",
       "      <td>0</td>\n",
       "      <td>2</td>\n",
       "      <td>51</td>\n",
       "      <td>0</td>\n",
       "      <td>14</td>\n",
       "      <td>0</td>\n",
       "    </tr>\n",
       "    <tr>\n",
       "      <th>1</th>\n",
       "      <td>8</td>\n",
       "      <td>957</td>\n",
       "      <td>4</td>\n",
       "      <td>24</td>\n",
       "      <td>2</td>\n",
       "      <td>0</td>\n",
       "      <td>4</td>\n",
       "      <td>0</td>\n",
       "      <td>1</td>\n",
       "      <td>0</td>\n",
       "    </tr>\n",
       "    <tr>\n",
       "      <th>2</th>\n",
       "      <td>24</td>\n",
       "      <td>7</td>\n",
       "      <td>834</td>\n",
       "      <td>12</td>\n",
       "      <td>44</td>\n",
       "      <td>1</td>\n",
       "      <td>68</td>\n",
       "      <td>0</td>\n",
       "      <td>10</td>\n",
       "      <td>0</td>\n",
       "    </tr>\n",
       "    <tr>\n",
       "      <th>3</th>\n",
       "      <td>56</td>\n",
       "      <td>24</td>\n",
       "      <td>15</td>\n",
       "      <td>854</td>\n",
       "      <td>13</td>\n",
       "      <td>0</td>\n",
       "      <td>35</td>\n",
       "      <td>0</td>\n",
       "      <td>3</td>\n",
       "      <td>0</td>\n",
       "    </tr>\n",
       "    <tr>\n",
       "      <th>4</th>\n",
       "      <td>3</td>\n",
       "      <td>3</td>\n",
       "      <td>260</td>\n",
       "      <td>58</td>\n",
       "      <td>494</td>\n",
       "      <td>0</td>\n",
       "      <td>174</td>\n",
       "      <td>0</td>\n",
       "      <td>8</td>\n",
       "      <td>0</td>\n",
       "    </tr>\n",
       "    <tr>\n",
       "      <th>5</th>\n",
       "      <td>0</td>\n",
       "      <td>0</td>\n",
       "      <td>0</td>\n",
       "      <td>1</td>\n",
       "      <td>0</td>\n",
       "      <td>896</td>\n",
       "      <td>0</td>\n",
       "      <td>78</td>\n",
       "      <td>4</td>\n",
       "      <td>21</td>\n",
       "    </tr>\n",
       "    <tr>\n",
       "      <th>6</th>\n",
       "      <td>224</td>\n",
       "      <td>2</td>\n",
       "      <td>143</td>\n",
       "      <td>25</td>\n",
       "      <td>34</td>\n",
       "      <td>1</td>\n",
       "      <td>540</td>\n",
       "      <td>0</td>\n",
       "      <td>31</td>\n",
       "      <td>0</td>\n",
       "    </tr>\n",
       "    <tr>\n",
       "      <th>7</th>\n",
       "      <td>0</td>\n",
       "      <td>0</td>\n",
       "      <td>0</td>\n",
       "      <td>0</td>\n",
       "      <td>0</td>\n",
       "      <td>23</td>\n",
       "      <td>0</td>\n",
       "      <td>962</td>\n",
       "      <td>0</td>\n",
       "      <td>15</td>\n",
       "    </tr>\n",
       "    <tr>\n",
       "      <th>8</th>\n",
       "      <td>6</td>\n",
       "      <td>1</td>\n",
       "      <td>15</td>\n",
       "      <td>7</td>\n",
       "      <td>1</td>\n",
       "      <td>4</td>\n",
       "      <td>13</td>\n",
       "      <td>9</td>\n",
       "      <td>944</td>\n",
       "      <td>0</td>\n",
       "    </tr>\n",
       "    <tr>\n",
       "      <th>9</th>\n",
       "      <td>0</td>\n",
       "      <td>0</td>\n",
       "      <td>0</td>\n",
       "      <td>0</td>\n",
       "      <td>0</td>\n",
       "      <td>15</td>\n",
       "      <td>0</td>\n",
       "      <td>72</td>\n",
       "      <td>1</td>\n",
       "      <td>912</td>\n",
       "    </tr>\n",
       "  </tbody>\n",
       "</table>\n",
       "</div>"
      ],
      "text/plain": [
       "col_0    0    1    2    3    4    5    6    7    8    9\n",
       "row_0                                                  \n",
       "0      883    4   19   27    0    2   51    0   14    0\n",
       "1        8  957    4   24    2    0    4    0    1    0\n",
       "2       24    7  834   12   44    1   68    0   10    0\n",
       "3       56   24   15  854   13    0   35    0    3    0\n",
       "4        3    3  260   58  494    0  174    0    8    0\n",
       "5        0    0    0    1    0  896    0   78    4   21\n",
       "6      224    2  143   25   34    1  540    0   31    0\n",
       "7        0    0    0    0    0   23    0  962    0   15\n",
       "8        6    1   15    7    1    4   13    9  944    0\n",
       "9        0    0    0    0    0   15    0   72    1  912"
      ]
     },
     "execution_count": 19,
     "metadata": {},
     "output_type": "execute_result"
    }
   ],
   "source": [
    "pd.crosstab(y_test, predict_classes_conv)"
   ]
  },
  {
   "cell_type": "code",
   "execution_count": 20,
   "metadata": {},
   "outputs": [],
   "source": [
    "proba_conv = model_simple_conv.predict_proba(x_test_conv)"
   ]
  },
  {
   "cell_type": "code",
   "execution_count": 21,
   "metadata": {},
   "outputs": [],
   "source": [
    "i = 4"
   ]
  },
  {
   "cell_type": "code",
   "execution_count": 22,
   "metadata": {},
   "outputs": [
    {
     "data": {
      "application/vnd.vegalite.v2+json": {
       "$schema": "https://vega.github.io/schema/vega-lite/v2.4.3.json",
       "config": {
        "view": {
         "height": 300,
         "width": 400
        }
       },
       "hconcat": [
        {
         "data": {
          "values": [
           {
            "h": 0,
            "value": 0,
            "w": 0
           },
           {
            "h": 1,
            "value": 0,
            "w": 0
           },
           {
            "h": 2,
            "value": 0,
            "w": 0
           },
           {
            "h": 3,
            "value": 0,
            "w": 0
           },
           {
            "h": 4,
            "value": 0,
            "w": 0
           },
           {
            "h": 5,
            "value": 0,
            "w": 0
           },
           {
            "h": 6,
            "value": 0,
            "w": 0
           },
           {
            "h": 7,
            "value": 0,
            "w": 0
           },
           {
            "h": 8,
            "value": 0,
            "w": 0
           },
           {
            "h": 9,
            "value": 0,
            "w": 0
           },
           {
            "h": 10,
            "value": 0,
            "w": 0
           },
           {
            "h": 11,
            "value": 0,
            "w": 0
           },
           {
            "h": 12,
            "value": 0,
            "w": 0
           },
           {
            "h": 13,
            "value": 0,
            "w": 0
           },
           {
            "h": 14,
            "value": 0,
            "w": 0
           },
           {
            "h": 15,
            "value": 0,
            "w": 0
           },
           {
            "h": 16,
            "value": 0,
            "w": 0
           },
           {
            "h": 17,
            "value": 0,
            "w": 0
           },
           {
            "h": 18,
            "value": 0,
            "w": 0
           },
           {
            "h": 19,
            "value": 0,
            "w": 0
           },
           {
            "h": 20,
            "value": 0,
            "w": 0
           },
           {
            "h": 21,
            "value": 0,
            "w": 0
           },
           {
            "h": 22,
            "value": 0,
            "w": 0
           },
           {
            "h": 23,
            "value": 0,
            "w": 0
           },
           {
            "h": 24,
            "value": 0,
            "w": 0
           },
           {
            "h": 25,
            "value": 0,
            "w": 0
           },
           {
            "h": 26,
            "value": 0,
            "w": 0
           },
           {
            "h": 27,
            "value": 0,
            "w": 0
           },
           {
            "h": 0,
            "value": 0,
            "w": 1
           },
           {
            "h": 1,
            "value": 0,
            "w": 1
           },
           {
            "h": 2,
            "value": 0,
            "w": 1
           },
           {
            "h": 3,
            "value": 0,
            "w": 1
           },
           {
            "h": 4,
            "value": 0,
            "w": 1
           },
           {
            "h": 5,
            "value": 0,
            "w": 1
           },
           {
            "h": 6,
            "value": 0,
            "w": 1
           },
           {
            "h": 7,
            "value": 0,
            "w": 1
           },
           {
            "h": 8,
            "value": 0,
            "w": 1
           },
           {
            "h": 9,
            "value": 0,
            "w": 1
           },
           {
            "h": 10,
            "value": 0,
            "w": 1
           },
           {
            "h": 11,
            "value": 0,
            "w": 1
           },
           {
            "h": 12,
            "value": 0,
            "w": 1
           },
           {
            "h": 13,
            "value": 0,
            "w": 1
           },
           {
            "h": 14,
            "value": 0,
            "w": 1
           },
           {
            "h": 15,
            "value": 0,
            "w": 1
           },
           {
            "h": 16,
            "value": 0,
            "w": 1
           },
           {
            "h": 17,
            "value": 0,
            "w": 1
           },
           {
            "h": 18,
            "value": 0,
            "w": 1
           },
           {
            "h": 19,
            "value": 0,
            "w": 1
           },
           {
            "h": 20,
            "value": 0,
            "w": 1
           },
           {
            "h": 21,
            "value": 0,
            "w": 1
           },
           {
            "h": 22,
            "value": 0,
            "w": 1
           },
           {
            "h": 23,
            "value": 0,
            "w": 1
           },
           {
            "h": 24,
            "value": 0,
            "w": 1
           },
           {
            "h": 25,
            "value": 0,
            "w": 1
           },
           {
            "h": 26,
            "value": 0,
            "w": 1
           },
           {
            "h": 27,
            "value": 0,
            "w": 1
           },
           {
            "h": 0,
            "value": 0,
            "w": 2
           },
           {
            "h": 1,
            "value": 0,
            "w": 2
           },
           {
            "h": 2,
            "value": 0,
            "w": 2
           },
           {
            "h": 3,
            "value": 0,
            "w": 2
           },
           {
            "h": 4,
            "value": 0,
            "w": 2
           },
           {
            "h": 5,
            "value": 0,
            "w": 2
           },
           {
            "h": 6,
            "value": 0,
            "w": 2
           },
           {
            "h": 7,
            "value": 0,
            "w": 2
           },
           {
            "h": 8,
            "value": 0,
            "w": 2
           },
           {
            "h": 9,
            "value": 0,
            "w": 2
           },
           {
            "h": 10,
            "value": 0,
            "w": 2
           },
           {
            "h": 11,
            "value": 0,
            "w": 2
           },
           {
            "h": 12,
            "value": 0,
            "w": 2
           },
           {
            "h": 13,
            "value": 0,
            "w": 2
           },
           {
            "h": 14,
            "value": 0,
            "w": 2
           },
           {
            "h": 15,
            "value": 0,
            "w": 2
           },
           {
            "h": 16,
            "value": 0,
            "w": 2
           },
           {
            "h": 17,
            "value": 0,
            "w": 2
           },
           {
            "h": 18,
            "value": 0,
            "w": 2
           },
           {
            "h": 19,
            "value": 0,
            "w": 2
           },
           {
            "h": 20,
            "value": 0,
            "w": 2
           },
           {
            "h": 21,
            "value": 0,
            "w": 2
           },
           {
            "h": 22,
            "value": 0,
            "w": 2
           },
           {
            "h": 23,
            "value": 0,
            "w": 2
           },
           {
            "h": 24,
            "value": 0,
            "w": 2
           },
           {
            "h": 25,
            "value": 0,
            "w": 2
           },
           {
            "h": 26,
            "value": 0,
            "w": 2
           },
           {
            "h": 27,
            "value": 0,
            "w": 2
           },
           {
            "h": 0,
            "value": 2,
            "w": 3
           },
           {
            "h": 1,
            "value": 1,
            "w": 3
           },
           {
            "h": 2,
            "value": 0,
            "w": 3
           },
           {
            "h": 3,
            "value": 1,
            "w": 3
           },
           {
            "h": 4,
            "value": 2,
            "w": 3
           },
           {
            "h": 5,
            "value": 0,
            "w": 3
           },
           {
            "h": 6,
            "value": 0,
            "w": 3
           },
           {
            "h": 7,
            "value": 0,
            "w": 3
           },
           {
            "h": 8,
            "value": 0,
            "w": 3
           },
           {
            "h": 9,
            "value": 0,
            "w": 3
           },
           {
            "h": 10,
            "value": 0,
            "w": 3
           },
           {
            "h": 11,
            "value": 0,
            "w": 3
           },
           {
            "h": 12,
            "value": 0,
            "w": 3
           },
           {
            "h": 13,
            "value": 0,
            "w": 3
           },
           {
            "h": 14,
            "value": 4,
            "w": 3
           },
           {
            "h": 15,
            "value": 24,
            "w": 3
           },
           {
            "h": 16,
            "value": 40,
            "w": 3
           },
           {
            "h": 17,
            "value": 39,
            "w": 3
           },
           {
            "h": 18,
            "value": 58,
            "w": 3
           },
           {
            "h": 19,
            "value": 108,
            "w": 3
           },
           {
            "h": 20,
            "value": 97,
            "w": 3
           },
           {
            "h": 21,
            "value": 0,
            "w": 3
           },
           {
            "h": 22,
            "value": 0,
            "w": 3
           },
           {
            "h": 23,
            "value": 0,
            "w": 3
           },
           {
            "h": 24,
            "value": 0,
            "w": 3
           },
           {
            "h": 25,
            "value": 0,
            "w": 3
           },
           {
            "h": 26,
            "value": 0,
            "w": 3
           },
           {
            "h": 27,
            "value": 0,
            "w": 3
           },
           {
            "h": 0,
            "value": 0,
            "w": 4
           },
           {
            "h": 1,
            "value": 1,
            "w": 4
           },
           {
            "h": 2,
            "value": 1,
            "w": 4
           },
           {
            "h": 3,
            "value": 0,
            "w": 4
           },
           {
            "h": 4,
            "value": 0,
            "w": 4
           },
           {
            "h": 5,
            "value": 0,
            "w": 4
           },
           {
            "h": 6,
            "value": 0,
            "w": 4
           },
           {
            "h": 7,
            "value": 0,
            "w": 4
           },
           {
            "h": 8,
            "value": 23,
            "w": 4
           },
           {
            "h": 9,
            "value": 57,
            "w": 4
           },
           {
            "h": 10,
            "value": 86,
            "w": 4
           },
           {
            "h": 11,
            "value": 112,
            "w": 4
           },
           {
            "h": 12,
            "value": 124,
            "w": 4
           },
           {
            "h": 13,
            "value": 131,
            "w": 4
           },
           {
            "h": 14,
            "value": 136,
            "w": 4
           },
           {
            "h": 15,
            "value": 137,
            "w": 4
           },
           {
            "h": 16,
            "value": 141,
            "w": 4
           },
           {
            "h": 17,
            "value": 129,
            "w": 4
           },
           {
            "h": 18,
            "value": 126,
            "w": 4
           },
           {
            "h": 19,
            "value": 134,
            "w": 4
           },
           {
            "h": 20,
            "value": 142,
            "w": 4
           },
           {
            "h": 21,
            "value": 0,
            "w": 4
           },
           {
            "h": 22,
            "value": 0,
            "w": 4
           },
           {
            "h": 23,
            "value": 1,
            "w": 4
           },
           {
            "h": 24,
            "value": 0,
            "w": 4
           },
           {
            "h": 25,
            "value": 0,
            "w": 4
           },
           {
            "h": 26,
            "value": 0,
            "w": 4
           },
           {
            "h": 27,
            "value": 0,
            "w": 4
           },
           {
            "h": 0,
            "value": 1,
            "w": 5
           },
           {
            "h": 1,
            "value": 1,
            "w": 5
           },
           {
            "h": 2,
            "value": 0,
            "w": 5
           },
           {
            "h": 3,
            "value": 0,
            "w": 5
           },
           {
            "h": 4,
            "value": 29,
            "w": 5
           },
           {
            "h": 5,
            "value": 65,
            "w": 5
           },
           {
            "h": 6,
            "value": 108,
            "w": 5
           },
           {
            "h": 7,
            "value": 135,
            "w": 5
           },
           {
            "h": 8,
            "value": 135,
            "w": 5
           },
           {
            "h": 9,
            "value": 124,
            "w": 5
           },
           {
            "h": 10,
            "value": 116,
            "w": 5
           },
           {
            "h": 11,
            "value": 114,
            "w": 5
           },
           {
            "h": 12,
            "value": 118,
            "w": 5
           },
           {
            "h": 13,
            "value": 115,
            "w": 5
           },
           {
            "h": 14,
            "value": 118,
            "w": 5
           },
           {
            "h": 15,
            "value": 117,
            "w": 5
           },
           {
            "h": 16,
            "value": 109,
            "w": 5
           },
           {
            "h": 17,
            "value": 102,
            "w": 5
           },
           {
            "h": 18,
            "value": 111,
            "w": 5
           },
           {
            "h": 19,
            "value": 134,
            "w": 5
           },
           {
            "h": 20,
            "value": 169,
            "w": 5
           },
           {
            "h": 21,
            "value": 12,
            "w": 5
           },
           {
            "h": 22,
            "value": 0,
            "w": 5
           },
           {
            "h": 23,
            "value": 3,
            "w": 5
           },
           {
            "h": 24,
            "value": 0,
            "w": 5
           },
           {
            "h": 25,
            "value": 3,
            "w": 5
           },
           {
            "h": 26,
            "value": 2,
            "w": 5
           },
           {
            "h": 27,
            "value": 0,
            "w": 5
           },
           {
            "h": 0,
            "value": 1,
            "w": 6
           },
           {
            "h": 1,
            "value": 0,
            "w": 6
           },
           {
            "h": 2,
            "value": 0,
            "w": 6
           },
           {
            "h": 3,
            "value": 106,
            "w": 6
           },
           {
            "h": 4,
            "value": 134,
            "w": 6
           },
           {
            "h": 5,
            "value": 131,
            "w": 6
           },
           {
            "h": 6,
            "value": 123,
            "w": 6
           },
           {
            "h": 7,
            "value": 122,
            "w": 6
           },
           {
            "h": 8,
            "value": 132,
            "w": 6
           },
           {
            "h": 9,
            "value": 131,
            "w": 6
           },
           {
            "h": 10,
            "value": 126,
            "w": 6
           },
           {
            "h": 11,
            "value": 112,
            "w": 6
           },
           {
            "h": 12,
            "value": 101,
            "w": 6
           },
           {
            "h": 13,
            "value": 97,
            "w": 6
           },
           {
            "h": 14,
            "value": 98,
            "w": 6
           },
           {
            "h": 15,
            "value": 101,
            "w": 6
           },
           {
            "h": 16,
            "value": 117,
            "w": 6
           },
           {
            "h": 17,
            "value": 147,
            "w": 6
           },
           {
            "h": 18,
            "value": 162,
            "w": 6
           },
           {
            "h": 19,
            "value": 185,
            "w": 6
           },
           {
            "h": 20,
            "value": 198,
            "w": 6
           },
           {
            "h": 21,
            "value": 46,
            "w": 6
           },
           {
            "h": 22,
            "value": 0,
            "w": 6
           },
           {
            "h": 23,
            "value": 0,
            "w": 6
           },
           {
            "h": 24,
            "value": 0,
            "w": 6
           },
           {
            "h": 25,
            "value": 0,
            "w": 6
           },
           {
            "h": 26,
            "value": 0,
            "w": 6
           },
           {
            "h": 27,
            "value": 0,
            "w": 6
           },
           {
            "h": 0,
            "value": 0,
            "w": 7
           },
           {
            "h": 1,
            "value": 0,
            "w": 7
           },
           {
            "h": 2,
            "value": 102,
            "w": 7
           },
           {
            "h": 3,
            "value": 124,
            "w": 7
           },
           {
            "h": 4,
            "value": 101,
            "w": 7
           },
           {
            "h": 5,
            "value": 105,
            "w": 7
           },
           {
            "h": 6,
            "value": 112,
            "w": 7
           },
           {
            "h": 7,
            "value": 119,
            "w": 7
           },
           {
            "h": 8,
            "value": 149,
            "w": 7
           },
           {
            "h": 9,
            "value": 160,
            "w": 7
           },
           {
            "h": 10,
            "value": 160,
            "w": 7
           },
           {
            "h": 11,
            "value": 167,
            "w": 7
           },
           {
            "h": 12,
            "value": 197,
            "w": 7
           },
           {
            "h": 13,
            "value": 198,
            "w": 7
           },
           {
            "h": 14,
            "value": 193,
            "w": 7
           },
           {
            "h": 15,
            "value": 187,
            "w": 7
           },
           {
            "h": 16,
            "value": 158,
            "w": 7
           },
           {
            "h": 17,
            "value": 119,
            "w": 7
           },
           {
            "h": 18,
            "value": 101,
            "w": 7
           },
           {
            "h": 19,
            "value": 84,
            "w": 7
           },
           {
            "h": 20,
            "value": 37,
            "w": 7
           },
           {
            "h": 21,
            "value": 2,
            "w": 7
           },
           {
            "h": 22,
            "value": 13,
            "w": 7
           },
           {
            "h": 23,
            "value": 73,
            "w": 7
           },
           {
            "h": 24,
            "value": 112,
            "w": 7
           },
           {
            "h": 25,
            "value": 142,
            "w": 7
           },
           {
            "h": 26,
            "value": 9,
            "w": 7
           },
           {
            "h": 27,
            "value": 0,
            "w": 7
           },
           {
            "h": 0,
            "value": 0,
            "w": 8
           },
           {
            "h": 1,
            "value": 13,
            "w": 8
           },
           {
            "h": 2,
            "value": 139,
            "w": 8
           },
           {
            "h": 3,
            "value": 108,
            "w": 8
           },
           {
            "h": 4,
            "value": 113,
            "w": 8
           },
           {
            "h": 5,
            "value": 101,
            "w": 8
           },
           {
            "h": 6,
            "value": 106,
            "w": 8
           },
           {
            "h": 7,
            "value": 112,
            "w": 8
           },
           {
            "h": 8,
            "value": 104,
            "w": 8
           },
           {
            "h": 9,
            "value": 103,
            "w": 8
           },
           {
            "h": 10,
            "value": 132,
            "w": 8
           },
           {
            "h": 11,
            "value": 146,
            "w": 8
           },
           {
            "h": 12,
            "value": 89,
            "w": 8
           },
           {
            "h": 13,
            "value": 47,
            "w": 8
           },
           {
            "h": 14,
            "value": 21,
            "w": 8
           },
           {
            "h": 15,
            "value": 25,
            "w": 8
           },
           {
            "h": 16,
            "value": 12,
            "w": 8
           },
           {
            "h": 17,
            "value": 0,
            "w": 8
           },
           {
            "h": 18,
            "value": 21,
            "w": 8
           },
           {
            "h": 19,
            "value": 73,
            "w": 8
           },
           {
            "h": 20,
            "value": 84,
            "w": 8
           },
           {
            "h": 21,
            "value": 119,
            "w": 8
           },
           {
            "h": 22,
            "value": 137,
            "w": 8
           },
           {
            "h": 23,
            "value": 132,
            "w": 8
           },
           {
            "h": 24,
            "value": 118,
            "w": 8
           },
           {
            "h": 25,
            "value": 148,
            "w": 8
           },
           {
            "h": 26,
            "value": 126,
            "w": 8
           },
           {
            "h": 27,
            "value": 0,
            "w": 8
           },
           {
            "h": 0,
            "value": 0,
            "w": 9
           },
           {
            "h": 1,
            "value": 79,
            "w": 9
           },
           {
            "h": 2,
            "value": 142,
            "w": 9
           },
           {
            "h": 3,
            "value": 103,
            "w": 9
           },
           {
            "h": 4,
            "value": 108,
            "w": 9
           },
           {
            "h": 5,
            "value": 108,
            "w": 9
           },
           {
            "h": 6,
            "value": 98,
            "w": 9
           },
           {
            "h": 7,
            "value": 83,
            "w": 9
           },
           {
            "h": 8,
            "value": 78,
            "w": 9
           },
           {
            "h": 9,
            "value": 96,
            "w": 9
           },
           {
            "h": 10,
            "value": 102,
            "w": 9
           },
           {
            "h": 11,
            "value": 100,
            "w": 9
           },
           {
            "h": 12,
            "value": 101,
            "w": 9
           },
           {
            "h": 13,
            "value": 108,
            "w": 9
           },
           {
            "h": 14,
            "value": 109,
            "w": 9
           },
           {
            "h": 15,
            "value": 113,
            "w": 9
           },
           {
            "h": 16,
            "value": 124,
            "w": 9
           },
           {
            "h": 17,
            "value": 120,
            "w": 9
           },
           {
            "h": 18,
            "value": 132,
            "w": 9
           },
           {
            "h": 19,
            "value": 123,
            "w": 9
           },
           {
            "h": 20,
            "value": 107,
            "w": 9
           },
           {
            "h": 21,
            "value": 102,
            "w": 9
           },
           {
            "h": 22,
            "value": 101,
            "w": 9
           },
           {
            "h": 23,
            "value": 101,
            "w": 9
           },
           {
            "h": 24,
            "value": 107,
            "w": 9
           },
           {
            "h": 25,
            "value": 112,
            "w": 9
           },
           {
            "h": 26,
            "value": 184,
            "w": 9
           },
           {
            "h": 27,
            "value": 0,
            "w": 9
           },
           {
            "h": 0,
            "value": 0,
            "w": 10
           },
           {
            "h": 1,
            "value": 128,
            "w": 10
           },
           {
            "h": 2,
            "value": 103,
            "w": 10
           },
           {
            "h": 3,
            "value": 106,
            "w": 10
           },
           {
            "h": 4,
            "value": 97,
            "w": 10
           },
           {
            "h": 5,
            "value": 100,
            "w": 10
           },
           {
            "h": 6,
            "value": 100,
            "w": 10
           },
           {
            "h": 7,
            "value": 93,
            "w": 10
           },
           {
            "h": 8,
            "value": 96,
            "w": 10
           },
           {
            "h": 9,
            "value": 101,
            "w": 10
           },
           {
            "h": 10,
            "value": 96,
            "w": 10
           },
           {
            "h": 11,
            "value": 100,
            "w": 10
           },
           {
            "h": 12,
            "value": 100,
            "w": 10
           },
           {
            "h": 13,
            "value": 96,
            "w": 10
           },
           {
            "h": 14,
            "value": 96,
            "w": 10
           },
           {
            "h": 15,
            "value": 92,
            "w": 10
           },
           {
            "h": 16,
            "value": 90,
            "w": 10
           },
           {
            "h": 17,
            "value": 90,
            "w": 10
           },
           {
            "h": 18,
            "value": 89,
            "w": 10
           },
           {
            "h": 19,
            "value": 87,
            "w": 10
           },
           {
            "h": 20,
            "value": 97,
            "w": 10
           },
           {
            "h": 21,
            "value": 109,
            "w": 10
           },
           {
            "h": 22,
            "value": 114,
            "w": 10
           },
           {
            "h": 23,
            "value": 104,
            "w": 10
           },
           {
            "h": 24,
            "value": 104,
            "w": 10
           },
           {
            "h": 25,
            "value": 105,
            "w": 10
           },
           {
            "h": 26,
            "value": 200,
            "w": 10
           },
           {
            "h": 27,
            "value": 30,
            "w": 10
           },
           {
            "h": 0,
            "value": 57,
            "w": 11
           },
           {
            "h": 1,
            "value": 201,
            "w": 11
           },
           {
            "h": 2,
            "value": 115,
            "w": 11
           },
           {
            "h": 3,
            "value": 93,
            "w": 11
           },
           {
            "h": 4,
            "value": 116,
            "w": 11
           },
           {
            "h": 5,
            "value": 104,
            "w": 11
           },
           {
            "h": 6,
            "value": 101,
            "w": 11
           },
           {
            "h": 7,
            "value": 97,
            "w": 11
           },
           {
            "h": 8,
            "value": 97,
            "w": 11
           },
           {
            "h": 9,
            "value": 109,
            "w": 11
           },
           {
            "h": 10,
            "value": 104,
            "w": 11
           },
           {
            "h": 11,
            "value": 101,
            "w": 11
           },
           {
            "h": 12,
            "value": 96,
            "w": 11
           },
           {
            "h": 13,
            "value": 96,
            "w": 11
           },
           {
            "h": 14,
            "value": 106,
            "w": 11
           },
           {
            "h": 15,
            "value": 112,
            "w": 11
           },
           {
            "h": 16,
            "value": 116,
            "w": 11
           },
           {
            "h": 17,
            "value": 119,
            "w": 11
           },
           {
            "h": 18,
            "value": 123,
            "w": 11
           },
           {
            "h": 19,
            "value": 122,
            "w": 11
           },
           {
            "h": 20,
            "value": 122,
            "w": 11
           },
           {
            "h": 21,
            "value": 123,
            "w": 11
           },
           {
            "h": 22,
            "value": 100,
            "w": 11
           },
           {
            "h": 23,
            "value": 102,
            "w": 11
           },
           {
            "h": 24,
            "value": 139,
            "w": 11
           },
           {
            "h": 25,
            "value": 101,
            "w": 11
           },
           {
            "h": 26,
            "value": 167,
            "w": 11
           },
           {
            "h": 27,
            "value": 72,
            "w": 11
           },
           {
            "h": 0,
            "value": 67,
            "w": 12
           },
           {
            "h": 1,
            "value": 162,
            "w": 12
           },
           {
            "h": 2,
            "value": 162,
            "w": 12
           },
           {
            "h": 3,
            "value": 100,
            "w": 12
           },
           {
            "h": 4,
            "value": 81,
            "w": 12
           },
           {
            "h": 5,
            "value": 97,
            "w": 12
           },
           {
            "h": 6,
            "value": 111,
            "w": 12
           },
           {
            "h": 7,
            "value": 106,
            "w": 12
           },
           {
            "h": 8,
            "value": 103,
            "w": 12
           },
           {
            "h": 9,
            "value": 109,
            "w": 12
           },
           {
            "h": 10,
            "value": 107,
            "w": 12
           },
           {
            "h": 11,
            "value": 107,
            "w": 12
           },
           {
            "h": 12,
            "value": 108,
            "w": 12
           },
           {
            "h": 13,
            "value": 106,
            "w": 12
           },
           {
            "h": 14,
            "value": 102,
            "w": 12
           },
           {
            "h": 15,
            "value": 94,
            "w": 12
           },
           {
            "h": 16,
            "value": 96,
            "w": 12
           },
           {
            "h": 17,
            "value": 101,
            "w": 12
           },
           {
            "h": 18,
            "value": 108,
            "w": 12
           },
           {
            "h": 19,
            "value": 111,
            "w": 12
           },
           {
            "h": 20,
            "value": 112,
            "w": 12
           },
           {
            "h": 21,
            "value": 96,
            "w": 12
           },
           {
            "h": 22,
            "value": 106,
            "w": 12
           },
           {
            "h": 23,
            "value": 140,
            "w": 12
           },
           {
            "h": 24,
            "value": 109,
            "w": 12
           },
           {
            "h": 25,
            "value": 83,
            "w": 12
           },
           {
            "h": 26,
            "value": 163,
            "w": 12
           },
           {
            "h": 27,
            "value": 95,
            "w": 12
           },
           {
            "h": 0,
            "value": 73,
            "w": 13
           },
           {
            "h": 1,
            "value": 161,
            "w": 13
           },
           {
            "h": 2,
            "value": 154,
            "w": 13
           },
           {
            "h": 3,
            "value": 180,
            "w": 13
           },
           {
            "h": 4,
            "value": 146,
            "w": 13
           },
           {
            "h": 5,
            "value": 74,
            "w": 13
           },
           {
            "h": 6,
            "value": 72,
            "w": 13
           },
           {
            "h": 7,
            "value": 115,
            "w": 13
           },
           {
            "h": 8,
            "value": 108,
            "w": 13
           },
           {
            "h": 9,
            "value": 111,
            "w": 13
           },
           {
            "h": 10,
            "value": 98,
            "w": 13
           },
           {
            "h": 11,
            "value": 96,
            "w": 13
           },
           {
            "h": 12,
            "value": 103,
            "w": 13
           },
           {
            "h": 13,
            "value": 119,
            "w": 13
           },
           {
            "h": 14,
            "value": 129,
            "w": 13
           },
           {
            "h": 15,
            "value": 120,
            "w": 13
           },
           {
            "h": 16,
            "value": 117,
            "w": 13
           },
           {
            "h": 17,
            "value": 116,
            "w": 13
           },
           {
            "h": 18,
            "value": 106,
            "w": 13
           },
           {
            "h": 19,
            "value": 102,
            "w": 13
           },
           {
            "h": 20,
            "value": 109,
            "w": 13
           },
           {
            "h": 21,
            "value": 116,
            "w": 13
           },
           {
            "h": 22,
            "value": 134,
            "w": 13
           },
           {
            "h": 23,
            "value": 108,
            "w": 13
           },
           {
            "h": 24,
            "value": 97,
            "w": 13
           },
           {
            "h": 25,
            "value": 125,
            "w": 13
           },
           {
            "h": 26,
            "value": 171,
            "w": 13
           },
           {
            "h": 27,
            "value": 109,
            "w": 13
           },
           {
            "h": 0,
            "value": 76,
            "w": 14
           },
           {
            "h": 1,
            "value": 173,
            "w": 14
           },
           {
            "h": 2,
            "value": 165,
            "w": 14
           },
           {
            "h": 3,
            "value": 156,
            "w": 14
           },
           {
            "h": 4,
            "value": 183,
            "w": 14
           },
           {
            "h": 5,
            "value": 206,
            "w": 14
           },
           {
            "h": 6,
            "value": 136,
            "w": 14
           },
           {
            "h": 7,
            "value": 91,
            "w": 14
           },
           {
            "h": 8,
            "value": 108,
            "w": 14
           },
           {
            "h": 9,
            "value": 108,
            "w": 14
           },
           {
            "h": 10,
            "value": 93,
            "w": 14
           },
           {
            "h": 11,
            "value": 100,
            "w": 14
           },
           {
            "h": 12,
            "value": 108,
            "w": 14
           },
           {
            "h": 13,
            "value": 102,
            "w": 14
           },
           {
            "h": 14,
            "value": 100,
            "w": 14
           },
           {
            "h": 15,
            "value": 105,
            "w": 14
           },
           {
            "h": 16,
            "value": 113,
            "w": 14
           },
           {
            "h": 17,
            "value": 106,
            "w": 14
           },
           {
            "h": 18,
            "value": 102,
            "w": 14
           },
           {
            "h": 19,
            "value": 106,
            "w": 14
           },
           {
            "h": 20,
            "value": 112,
            "w": 14
           },
           {
            "h": 21,
            "value": 122,
            "w": 14
           },
           {
            "h": 22,
            "value": 135,
            "w": 14
           },
           {
            "h": 23,
            "value": 108,
            "w": 14
           },
           {
            "h": 24,
            "value": 123,
            "w": 14
           },
           {
            "h": 25,
            "value": 123,
            "w": 14
           },
           {
            "h": 26,
            "value": 150,
            "w": 14
           },
           {
            "h": 27,
            "value": 111,
            "w": 14
           },
           {
            "h": 0,
            "value": 76,
            "w": 15
           },
           {
            "h": 1,
            "value": 192,
            "w": 15
           },
           {
            "h": 2,
            "value": 153,
            "w": 15
           },
           {
            "h": 3,
            "value": 147,
            "w": 15
           },
           {
            "h": 4,
            "value": 164,
            "w": 15
           },
           {
            "h": 5,
            "value": 174,
            "w": 15
           },
           {
            "h": 6,
            "value": 132,
            "w": 15
           },
           {
            "h": 7,
            "value": 109,
            "w": 15
           },
           {
            "h": 8,
            "value": 115,
            "w": 15
           },
           {
            "h": 9,
            "value": 114,
            "w": 15
           },
           {
            "h": 10,
            "value": 123,
            "w": 15
           },
           {
            "h": 11,
            "value": 126,
            "w": 15
           },
           {
            "h": 12,
            "value": 122,
            "w": 15
           },
           {
            "h": 13,
            "value": 120,
            "w": 15
           },
           {
            "h": 14,
            "value": 119,
            "w": 15
           },
           {
            "h": 15,
            "value": 127,
            "w": 15
           },
           {
            "h": 16,
            "value": 136,
            "w": 15
           },
           {
            "h": 17,
            "value": 127,
            "w": 15
           },
           {
            "h": 18,
            "value": 126,
            "w": 15
           },
           {
            "h": 19,
            "value": 128,
            "w": 15
           },
           {
            "h": 20,
            "value": 126,
            "w": 15
           },
           {
            "h": 21,
            "value": 132,
            "w": 15
           },
           {
            "h": 22,
            "value": 129,
            "w": 15
           },
           {
            "h": 23,
            "value": 131,
            "w": 15
           },
           {
            "h": 24,
            "value": 138,
            "w": 15
           },
           {
            "h": 25,
            "value": 143,
            "w": 15
           },
           {
            "h": 26,
            "value": 167,
            "w": 15
           },
           {
            "h": 27,
            "value": 111,
            "w": 15
           },
           {
            "h": 0,
            "value": 83,
            "w": 16
           },
           {
            "h": 1,
            "value": 172,
            "w": 16
           },
           {
            "h": 2,
            "value": 139,
            "w": 16
           },
           {
            "h": 3,
            "value": 138,
            "w": 16
           },
           {
            "h": 4,
            "value": 111,
            "w": 16
           },
           {
            "h": 5,
            "value": 115,
            "w": 16
           },
           {
            "h": 6,
            "value": 112,
            "w": 16
           },
           {
            "h": 7,
            "value": 83,
            "w": 16
           },
           {
            "h": 8,
            "value": 84,
            "w": 16
           },
           {
            "h": 9,
            "value": 106,
            "w": 16
           },
           {
            "h": 10,
            "value": 116,
            "w": 16
           },
           {
            "h": 11,
            "value": 103,
            "w": 16
           },
           {
            "h": 12,
            "value": 107,
            "w": 16
           },
           {
            "h": 13,
            "value": 103,
            "w": 16
           },
           {
            "h": 14,
            "value": 102,
            "w": 16
           },
           {
            "h": 15,
            "value": 97,
            "w": 16
           },
           {
            "h": 16,
            "value": 94,
            "w": 16
           },
           {
            "h": 17,
            "value": 102,
            "w": 16
           },
           {
            "h": 18,
            "value": 111,
            "w": 16
           },
           {
            "h": 19,
            "value": 114,
            "w": 16
           },
           {
            "h": 20,
            "value": 102,
            "w": 16
           },
           {
            "h": 21,
            "value": 106,
            "w": 16
           },
           {
            "h": 22,
            "value": 104,
            "w": 16
           },
           {
            "h": 23,
            "value": 106,
            "w": 16
           },
           {
            "h": 24,
            "value": 107,
            "w": 16
           },
           {
            "h": 25,
            "value": 104,
            "w": 16
           },
           {
            "h": 26,
            "value": 156,
            "w": 16
           },
           {
            "h": 27,
            "value": 106,
            "w": 16
           },
           {
            "h": 0,
            "value": 62,
            "w": 17
           },
           {
            "h": 1,
            "value": 181,
            "w": 17
           },
           {
            "h": 2,
            "value": 129,
            "w": 17
           },
           {
            "h": 3,
            "value": 85,
            "w": 17
           },
           {
            "h": 4,
            "value": 146,
            "w": 17
           },
           {
            "h": 5,
            "value": 150,
            "w": 17
           },
           {
            "h": 6,
            "value": 115,
            "w": 17
           },
           {
            "h": 7,
            "value": 109,
            "w": 17
           },
           {
            "h": 8,
            "value": 114,
            "w": 17
           },
           {
            "h": 9,
            "value": 113,
            "w": 17
           },
           {
            "h": 10,
            "value": 112,
            "w": 17
           },
           {
            "h": 11,
            "value": 120,
            "w": 17
           },
           {
            "h": 12,
            "value": 127,
            "w": 17
           },
           {
            "h": 13,
            "value": 123,
            "w": 17
           },
           {
            "h": 14,
            "value": 118,
            "w": 17
           },
           {
            "h": 15,
            "value": 115,
            "w": 17
           },
           {
            "h": 16,
            "value": 111,
            "w": 17
           },
           {
            "h": 17,
            "value": 114,
            "w": 17
           },
           {
            "h": 18,
            "value": 116,
            "w": 17
           },
           {
            "h": 19,
            "value": 109,
            "w": 17
           },
           {
            "h": 20,
            "value": 96,
            "w": 17
           },
           {
            "h": 21,
            "value": 106,
            "w": 17
           },
           {
            "h": 22,
            "value": 111,
            "w": 17
           },
           {
            "h": 23,
            "value": 119,
            "w": 17
           },
           {
            "h": 24,
            "value": 127,
            "w": 17
           },
           {
            "h": 25,
            "value": 115,
            "w": 17
           },
           {
            "h": 26,
            "value": 174,
            "w": 17
           },
           {
            "h": 27,
            "value": 101,
            "w": 17
           },
           {
            "h": 0,
            "value": 0,
            "w": 18
           },
           {
            "h": 1,
            "value": 184,
            "w": 18
           },
           {
            "h": 2,
            "value": 150,
            "w": 18
           },
           {
            "h": 3,
            "value": 157,
            "w": 18
           },
           {
            "h": 4,
            "value": 131,
            "w": 18
           },
           {
            "h": 5,
            "value": 108,
            "w": 18
           },
           {
            "h": 6,
            "value": 109,
            "w": 18
           },
           {
            "h": 7,
            "value": 125,
            "w": 18
           },
           {
            "h": 8,
            "value": 149,
            "w": 18
           },
           {
            "h": 9,
            "value": 156,
            "w": 18
           },
           {
            "h": 10,
            "value": 149,
            "w": 18
           },
           {
            "h": 11,
            "value": 141,
            "w": 18
           },
           {
            "h": 12,
            "value": 139,
            "w": 18
           },
           {
            "h": 13,
            "value": 140,
            "w": 18
           },
           {
            "h": 14,
            "value": 141,
            "w": 18
           },
           {
            "h": 15,
            "value": 142,
            "w": 18
           },
           {
            "h": 16,
            "value": 147,
            "w": 18
           },
           {
            "h": 17,
            "value": 146,
            "w": 18
           },
           {
            "h": 18,
            "value": 141,
            "w": 18
           },
           {
            "h": 19,
            "value": 134,
            "w": 18
           },
           {
            "h": 20,
            "value": 131,
            "w": 18
           },
           {
            "h": 21,
            "value": 129,
            "w": 18
           },
           {
            "h": 22,
            "value": 123,
            "w": 18
           },
           {
            "h": 23,
            "value": 113,
            "w": 18
           },
           {
            "h": 24,
            "value": 120,
            "w": 18
           },
           {
            "h": 25,
            "value": 100,
            "w": 18
           },
           {
            "h": 26,
            "value": 197,
            "w": 18
           },
           {
            "h": 27,
            "value": 71,
            "w": 18
           },
           {
            "h": 0,
            "value": 0,
            "w": 19
           },
           {
            "h": 1,
            "value": 108,
            "w": 19
           },
           {
            "h": 2,
            "value": 138,
            "w": 19
           },
           {
            "h": 3,
            "value": 114,
            "w": 19
           },
           {
            "h": 4,
            "value": 122,
            "w": 19
           },
           {
            "h": 5,
            "value": 119,
            "w": 19
           },
           {
            "h": 6,
            "value": 142,
            "w": 19
           },
           {
            "h": 7,
            "value": 165,
            "w": 19
           },
           {
            "h": 8,
            "value": 158,
            "w": 19
           },
           {
            "h": 9,
            "value": 163,
            "w": 19
           },
           {
            "h": 10,
            "value": 160,
            "w": 19
           },
           {
            "h": 11,
            "value": 158,
            "w": 19
           },
           {
            "h": 12,
            "value": 150,
            "w": 19
           },
           {
            "h": 13,
            "value": 150,
            "w": 19
           },
           {
            "h": 14,
            "value": 153,
            "w": 19
           },
           {
            "h": 15,
            "value": 150,
            "w": 19
           },
           {
            "h": 16,
            "value": 163,
            "w": 19
           },
           {
            "h": 17,
            "value": 180,
            "w": 19
           },
           {
            "h": 18,
            "value": 178,
            "w": 19
           },
           {
            "h": 19,
            "value": 174,
            "w": 19
           },
           {
            "h": 20,
            "value": 172,
            "w": 19
           },
           {
            "h": 21,
            "value": 151,
            "w": 19
           },
           {
            "h": 22,
            "value": 151,
            "w": 19
           },
           {
            "h": 23,
            "value": 142,
            "w": 19
           },
           {
            "h": 24,
            "value": 136,
            "w": 19
           },
           {
            "h": 25,
            "value": 126,
            "w": 19
           },
           {
            "h": 26,
            "value": 182,
            "w": 19
           },
           {
            "h": 27,
            "value": 12,
            "w": 19
           },
           {
            "h": 0,
            "value": 0,
            "w": 20
           },
           {
            "h": 1,
            "value": 30,
            "w": 20
           },
           {
            "h": 2,
            "value": 171,
            "w": 20
           },
           {
            "h": 3,
            "value": 124,
            "w": 20
           },
           {
            "h": 4,
            "value": 132,
            "w": 20
           },
           {
            "h": 5,
            "value": 146,
            "w": 20
           },
           {
            "h": 6,
            "value": 150,
            "w": 20
           },
           {
            "h": 7,
            "value": 140,
            "w": 20
           },
           {
            "h": 8,
            "value": 147,
            "w": 20
           },
           {
            "h": 9,
            "value": 156,
            "w": 20
           },
           {
            "h": 10,
            "value": 181,
            "w": 20
           },
           {
            "h": 11,
            "value": 167,
            "w": 20
           },
           {
            "h": 12,
            "value": 119,
            "w": 20
           },
           {
            "h": 13,
            "value": 81,
            "w": 20
           },
           {
            "h": 14,
            "value": 45,
            "w": 20
           },
           {
            "h": 15,
            "value": 19,
            "w": 20
           },
           {
            "h": 16,
            "value": 31,
            "w": 20
           },
           {
            "h": 17,
            "value": 20,
            "w": 20
           },
           {
            "h": 18,
            "value": 50,
            "w": 20
           },
           {
            "h": 19,
            "value": 97,
            "w": 20
           },
           {
            "h": 20,
            "value": 128,
            "w": 20
           },
           {
            "h": 21,
            "value": 184,
            "w": 20
           },
           {
            "h": 22,
            "value": 194,
            "w": 20
           },
           {
            "h": 23,
            "value": 167,
            "w": 20
           },
           {
            "h": 24,
            "value": 161,
            "w": 20
           },
           {
            "h": 25,
            "value": 168,
            "w": 20
           },
           {
            "h": 26,
            "value": 162,
            "w": 20
           },
           {
            "h": 27,
            "value": 0,
            "w": 20
           },
           {
            "h": 0,
            "value": 0,
            "w": 21
           },
           {
            "h": 1,
            "value": 0,
            "w": 21
           },
           {
            "h": 2,
            "value": 161,
            "w": 21
           },
           {
            "h": 3,
            "value": 154,
            "w": 21
           },
           {
            "h": 4,
            "value": 145,
            "w": 21
           },
           {
            "h": 5,
            "value": 152,
            "w": 21
           },
           {
            "h": 6,
            "value": 160,
            "w": 21
           },
           {
            "h": 7,
            "value": 193,
            "w": 21
           },
           {
            "h": 8,
            "value": 209,
            "w": 21
           },
           {
            "h": 9,
            "value": 196,
            "w": 21
           },
           {
            "h": 10,
            "value": 186,
            "w": 21
           },
           {
            "h": 11,
            "value": 187,
            "w": 21
           },
           {
            "h": 12,
            "value": 196,
            "w": 21
           },
           {
            "h": 13,
            "value": 206,
            "w": 21
           },
           {
            "h": 14,
            "value": 216,
            "w": 21
           },
           {
            "h": 15,
            "value": 213,
            "w": 21
           },
           {
            "h": 16,
            "value": 191,
            "w": 21
           },
           {
            "h": 17,
            "value": 146,
            "w": 21
           },
           {
            "h": 18,
            "value": 112,
            "w": 21
           },
           {
            "h": 19,
            "value": 98,
            "w": 21
           },
           {
            "h": 20,
            "value": 51,
            "w": 21
           },
           {
            "h": 21,
            "value": 26,
            "w": 21
           },
           {
            "h": 22,
            "value": 74,
            "w": 21
           },
           {
            "h": 23,
            "value": 135,
            "w": 21
           },
           {
            "h": 24,
            "value": 159,
            "w": 21
           },
           {
            "h": 25,
            "value": 178,
            "w": 21
           },
           {
            "h": 26,
            "value": 61,
            "w": 21
           },
           {
            "h": 27,
            "value": 0,
            "w": 21
           },
           {
            "h": 0,
            "value": 0,
            "w": 22
           },
           {
            "h": 1,
            "value": 0,
            "w": 22
           },
           {
            "h": 2,
            "value": 26,
            "w": 22
           },
           {
            "h": 3,
            "value": 157,
            "w": 22
           },
           {
            "h": 4,
            "value": 169,
            "w": 22
           },
           {
            "h": 5,
            "value": 162,
            "w": 22
           },
           {
            "h": 6,
            "value": 162,
            "w": 22
           },
           {
            "h": 7,
            "value": 160,
            "w": 22
           },
           {
            "h": 8,
            "value": 160,
            "w": 22
           },
           {
            "h": 9,
            "value": 167,
            "w": 22
           },
           {
            "h": 10,
            "value": 162,
            "w": 22
           },
           {
            "h": 11,
            "value": 147,
            "w": 22
           },
           {
            "h": 12,
            "value": 145,
            "w": 22
           },
           {
            "h": 13,
            "value": 146,
            "w": 22
           },
           {
            "h": 14,
            "value": 148,
            "w": 22
           },
           {
            "h": 15,
            "value": 148,
            "w": 22
           },
           {
            "h": 16,
            "value": 146,
            "w": 22
           },
           {
            "h": 17,
            "value": 159,
            "w": 22
           },
           {
            "h": 18,
            "value": 169,
            "w": 22
           },
           {
            "h": 19,
            "value": 160,
            "w": 22
           },
           {
            "h": 20,
            "value": 254,
            "w": 22
           },
           {
            "h": 21,
            "value": 20,
            "w": 22
           },
           {
            "h": 22,
            "value": 0,
            "w": 22
           },
           {
            "h": 23,
            "value": 0,
            "w": 22
           },
           {
            "h": 24,
            "value": 0,
            "w": 22
           },
           {
            "h": 25,
            "value": 7,
            "w": 22
           },
           {
            "h": 26,
            "value": 0,
            "w": 22
           },
           {
            "h": 27,
            "value": 0,
            "w": 22
           },
           {
            "h": 0,
            "value": 0,
            "w": 23
           },
           {
            "h": 1,
            "value": 0,
            "w": 23
           },
           {
            "h": 2,
            "value": 0,
            "w": 23
           },
           {
            "h": 3,
            "value": 0,
            "w": 23
           },
           {
            "h": 4,
            "value": 93,
            "w": 23
           },
           {
            "h": 5,
            "value": 141,
            "w": 23
           },
           {
            "h": 6,
            "value": 195,
            "w": 23
           },
           {
            "h": 7,
            "value": 176,
            "w": 23
           },
           {
            "h": 8,
            "value": 178,
            "w": 23
           },
           {
            "h": 9,
            "value": 174,
            "w": 23
           },
           {
            "h": 10,
            "value": 162,
            "w": 23
           },
           {
            "h": 11,
            "value": 148,
            "w": 23
           },
           {
            "h": 12,
            "value": 142,
            "w": 23
           },
           {
            "h": 13,
            "value": 135,
            "w": 23
           },
           {
            "h": 14,
            "value": 139,
            "w": 23
           },
           {
            "h": 15,
            "value": 131,
            "w": 23
           },
           {
            "h": 16,
            "value": 134,
            "w": 23
           },
           {
            "h": 17,
            "value": 129,
            "w": 23
           },
           {
            "h": 18,
            "value": 138,
            "w": 23
           },
           {
            "h": 19,
            "value": 147,
            "w": 23
           },
           {
            "h": 20,
            "value": 168,
            "w": 23
           },
           {
            "h": 21,
            "value": 8,
            "w": 23
           },
           {
            "h": 22,
            "value": 0,
            "w": 23
           },
           {
            "h": 23,
            "value": 1,
            "w": 23
           },
           {
            "h": 24,
            "value": 0,
            "w": 23
           },
           {
            "h": 25,
            "value": 0,
            "w": 23
           },
           {
            "h": 26,
            "value": 0,
            "w": 23
           },
           {
            "h": 27,
            "value": 0,
            "w": 23
           },
           {
            "h": 0,
            "value": 0,
            "w": 24
           },
           {
            "h": 1,
            "value": 0,
            "w": 24
           },
           {
            "h": 2,
            "value": 0,
            "w": 24
           },
           {
            "h": 3,
            "value": 0,
            "w": 24
           },
           {
            "h": 4,
            "value": 0,
            "w": 24
           },
           {
            "h": 5,
            "value": 0,
            "w": 24
           },
           {
            "h": 6,
            "value": 0,
            "w": 24
           },
           {
            "h": 7,
            "value": 6,
            "w": 24
           },
           {
            "h": 8,
            "value": 52,
            "w": 24
           },
           {
            "h": 9,
            "value": 85,
            "w": 24
           },
           {
            "h": 10,
            "value": 123,
            "w": 24
           },
           {
            "h": 11,
            "value": 170,
            "w": 24
           },
           {
            "h": 12,
            "value": 179,
            "w": 24
           },
           {
            "h": 13,
            "value": 194,
            "w": 24
           },
           {
            "h": 14,
            "value": 205,
            "w": 24
           },
           {
            "h": 15,
            "value": 204,
            "w": 24
           },
           {
            "h": 16,
            "value": 206,
            "w": 24
           },
           {
            "h": 17,
            "value": 204,
            "w": 24
           },
           {
            "h": 18,
            "value": 164,
            "w": 24
           },
           {
            "h": 19,
            "value": 175,
            "w": 24
           },
           {
            "h": 20,
            "value": 164,
            "w": 24
           },
           {
            "h": 21,
            "value": 0,
            "w": 24
           },
           {
            "h": 22,
            "value": 0,
            "w": 24
           },
           {
            "h": 23,
            "value": 0,
            "w": 24
           },
           {
            "h": 24,
            "value": 1,
            "w": 24
           },
           {
            "h": 25,
            "value": 2,
            "w": 24
           },
           {
            "h": 26,
            "value": 0,
            "w": 24
           },
           {
            "h": 27,
            "value": 0,
            "w": 24
           },
           {
            "h": 0,
            "value": 0,
            "w": 25
           },
           {
            "h": 1,
            "value": 0,
            "w": 25
           },
           {
            "h": 2,
            "value": 0,
            "w": 25
           },
           {
            "h": 3,
            "value": 0,
            "w": 25
           },
           {
            "h": 4,
            "value": 1,
            "w": 25
           },
           {
            "h": 5,
            "value": 0,
            "w": 25
           },
           {
            "h": 6,
            "value": 0,
            "w": 25
           },
           {
            "h": 7,
            "value": 0,
            "w": 25
           },
           {
            "h": 8,
            "value": 0,
            "w": 25
           },
           {
            "h": 9,
            "value": 0,
            "w": 25
           },
           {
            "h": 10,
            "value": 0,
            "w": 25
           },
           {
            "h": 11,
            "value": 0,
            "w": 25
           },
           {
            "h": 12,
            "value": 0,
            "w": 25
           },
           {
            "h": 13,
            "value": 0,
            "w": 25
           },
           {
            "h": 14,
            "value": 12,
            "w": 25
           },
           {
            "h": 15,
            "value": 36,
            "w": 25
           },
           {
            "h": 16,
            "value": 58,
            "w": 25
           },
           {
            "h": 17,
            "value": 70,
            "w": 25
           },
           {
            "h": 18,
            "value": 84,
            "w": 25
           },
           {
            "h": 19,
            "value": 135,
            "w": 25
           },
           {
            "h": 20,
            "value": 111,
            "w": 25
           },
           {
            "h": 21,
            "value": 0,
            "w": 25
           },
           {
            "h": 22,
            "value": 0,
            "w": 25
           },
           {
            "h": 23,
            "value": 0,
            "w": 25
           },
           {
            "h": 24,
            "value": 0,
            "w": 25
           },
           {
            "h": 25,
            "value": 0,
            "w": 25
           },
           {
            "h": 26,
            "value": 0,
            "w": 25
           },
           {
            "h": 27,
            "value": 0,
            "w": 25
           },
           {
            "h": 0,
            "value": 0,
            "w": 26
           },
           {
            "h": 1,
            "value": 0,
            "w": 26
           },
           {
            "h": 2,
            "value": 0,
            "w": 26
           },
           {
            "h": 3,
            "value": 0,
            "w": 26
           },
           {
            "h": 4,
            "value": 0,
            "w": 26
           },
           {
            "h": 5,
            "value": 0,
            "w": 26
           },
           {
            "h": 6,
            "value": 0,
            "w": 26
           },
           {
            "h": 7,
            "value": 0,
            "w": 26
           },
           {
            "h": 8,
            "value": 0,
            "w": 26
           },
           {
            "h": 9,
            "value": 0,
            "w": 26
           },
           {
            "h": 10,
            "value": 0,
            "w": 26
           },
           {
            "h": 11,
            "value": 0,
            "w": 26
           },
           {
            "h": 12,
            "value": 0,
            "w": 26
           },
           {
            "h": 13,
            "value": 0,
            "w": 26
           },
           {
            "h": 14,
            "value": 0,
            "w": 26
           },
           {
            "h": 15,
            "value": 0,
            "w": 26
           },
           {
            "h": 16,
            "value": 0,
            "w": 26
           },
           {
            "h": 17,
            "value": 0,
            "w": 26
           },
           {
            "h": 18,
            "value": 0,
            "w": 26
           },
           {
            "h": 19,
            "value": 0,
            "w": 26
           },
           {
            "h": 20,
            "value": 0,
            "w": 26
           },
           {
            "h": 21,
            "value": 0,
            "w": 26
           },
           {
            "h": 22,
            "value": 0,
            "w": 26
           },
           {
            "h": 23,
            "value": 0,
            "w": 26
           },
           {
            "h": 24,
            "value": 0,
            "w": 26
           },
           {
            "h": 25,
            "value": 0,
            "w": 26
           },
           {
            "h": 26,
            "value": 0,
            "w": 26
           },
           {
            "h": 27,
            "value": 0,
            "w": 26
           },
           {
            "h": 0,
            "value": 0,
            "w": 27
           },
           {
            "h": 1,
            "value": 0,
            "w": 27
           },
           {
            "h": 2,
            "value": 0,
            "w": 27
           },
           {
            "h": 3,
            "value": 0,
            "w": 27
           },
           {
            "h": 4,
            "value": 0,
            "w": 27
           },
           {
            "h": 5,
            "value": 0,
            "w": 27
           },
           {
            "h": 6,
            "value": 0,
            "w": 27
           },
           {
            "h": 7,
            "value": 0,
            "w": 27
           },
           {
            "h": 8,
            "value": 0,
            "w": 27
           },
           {
            "h": 9,
            "value": 0,
            "w": 27
           },
           {
            "h": 10,
            "value": 0,
            "w": 27
           },
           {
            "h": 11,
            "value": 0,
            "w": 27
           },
           {
            "h": 12,
            "value": 0,
            "w": 27
           },
           {
            "h": 13,
            "value": 0,
            "w": 27
           },
           {
            "h": 14,
            "value": 0,
            "w": 27
           },
           {
            "h": 15,
            "value": 0,
            "w": 27
           },
           {
            "h": 16,
            "value": 0,
            "w": 27
           },
           {
            "h": 17,
            "value": 0,
            "w": 27
           },
           {
            "h": 18,
            "value": 0,
            "w": 27
           },
           {
            "h": 19,
            "value": 0,
            "w": 27
           },
           {
            "h": 20,
            "value": 0,
            "w": 27
           },
           {
            "h": 21,
            "value": 0,
            "w": 27
           },
           {
            "h": 22,
            "value": 0,
            "w": 27
           },
           {
            "h": 23,
            "value": 0,
            "w": 27
           },
           {
            "h": 24,
            "value": 0,
            "w": 27
           },
           {
            "h": 25,
            "value": 0,
            "w": 27
           },
           {
            "h": 26,
            "value": 0,
            "w": 27
           },
           {
            "h": 27,
            "value": 0,
            "w": 27
           }
          ]
         },
         "encoding": {
          "color": {
           "field": "value",
           "legend": null,
           "scale": {
            "scheme": "greys"
           },
           "sort": "descending",
           "type": "quantitative"
          },
          "tooltip": [
           {
            "field": "value",
            "type": "quantitative"
           }
          ],
          "x": {
           "axis": null,
           "field": "w",
           "type": "nominal"
          },
          "y": {
           "axis": null,
           "field": "h",
           "type": "nominal"
          }
         },
         "height": 350,
         "mark": "rect",
         "title": "Shirt",
         "width": 350
        },
        {
         "data": {
          "values": [
           {
            "actual": false,
            "labels": "T-shirt/top",
            "proba": 0.29501280188560486
           },
           {
            "actual": false,
            "labels": "Trouser",
            "proba": 0.0031450556125491858
           },
           {
            "actual": false,
            "labels": "Pullover",
            "proba": 0.13676173985004425
           },
           {
            "actual": false,
            "labels": "Dress",
            "proba": 0.020361993461847305
           },
           {
            "actual": false,
            "labels": "Coat",
            "proba": 0.006634977646172047
           },
           {
            "actual": false,
            "labels": "Sandal",
            "proba": 4.217798414174467e-05
           },
           {
            "actual": true,
            "labels": "Shirt",
            "proba": 0.5308792591094971
           },
           {
            "actual": false,
            "labels": "Sneaker",
            "proba": 1.5759258531033993e-05
           },
           {
            "actual": false,
            "labels": "Bag",
            "proba": 0.007065336219966412
           },
           {
            "actual": false,
            "labels": "Ankle boot",
            "proba": 8.091892232187092e-05
           }
          ]
         },
         "encoding": {
          "color": {
           "field": "actual",
           "type": "nominal"
          },
          "tooltip": [
           {
            "field": "proba",
            "type": "quantitative"
           }
          ],
          "x": {
           "field": "proba",
           "scale": {
            "domain": [
             0,
             1
            ]
           },
           "type": "quantitative"
          },
          "y": {
           "field": "labels",
           "type": "nominal"
          }
         },
         "height": 350,
         "mark": "bar",
         "title": "Prediction: Shirt",
         "width": 350
        }
       ]
      },
      "image/png": "[encoded data removed]",
      "text/plain": [
       "<VegaLite 2 object>\n",
       "\n",
       "If you see this message, it means the renderer has not been properly enabled\n",
       "for the frontend that you are using. For more information, see\n",
       "https://altair-viz.github.io/user_guide/troubleshooting.html\n"
      ]
     },
     "execution_count": 22,
     "metadata": {},
     "output_type": "execute_result"
    }
   ],
   "source": [
    "vis.imshow(x_test[i], labels[y_test[i]]) | vis.predict(proba_conv[i], y_test[i], labels)"
   ]
  },
  {
   "cell_type": "markdown",
   "metadata": {},
   "source": [
    "## Model 2: Convulation + Max Pooling"
   ]
  },
  {
   "cell_type": "markdown",
   "metadata": {},
   "source": [
    "**Step 2: Craft the feature transfomation and classifier model **"
   ]
  },
  {
   "cell_type": "code",
   "execution_count": 34,
   "metadata": {},
   "outputs": [],
   "source": [
    "model_pooling_conv = Sequential()\n",
    "model_pooling_conv.add(Conv2D(32, kernel_size=(3, 3), activation='relu', input_shape=(28,28,1)))\n",
    "model_pooling_conv.add(MaxPooling2D(pool_size=(2, 2)))\n",
    "model_pooling_conv.add(Conv2D(64, (3, 3), activation='relu'))\n",
    "model_pooling_conv.add(MaxPooling2D(pool_size=(2, 2)))\n",
    "model_pooling_conv.add(Flatten())\n",
    "model_pooling_conv.add(Dense(128, activation='relu'))\n",
    "model_pooling_conv.add(Dense(10, activation='softmax'))"
   ]
  },
  {
   "cell_type": "code",
   "execution_count": 35,
   "metadata": {},
   "outputs": [
    {
     "name": "stdout",
     "output_type": "stream",
     "text": [
      "_________________________________________________________________\n",
      "Layer (type)                 Output Shape              Param #   \n",
      "=================================================================\n",
      "conv2d_10 (Conv2D)           (None, 26, 26, 32)        320       \n",
      "_________________________________________________________________\n",
      "max_pooling2d_4 (MaxPooling2 (None, 13, 13, 32)        0         \n",
      "_________________________________________________________________\n",
      "conv2d_11 (Conv2D)           (None, 11, 11, 64)        18496     \n",
      "_________________________________________________________________\n",
      "max_pooling2d_5 (MaxPooling2 (None, 5, 5, 64)          0         \n",
      "_________________________________________________________________\n",
      "flatten_6 (Flatten)          (None, 1600)              0         \n",
      "_________________________________________________________________\n",
      "dense_11 (Dense)             (None, 128)               204928    \n",
      "_________________________________________________________________\n",
      "dense_12 (Dense)             (None, 10)                1290      \n",
      "=================================================================\n",
      "Total params: 225,034\n",
      "Trainable params: 225,034\n",
      "Non-trainable params: 0\n",
      "_________________________________________________________________\n"
     ]
    }
   ],
   "source": [
    "model_pooling_conv.summary()"
   ]
  },
  {
   "cell_type": "markdown",
   "metadata": {},
   "source": [
    "**Step 3: Compile and fit the model**"
   ]
  },
  {
   "cell_type": "code",
   "execution_count": 36,
   "metadata": {},
   "outputs": [],
   "source": [
    "model_pooling_conv.compile(loss='categorical_crossentropy', optimizer=\"sgd\", metrics=['accuracy'])"
   ]
  },
  {
   "cell_type": "code",
   "execution_count": 37,
   "metadata": {},
   "outputs": [
    {
     "name": "stdout",
     "output_type": "stream",
     "text": [
      "Train on 60000 samples, validate on 10000 samples\n",
      "Epoch 1/5\n",
      " - 60s - loss: 1.4402 - acc: 0.5333 - val_loss: 1.0207 - val_acc: 0.6643\n",
      "Epoch 2/5\n",
      " - 54s - loss: 0.7685 - acc: 0.7158 - val_loss: 0.7132 - val_acc: 0.7483\n",
      "Epoch 3/5\n"
     ]
    },
    {
     "ename": "KeyboardInterrupt",
     "evalue": "",
     "output_type": "error",
     "traceback": [
      "\u001b[0;31m---------------------------------------------------------------------------\u001b[0m",
      "\u001b[0;31mKeyboardInterrupt\u001b[0m                         Traceback (most recent call last)",
      "\u001b[0;32m<timed exec>\u001b[0m in \u001b[0;36m<module>\u001b[0;34m()\u001b[0m\n",
      "\u001b[0;32m~/miniconda3/lib/python3.6/site-packages/keras/models.py\u001b[0m in \u001b[0;36mfit\u001b[0;34m(self, x, y, batch_size, epochs, verbose, callbacks, validation_split, validation_data, shuffle, class_weight, sample_weight, initial_epoch, steps_per_epoch, validation_steps, **kwargs)\u001b[0m\n\u001b[1;32m    961\u001b[0m                               \u001b[0minitial_epoch\u001b[0m\u001b[0;34m=\u001b[0m\u001b[0minitial_epoch\u001b[0m\u001b[0;34m,\u001b[0m\u001b[0;34m\u001b[0m\u001b[0m\n\u001b[1;32m    962\u001b[0m                               \u001b[0msteps_per_epoch\u001b[0m\u001b[0;34m=\u001b[0m\u001b[0msteps_per_epoch\u001b[0m\u001b[0;34m,\u001b[0m\u001b[0;34m\u001b[0m\u001b[0m\n\u001b[0;32m--> 963\u001b[0;31m                               validation_steps=validation_steps)\n\u001b[0m\u001b[1;32m    964\u001b[0m \u001b[0;34m\u001b[0m\u001b[0m\n\u001b[1;32m    965\u001b[0m     def evaluate(self, x=None, y=None,\n",
      "\u001b[0;32m~/miniconda3/lib/python3.6/site-packages/keras/engine/training.py\u001b[0m in \u001b[0;36mfit\u001b[0;34m(self, x, y, batch_size, epochs, verbose, callbacks, validation_split, validation_data, shuffle, class_weight, sample_weight, initial_epoch, steps_per_epoch, validation_steps, **kwargs)\u001b[0m\n\u001b[1;32m   1710\u001b[0m                               \u001b[0minitial_epoch\u001b[0m\u001b[0;34m=\u001b[0m\u001b[0minitial_epoch\u001b[0m\u001b[0;34m,\u001b[0m\u001b[0;34m\u001b[0m\u001b[0m\n\u001b[1;32m   1711\u001b[0m                               \u001b[0msteps_per_epoch\u001b[0m\u001b[0;34m=\u001b[0m\u001b[0msteps_per_epoch\u001b[0m\u001b[0;34m,\u001b[0m\u001b[0;34m\u001b[0m\u001b[0m\n\u001b[0;32m-> 1712\u001b[0;31m                               validation_steps=validation_steps)\n\u001b[0m\u001b[1;32m   1713\u001b[0m \u001b[0;34m\u001b[0m\u001b[0m\n\u001b[1;32m   1714\u001b[0m     def evaluate(self, x=None, y=None,\n",
      "\u001b[0;32m~/miniconda3/lib/python3.6/site-packages/keras/engine/training.py\u001b[0m in \u001b[0;36m_fit_loop\u001b[0;34m(self, f, ins, out_labels, batch_size, epochs, verbose, callbacks, val_f, val_ins, shuffle, callback_metrics, initial_epoch, steps_per_epoch, validation_steps)\u001b[0m\n\u001b[1;32m   1233\u001b[0m                         \u001b[0mins_batch\u001b[0m\u001b[0;34m[\u001b[0m\u001b[0mi\u001b[0m\u001b[0;34m]\u001b[0m \u001b[0;34m=\u001b[0m \u001b[0mins_batch\u001b[0m\u001b[0;34m[\u001b[0m\u001b[0mi\u001b[0m\u001b[0;34m]\u001b[0m\u001b[0;34m.\u001b[0m\u001b[0mtoarray\u001b[0m\u001b[0;34m(\u001b[0m\u001b[0;34m)\u001b[0m\u001b[0;34m\u001b[0m\u001b[0m\n\u001b[1;32m   1234\u001b[0m \u001b[0;34m\u001b[0m\u001b[0m\n\u001b[0;32m-> 1235\u001b[0;31m                     \u001b[0mouts\u001b[0m \u001b[0;34m=\u001b[0m \u001b[0mf\u001b[0m\u001b[0;34m(\u001b[0m\u001b[0mins_batch\u001b[0m\u001b[0;34m)\u001b[0m\u001b[0;34m\u001b[0m\u001b[0m\n\u001b[0m\u001b[1;32m   1236\u001b[0m                     \u001b[0;32mif\u001b[0m \u001b[0;32mnot\u001b[0m \u001b[0misinstance\u001b[0m\u001b[0;34m(\u001b[0m\u001b[0mouts\u001b[0m\u001b[0;34m,\u001b[0m \u001b[0mlist\u001b[0m\u001b[0;34m)\u001b[0m\u001b[0;34m:\u001b[0m\u001b[0;34m\u001b[0m\u001b[0m\n\u001b[1;32m   1237\u001b[0m                         \u001b[0mouts\u001b[0m \u001b[0;34m=\u001b[0m \u001b[0;34m[\u001b[0m\u001b[0mouts\u001b[0m\u001b[0;34m]\u001b[0m\u001b[0;34m\u001b[0m\u001b[0m\n",
      "\u001b[0;32m~/miniconda3/lib/python3.6/site-packages/keras/backend/tensorflow_backend.py\u001b[0m in \u001b[0;36m__call__\u001b[0;34m(self, inputs)\u001b[0m\n\u001b[1;32m   2473\u001b[0m         \u001b[0msession\u001b[0m \u001b[0;34m=\u001b[0m \u001b[0mget_session\u001b[0m\u001b[0;34m(\u001b[0m\u001b[0;34m)\u001b[0m\u001b[0;34m\u001b[0m\u001b[0m\n\u001b[1;32m   2474\u001b[0m         updated = session.run(fetches=fetches, feed_dict=feed_dict,\n\u001b[0;32m-> 2475\u001b[0;31m                               **self.session_kwargs)\n\u001b[0m\u001b[1;32m   2476\u001b[0m         \u001b[0;32mreturn\u001b[0m \u001b[0mupdated\u001b[0m\u001b[0;34m[\u001b[0m\u001b[0;34m:\u001b[0m\u001b[0mlen\u001b[0m\u001b[0;34m(\u001b[0m\u001b[0mself\u001b[0m\u001b[0;34m.\u001b[0m\u001b[0moutputs\u001b[0m\u001b[0;34m)\u001b[0m\u001b[0;34m]\u001b[0m\u001b[0;34m\u001b[0m\u001b[0m\n\u001b[1;32m   2477\u001b[0m \u001b[0;34m\u001b[0m\u001b[0m\n",
      "\u001b[0;32m~/miniconda3/lib/python3.6/site-packages/tensorflow/python/client/session.py\u001b[0m in \u001b[0;36mrun\u001b[0;34m(self, fetches, feed_dict, options, run_metadata)\u001b[0m\n\u001b[1;32m    903\u001b[0m     \u001b[0;32mtry\u001b[0m\u001b[0;34m:\u001b[0m\u001b[0;34m\u001b[0m\u001b[0m\n\u001b[1;32m    904\u001b[0m       result = self._run(None, fetches, feed_dict, options_ptr,\n\u001b[0;32m--> 905\u001b[0;31m                          run_metadata_ptr)\n\u001b[0m\u001b[1;32m    906\u001b[0m       \u001b[0;32mif\u001b[0m \u001b[0mrun_metadata\u001b[0m\u001b[0;34m:\u001b[0m\u001b[0;34m\u001b[0m\u001b[0m\n\u001b[1;32m    907\u001b[0m         \u001b[0mproto_data\u001b[0m \u001b[0;34m=\u001b[0m \u001b[0mtf_session\u001b[0m\u001b[0;34m.\u001b[0m\u001b[0mTF_GetBuffer\u001b[0m\u001b[0;34m(\u001b[0m\u001b[0mrun_metadata_ptr\u001b[0m\u001b[0;34m)\u001b[0m\u001b[0;34m\u001b[0m\u001b[0m\n",
      "\u001b[0;32m~/miniconda3/lib/python3.6/site-packages/tensorflow/python/client/session.py\u001b[0m in \u001b[0;36m_run\u001b[0;34m(self, handle, fetches, feed_dict, options, run_metadata)\u001b[0m\n\u001b[1;32m   1135\u001b[0m     \u001b[0;32mif\u001b[0m \u001b[0mfinal_fetches\u001b[0m \u001b[0;32mor\u001b[0m \u001b[0mfinal_targets\u001b[0m \u001b[0;32mor\u001b[0m \u001b[0;34m(\u001b[0m\u001b[0mhandle\u001b[0m \u001b[0;32mand\u001b[0m \u001b[0mfeed_dict_tensor\u001b[0m\u001b[0;34m)\u001b[0m\u001b[0;34m:\u001b[0m\u001b[0;34m\u001b[0m\u001b[0m\n\u001b[1;32m   1136\u001b[0m       results = self._do_run(handle, final_targets, final_fetches,\n\u001b[0;32m-> 1137\u001b[0;31m                              feed_dict_tensor, options, run_metadata)\n\u001b[0m\u001b[1;32m   1138\u001b[0m     \u001b[0;32melse\u001b[0m\u001b[0;34m:\u001b[0m\u001b[0;34m\u001b[0m\u001b[0m\n\u001b[1;32m   1139\u001b[0m       \u001b[0mresults\u001b[0m \u001b[0;34m=\u001b[0m \u001b[0;34m[\u001b[0m\u001b[0;34m]\u001b[0m\u001b[0;34m\u001b[0m\u001b[0m\n",
      "\u001b[0;32m~/miniconda3/lib/python3.6/site-packages/tensorflow/python/client/session.py\u001b[0m in \u001b[0;36m_do_run\u001b[0;34m(self, handle, target_list, fetch_list, feed_dict, options, run_metadata)\u001b[0m\n\u001b[1;32m   1353\u001b[0m     \u001b[0;32mif\u001b[0m \u001b[0mhandle\u001b[0m \u001b[0;32mis\u001b[0m \u001b[0;32mNone\u001b[0m\u001b[0;34m:\u001b[0m\u001b[0;34m\u001b[0m\u001b[0m\n\u001b[1;32m   1354\u001b[0m       return self._do_call(_run_fn, self._session, feeds, fetches, targets,\n\u001b[0;32m-> 1355\u001b[0;31m                            options, run_metadata)\n\u001b[0m\u001b[1;32m   1356\u001b[0m     \u001b[0;32melse\u001b[0m\u001b[0;34m:\u001b[0m\u001b[0;34m\u001b[0m\u001b[0m\n\u001b[1;32m   1357\u001b[0m       \u001b[0;32mreturn\u001b[0m \u001b[0mself\u001b[0m\u001b[0;34m.\u001b[0m\u001b[0m_do_call\u001b[0m\u001b[0;34m(\u001b[0m\u001b[0m_prun_fn\u001b[0m\u001b[0;34m,\u001b[0m \u001b[0mself\u001b[0m\u001b[0;34m.\u001b[0m\u001b[0m_session\u001b[0m\u001b[0;34m,\u001b[0m \u001b[0mhandle\u001b[0m\u001b[0;34m,\u001b[0m \u001b[0mfeeds\u001b[0m\u001b[0;34m,\u001b[0m \u001b[0mfetches\u001b[0m\u001b[0;34m)\u001b[0m\u001b[0;34m\u001b[0m\u001b[0m\n",
      "\u001b[0;32m~/miniconda3/lib/python3.6/site-packages/tensorflow/python/client/session.py\u001b[0m in \u001b[0;36m_do_call\u001b[0;34m(self, fn, *args)\u001b[0m\n\u001b[1;32m   1359\u001b[0m   \u001b[0;32mdef\u001b[0m \u001b[0m_do_call\u001b[0m\u001b[0;34m(\u001b[0m\u001b[0mself\u001b[0m\u001b[0;34m,\u001b[0m \u001b[0mfn\u001b[0m\u001b[0;34m,\u001b[0m \u001b[0;34m*\u001b[0m\u001b[0margs\u001b[0m\u001b[0;34m)\u001b[0m\u001b[0;34m:\u001b[0m\u001b[0;34m\u001b[0m\u001b[0m\n\u001b[1;32m   1360\u001b[0m     \u001b[0;32mtry\u001b[0m\u001b[0;34m:\u001b[0m\u001b[0;34m\u001b[0m\u001b[0m\n\u001b[0;32m-> 1361\u001b[0;31m       \u001b[0;32mreturn\u001b[0m \u001b[0mfn\u001b[0m\u001b[0;34m(\u001b[0m\u001b[0;34m*\u001b[0m\u001b[0margs\u001b[0m\u001b[0;34m)\u001b[0m\u001b[0;34m\u001b[0m\u001b[0m\n\u001b[0m\u001b[1;32m   1362\u001b[0m     \u001b[0;32mexcept\u001b[0m \u001b[0merrors\u001b[0m\u001b[0;34m.\u001b[0m\u001b[0mOpError\u001b[0m \u001b[0;32mas\u001b[0m \u001b[0me\u001b[0m\u001b[0;34m:\u001b[0m\u001b[0;34m\u001b[0m\u001b[0m\n\u001b[1;32m   1363\u001b[0m       \u001b[0mmessage\u001b[0m \u001b[0;34m=\u001b[0m \u001b[0mcompat\u001b[0m\u001b[0;34m.\u001b[0m\u001b[0mas_text\u001b[0m\u001b[0;34m(\u001b[0m\u001b[0me\u001b[0m\u001b[0;34m.\u001b[0m\u001b[0mmessage\u001b[0m\u001b[0;34m)\u001b[0m\u001b[0;34m\u001b[0m\u001b[0m\n",
      "\u001b[0;32m~/miniconda3/lib/python3.6/site-packages/tensorflow/python/client/session.py\u001b[0m in \u001b[0;36m_run_fn\u001b[0;34m(session, feed_dict, fetch_list, target_list, options, run_metadata)\u001b[0m\n\u001b[1;32m   1338\u001b[0m         \u001b[0;32melse\u001b[0m\u001b[0;34m:\u001b[0m\u001b[0;34m\u001b[0m\u001b[0m\n\u001b[1;32m   1339\u001b[0m           return tf_session.TF_Run(session, options, feed_dict, fetch_list,\n\u001b[0;32m-> 1340\u001b[0;31m                                    target_list, status, run_metadata)\n\u001b[0m\u001b[1;32m   1341\u001b[0m \u001b[0;34m\u001b[0m\u001b[0m\n\u001b[1;32m   1342\u001b[0m     \u001b[0;32mdef\u001b[0m \u001b[0m_prun_fn\u001b[0m\u001b[0;34m(\u001b[0m\u001b[0msession\u001b[0m\u001b[0;34m,\u001b[0m \u001b[0mhandle\u001b[0m\u001b[0;34m,\u001b[0m \u001b[0mfeed_dict\u001b[0m\u001b[0;34m,\u001b[0m \u001b[0mfetch_list\u001b[0m\u001b[0;34m)\u001b[0m\u001b[0;34m:\u001b[0m\u001b[0;34m\u001b[0m\u001b[0m\n",
      "\u001b[0;31mKeyboardInterrupt\u001b[0m: "
     ]
    }
   ],
   "source": [
    "%%time \n",
    "output_pooling_conv = model_pooling_conv.fit(x_train_conv, y_train_class, batch_size=128, epochs=5, verbose=2,\n",
    "                    validation_data=(x_test_conv, y_test_class))"
   ]
  },
  {
   "cell_type": "markdown",
   "metadata": {},
   "source": [
    "**Step 4: Check the performance of the model**"
   ]
  },
  {
   "cell_type": "code",
   "execution_count": null,
   "metadata": {},
   "outputs": [],
   "source": [
    "vis.metrics(output_pooling_conv.history)"
   ]
  },
  {
   "cell_type": "code",
   "execution_count": null,
   "metadata": {},
   "outputs": [],
   "source": [
    "score = model_pooling_conv.evaluate(x_test_conv, y_test_class, verbose=1)"
   ]
  },
  {
   "cell_type": "code",
   "execution_count": null,
   "metadata": {},
   "outputs": [],
   "source": [
    "print('Test loss:', score[0])\n",
    "print('Test accuracy:', score[1])"
   ]
  },
  {
   "cell_type": "markdown",
   "metadata": {},
   "source": [
    "**Step 5: Make & Visualise the Prediction**"
   ]
  },
  {
   "cell_type": "code",
   "execution_count": null,
   "metadata": {},
   "outputs": [],
   "source": [
    "predict_classes_pooling = model_pooling_conv.predict_classes(x_test_conv)"
   ]
  },
  {
   "cell_type": "code",
   "execution_count": null,
   "metadata": {},
   "outputs": [],
   "source": [
    "pd.crosstab(y_test, predict_classes_pooling)"
   ]
  },
  {
   "cell_type": "code",
   "execution_count": null,
   "metadata": {},
   "outputs": [],
   "source": [
    "proba_pooling = model_pooling_conv.predict_classes(x_test_conv)"
   ]
  },
  {
   "cell_type": "code",
   "execution_count": null,
   "metadata": {},
   "outputs": [],
   "source": [
    "vis.imshow(x_test[i], labels[y_test[i]]) | vis.predict(proba_conv[i], y_test[i], labels)"
   ]
  },
  {
   "cell_type": "markdown",
   "metadata": {},
   "source": [
    "## Model 3: Convulation + Max Pooling + Dropout"
   ]
  },
  {
   "cell_type": "markdown",
   "metadata": {},
   "source": [
    "**Step 2: Craft the feature transfomation and classifier model **"
   ]
  },
  {
   "cell_type": "code",
   "execution_count": null,
   "metadata": {},
   "outputs": [],
   "source": [
    "model_dropout_conv = Sequential()\n",
    "model_dropout_conv.add(Conv2D(32, kernel_size=(3, 3), activation='relu', input_shape=(28, 28, 1)))\n",
    "model_dropout_conv.add(MaxPooling2D(pool_size=(2, 2)))\n",
    "model_dropout_conv.add(Conv2D(64, (3, 3), activation='relu'))\n",
    "model_dropout_conv.add(MaxPooling2D(pool_size=(2, 2)))\n",
    "model_dropout_conv.add(Dropout(0.25))\n",
    "model_dropout_conv.add(Flatten())\n",
    "model_dropout_conv.add(Dense(128, activation='relu'))\n",
    "model_dropout_conv.add(Dropout(0.5))\n",
    "model_dropout_conv.add(Dense(num_classes, activation='softmax'))"
   ]
  },
  {
   "cell_type": "code",
   "execution_count": null,
   "metadata": {},
   "outputs": [],
   "source": [
    "model_dropout_conv.summary()"
   ]
  },
  {
   "cell_type": "markdown",
   "metadata": {},
   "source": [
    "**Step 3: Compile and fit the model**"
   ]
  },
  {
   "cell_type": "code",
   "execution_count": null,
   "metadata": {},
   "outputs": [],
   "source": [
    "model_dropout_conv.compile(loss='categorical_crossentropy', optimizer=\"sgd\", metrics=['accuracy'])"
   ]
  },
  {
   "cell_type": "code",
   "execution_count": null,
   "metadata": {},
   "outputs": [],
   "source": [
    "%%time \n",
    "output_dropout_conv = model_dropout_conv.fit(x_train_conv, y_train_class, batch_size=128, epochs=10, verbose=2,\n",
    "                    validation_data=(x_test_conv, y_test_class))"
   ]
  },
  {
   "cell_type": "markdown",
   "metadata": {},
   "source": [
    "**Step 4: Check the performance of the model**"
   ]
  },
  {
   "cell_type": "code",
   "execution_count": null,
   "metadata": {},
   "outputs": [],
   "source": [
    "vis.metrics(output_dropout_conv.history)"
   ]
  },
  {
   "cell_type": "code",
   "execution_count": null,
   "metadata": {},
   "outputs": [],
   "source": [
    "score = model_dropout_conv.evaluate(x_test_conv, y_test_class, verbose=1)"
   ]
  },
  {
   "cell_type": "code",
   "execution_count": null,
   "metadata": {},
   "outputs": [],
   "source": [
    "print('Test loss:', score[0])\n",
    "print('Test accuracy:', score[1])"
   ]
  },
  {
   "cell_type": "markdown",
   "metadata": {},
   "source": [
    "**Step 5: Make & Visualise the Prediction**"
   ]
  },
  {
   "cell_type": "code",
   "execution_count": null,
   "metadata": {},
   "outputs": [],
   "source": [
    "predict_classes_dropout = model_conv_dropout.predict_classes(x_test_conv)"
   ]
  },
  {
   "cell_type": "code",
   "execution_count": null,
   "metadata": {},
   "outputs": [],
   "source": [
    "pd.crosstab(y_test, predict_classes_dropout)"
   ]
  },
  {
   "cell_type": "code",
   "execution_count": null,
   "metadata": {},
   "outputs": [],
   "source": [
    "proba_pooling = model_dropout_conv.predict_classes(x_test_conv)"
   ]
  },
  {
   "cell_type": "code",
   "execution_count": null,
   "metadata": {},
   "outputs": [],
   "source": [
    "vis.imshow(x_test[i], labels[y_test[i]]) | vis.predict(proba_pooling[i], y_test[i], labels)"
   ]
  }
 ],
 "metadata": {
  "kernelspec": {
   "display_name": "Python 3",
   "language": "python",
   "name": "python3"
  },
  "language_info": {
   "codemirror_mode": {
    "name": "ipython",
    "version": 3
   },
   "file_extension": ".py",
   "mimetype": "text/x-python",
   "name": "python",
   "nbconvert_exporter": "python",
   "pygments_lexer": "ipython3",
   "version": "3.6.4"
  }
 },
 "nbformat": 4,
 "nbformat_minor": 2
}
