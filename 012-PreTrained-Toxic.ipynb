{
 "cells": [
  {
   "cell_type": "markdown",
   "metadata": {},
   "source": [
    "# Pre-trained Vectors Toxic Comments\n",
    "\n",
    "A corpus of manually labeled comments - classifying each comment by its type of toxicity is available on Kaggle. \n",
    "\n",
    "We will aim to do a binary classification of whether a comment is toxic or not"
   ]
  },
  {
   "cell_type": "code",
   "execution_count": 1,
   "metadata": {},
   "outputs": [
    {
     "name": "stderr",
     "output_type": "stream",
     "text": [
      "Using TensorFlow backend.\n"
     ]
    }
   ],
   "source": [
    "import numpy as np\n",
    "import pandas as pd\n",
    "import keras\n",
    "import matplotlib.pyplot as plt\n",
    "%matplotlib inline\n",
    "import vis"
   ]
  },
  {
   "cell_type": "markdown",
   "metadata": {},
   "source": [
    "### Get the Data"
   ]
  },
  {
   "cell_type": "markdown",
   "metadata": {},
   "source": [
    "Uncomment these shell lines to get the data"
   ]
  },
  {
   "cell_type": "code",
   "execution_count": null,
   "metadata": {},
   "outputs": [],
   "source": [
    "#!wget http://bit.do/deep_toxic_train -P data/\n",
    "#!mv data/deep_toxic_train data/train.zip"
   ]
  },
  {
   "cell_type": "code",
   "execution_count": 2,
   "metadata": {},
   "outputs": [],
   "source": [
    "df = pd.read_csv(\"data/train.zip\")"
   ]
  },
  {
   "cell_type": "code",
   "execution_count": 3,
   "metadata": {},
   "outputs": [
    {
     "data": {
      "text/html": [
       "<div>\n",
       "<style scoped>\n",
       "    .dataframe tbody tr th:only-of-type {\n",
       "        vertical-align: middle;\n",
       "    }\n",
       "\n",
       "    .dataframe tbody tr th {\n",
       "        vertical-align: top;\n",
       "    }\n",
       "\n",
       "    .dataframe thead th {\n",
       "        text-align: right;\n",
       "    }\n",
       "</style>\n",
       "<table border=\"1\" class=\"dataframe\">\n",
       "  <thead>\n",
       "    <tr style=\"text-align: right;\">\n",
       "      <th></th>\n",
       "      <th>id</th>\n",
       "      <th>comment_text</th>\n",
       "      <th>toxic</th>\n",
       "      <th>severe_toxic</th>\n",
       "      <th>obscene</th>\n",
       "      <th>threat</th>\n",
       "      <th>insult</th>\n",
       "      <th>identity_hate</th>\n",
       "    </tr>\n",
       "  </thead>\n",
       "  <tbody>\n",
       "    <tr>\n",
       "      <th>0</th>\n",
       "      <td>0000997932d777bf</td>\n",
       "      <td>Explanation\\nWhy the edits made under my usern...</td>\n",
       "      <td>0</td>\n",
       "      <td>0</td>\n",
       "      <td>0</td>\n",
       "      <td>0</td>\n",
       "      <td>0</td>\n",
       "      <td>0</td>\n",
       "    </tr>\n",
       "    <tr>\n",
       "      <th>1</th>\n",
       "      <td>000103f0d9cfb60f</td>\n",
       "      <td>D'aww! He matches this background colour I'm s...</td>\n",
       "      <td>0</td>\n",
       "      <td>0</td>\n",
       "      <td>0</td>\n",
       "      <td>0</td>\n",
       "      <td>0</td>\n",
       "      <td>0</td>\n",
       "    </tr>\n",
       "    <tr>\n",
       "      <th>2</th>\n",
       "      <td>000113f07ec002fd</td>\n",
       "      <td>Hey man, I'm really not trying to edit war. It...</td>\n",
       "      <td>0</td>\n",
       "      <td>0</td>\n",
       "      <td>0</td>\n",
       "      <td>0</td>\n",
       "      <td>0</td>\n",
       "      <td>0</td>\n",
       "    </tr>\n",
       "    <tr>\n",
       "      <th>3</th>\n",
       "      <td>0001b41b1c6bb37e</td>\n",
       "      <td>\"\\nMore\\nI can't make any real suggestions on ...</td>\n",
       "      <td>0</td>\n",
       "      <td>0</td>\n",
       "      <td>0</td>\n",
       "      <td>0</td>\n",
       "      <td>0</td>\n",
       "      <td>0</td>\n",
       "    </tr>\n",
       "    <tr>\n",
       "      <th>4</th>\n",
       "      <td>0001d958c54c6e35</td>\n",
       "      <td>You, sir, are my hero. Any chance you remember...</td>\n",
       "      <td>0</td>\n",
       "      <td>0</td>\n",
       "      <td>0</td>\n",
       "      <td>0</td>\n",
       "      <td>0</td>\n",
       "      <td>0</td>\n",
       "    </tr>\n",
       "  </tbody>\n",
       "</table>\n",
       "</div>"
      ],
      "text/plain": [
       "                 id                                       comment_text  toxic  \\\n",
       "0  0000997932d777bf  Explanation\\nWhy the edits made under my usern...      0   \n",
       "1  000103f0d9cfb60f  D'aww! He matches this background colour I'm s...      0   \n",
       "2  000113f07ec002fd  Hey man, I'm really not trying to edit war. It...      0   \n",
       "3  0001b41b1c6bb37e  \"\\nMore\\nI can't make any real suggestions on ...      0   \n",
       "4  0001d958c54c6e35  You, sir, are my hero. Any chance you remember...      0   \n",
       "\n",
       "   severe_toxic  obscene  threat  insult  identity_hate  \n",
       "0             0        0       0       0              0  \n",
       "1             0        0       0       0              0  \n",
       "2             0        0       0       0              0  \n",
       "3             0        0       0       0              0  \n",
       "4             0        0       0       0              0  "
      ]
     },
     "execution_count": 3,
     "metadata": {},
     "output_type": "execute_result"
    }
   ],
   "source": [
    "df.head()"
   ]
  },
  {
   "cell_type": "markdown",
   "metadata": {},
   "source": [
    "### Import the required libraries"
   ]
  },
  {
   "cell_type": "code",
   "execution_count": 4,
   "metadata": {},
   "outputs": [],
   "source": [
    "from keras.preprocessing.text import Tokenizer\n",
    "from keras.preprocessing.sequence import pad_sequences"
   ]
  },
  {
   "cell_type": "markdown",
   "metadata": {},
   "source": [
    "### Create the Input & Output Data"
   ]
  },
  {
   "cell_type": "code",
   "execution_count": 5,
   "metadata": {},
   "outputs": [
    {
     "data": {
      "text/plain": [
       "0    Explanation\\nWhy the edits made under my usern...\n",
       "1    D'aww! He matches this background colour I'm s...\n",
       "2    Hey man, I'm really not trying to edit war. It...\n",
       "3    \"\\nMore\\nI can't make any real suggestions on ...\n",
       "4    You, sir, are my hero. Any chance you remember...\n",
       "Name: comment_text, dtype: object"
      ]
     },
     "execution_count": 5,
     "metadata": {},
     "output_type": "execute_result"
    }
   ],
   "source": [
    "train_sentences = df[\"comment_text\"]\n",
    "train_sentences.head()"
   ]
  },
  {
   "cell_type": "markdown",
   "metadata": {},
   "source": [
    "**Pre-processing the train data**\n",
    "- Tokenization: \"This is an apple\" -> [\"This\", \"is\", \"an\", \"apple\"]\n",
    "- Indexing: {0: \"This\", 1: \"is\", 2: \"an\", 3: \"apple\"}\n",
    "- Index Representation: [0, 1, 2, 3]"
   ]
  },
  {
   "cell_type": "code",
   "execution_count": 6,
   "metadata": {},
   "outputs": [],
   "source": [
    "from keras.preprocessing.text import Tokenizer\n",
    "from keras.preprocessing.sequence import pad_sequences"
   ]
  },
  {
   "cell_type": "code",
   "execution_count": 7,
   "metadata": {},
   "outputs": [],
   "source": [
    "# Tokenizer\n",
    "max_features = 2000\n",
    "tokenizer = Tokenizer(num_words=max_features)\n",
    "tokenizer.fit_on_texts(list(train_sentences))"
   ]
  },
  {
   "cell_type": "code",
   "execution_count": 8,
   "metadata": {},
   "outputs": [],
   "source": [
    "# Index Representation\n",
    "tokenized_train = tokenizer.texts_to_sequences(train_sentences)"
   ]
  },
  {
   "cell_type": "code",
   "execution_count": 9,
   "metadata": {},
   "outputs": [
    {
     "data": {
      "image/png": "[encoded data removed]",
      "text/plain": [
       "<Figure size 432x288 with 1 Axes>"
      ]
     },
     "metadata": {},
     "output_type": "display_data"
    }
   ],
   "source": [
    "# Selecting Padding\n",
    "# find length of each sentence and plot the length\n",
    "number_of_words = [len(comment) for comment in tokenized_train]\n",
    "plt.hist(number_of_words, bins = np.arange(0, 500, 10));"
   ]
  },
  {
   "cell_type": "code",
   "execution_count": 10,
   "metadata": {},
   "outputs": [],
   "source": [
    "# Padding to make it uniform\n",
    "maxlen = 200\n",
    "X = pad_sequences(tokenized_train, maxlen = maxlen)"
   ]
  },
  {
   "cell_type": "code",
   "execution_count": 11,
   "metadata": {},
   "outputs": [],
   "source": [
    "labels = df.iloc[:,2].values"
   ]
  },
  {
   "cell_type": "code",
   "execution_count": 12,
   "metadata": {},
   "outputs": [
    {
     "data": {
      "text/plain": [
       "0.9041555169799024"
      ]
     },
     "execution_count": 12,
     "metadata": {},
     "output_type": "execute_result"
    }
   ],
   "source": [
    "# Baseline Benchmark \n",
    "1 - df.iloc[:,2].sum()/df.iloc[:,2].count()"
   ]
  },
  {
   "cell_type": "code",
   "execution_count": 13,
   "metadata": {},
   "outputs": [],
   "source": [
    "from keras.utils import to_categorical\n",
    "y = to_categorical(labels)"
   ]
  },
  {
   "cell_type": "code",
   "execution_count": 14,
   "metadata": {},
   "outputs": [],
   "source": [
    "from sklearn.model_selection import train_test_split"
   ]
  },
  {
   "cell_type": "code",
   "execution_count": 15,
   "metadata": {},
   "outputs": [
    {
     "data": {
      "text/plain": [
       "((127656, 200), (31915, 200), (127656, 2), (31915, 2))"
      ]
     },
     "execution_count": 15,
     "metadata": {},
     "output_type": "execute_result"
    }
   ],
   "source": [
    "X_train, X_test, y_train, y_test = train_test_split(X, y, test_size=0.2, random_state=42)\n",
    "X_train.shape, X_test.shape, y_train.shape, y_test.shape"
   ]
  },
  {
   "cell_type": "markdown",
   "metadata": {},
   "source": [
    "### Step 1a: Creating pre-trained Embedding"
   ]
  },
  {
   "cell_type": "code",
   "execution_count": 16,
   "metadata": {},
   "outputs": [],
   "source": [
    "import spacy"
   ]
  },
  {
   "cell_type": "code",
   "execution_count": 18,
   "metadata": {},
   "outputs": [],
   "source": [
    "# !python -m spacy download en_core_web_md"
   ]
  },
  {
   "cell_type": "code",
   "execution_count": 41,
   "metadata": {},
   "outputs": [],
   "source": [
    "nlp = spacy.load('en_core_web_md')"
   ]
  },
  {
   "cell_type": "code",
   "execution_count": 42,
   "metadata": {},
   "outputs": [],
   "source": [
    "doc = nlp(\"This is some text that I am processing with Spacy\")"
   ]
  },
  {
   "cell_type": "markdown",
   "metadata": {},
   "source": [
    "**word vector**"
   ]
  },
  {
   "cell_type": "code",
   "execution_count": 50,
   "metadata": {},
   "outputs": [
    {
     "data": {
      "text/plain": [
       "array([-7.0935e-01, -7.2300e-01, -2.6723e-01, -2.8201e-01, -3.5116e-01,\n",
       "       -1.0259e-01, -3.1358e-01, -1.8229e-02,  7.2917e-02,  1.3660e+00,\n",
       "       -9.7365e-02, -4.5112e-01, -9.8914e-02, -2.6689e-01,  8.8146e-02,\n",
       "       -8.2910e-03, -1.2060e-01, -3.3403e-02, -1.1745e-01, -7.6967e-02,\n",
       "        4.1157e-01,  2.1329e-01,  3.1254e-02, -3.2756e-01,  1.1363e-02,\n",
       "        5.6836e-02,  9.8451e-02, -1.1121e-01,  1.2326e-01, -1.6711e-01,\n",
       "       -7.4109e-02,  2.3948e-01, -2.1517e-01,  3.9246e-01,  1.1948e-01,\n",
       "       -2.4089e-01, -9.4175e-02, -5.5645e-01, -2.3437e-02,  6.8293e-01,\n",
       "       -3.0680e-02, -1.7121e-01, -2.8130e-01,  1.2943e-01, -4.8379e-01,\n",
       "       -1.5190e-01,  4.2010e-01,  2.5535e-01,  6.2382e-02,  3.7100e-01,\n",
       "        2.1984e-01,  3.7886e-01, -6.4868e-02,  4.2776e-01, -1.8680e-01,\n",
       "        2.0435e-01, -2.1338e-01, -6.2712e-01, -3.7787e-01, -1.3280e-01,\n",
       "       -3.2754e-01,  1.7802e-01, -5.3939e-01, -3.7116e-01, -1.1086e-01,\n",
       "        2.1681e-01, -1.9458e-02, -7.9578e-01, -2.5924e-01,  3.9770e-01,\n",
       "        5.5819e-02,  2.2023e-01,  6.0641e-01, -1.3951e-01, -3.6150e-03,\n",
       "        3.1418e-01, -2.7747e-01,  5.0835e-02, -8.5064e-02,  6.5812e-01,\n",
       "        5.4513e-02, -3.7909e-01,  2.2348e-02, -1.4955e-01, -4.6226e-01,\n",
       "        3.1928e-02,  1.6350e+00,  1.1314e-01,  2.3095e-01,  4.1280e-01,\n",
       "       -7.1366e-01,  5.3358e-02,  5.7613e-01,  1.5185e-01,  1.9328e-03,\n",
       "       -3.6427e-01, -2.5121e-01, -6.7110e-01, -2.9535e-01,  1.6328e-01,\n",
       "        3.1475e-01,  3.2190e-02,  4.6745e-01,  4.8037e-01,  4.0097e-01,\n",
       "       -7.1931e-01,  6.8757e-02,  7.5512e-02, -2.2296e-01, -7.5005e-03,\n",
       "       -7.1884e-02, -4.3696e-01, -5.2248e-01, -3.8581e-01, -7.4760e-02,\n",
       "        3.7205e-02, -1.5829e-02, -4.8220e-01, -3.6600e-01,  1.8858e-01,\n",
       "        1.9528e-01, -5.1122e-01, -5.5765e-01, -3.1278e-01, -4.0729e-01,\n",
       "        2.4170e-01, -1.8050e-01,  4.3470e-03, -4.3202e-01, -5.2087e-01,\n",
       "       -3.8308e-01,  3.5451e-02,  3.3748e-01,  5.7655e-02, -2.9028e-01,\n",
       "       -7.6561e-02,  2.5856e-01,  4.3728e-01, -2.8660e-01,  6.7673e-01,\n",
       "       -3.0113e+00,  1.7780e-01,  2.3779e-01, -3.1597e-01, -2.2139e-01,\n",
       "       -3.4277e-01, -1.2242e-01,  1.2920e-01, -1.5158e-01,  9.9097e-02,\n",
       "       -5.5204e-02,  4.2509e-01, -1.7744e-02, -3.8318e-01,  1.7109e-01,\n",
       "        2.3161e-01, -1.0061e-01,  8.3644e-02, -1.1561e-01,  9.8242e-02,\n",
       "       -1.3060e-01,  4.6537e-02,  1.2823e-02,  6.2488e-01,  8.8916e-02,\n",
       "       -4.4035e-01,  3.5479e-02, -4.5334e-02, -5.8314e-01, -3.6507e-02,\n",
       "       -3.2302e-01, -6.7476e-01,  1.2664e-01,  4.8637e-02,  3.6790e-01,\n",
       "        3.9701e-01, -6.6948e-01,  7.0121e-01,  4.2481e-02, -2.2977e-01,\n",
       "        3.0289e-01,  2.5400e-01, -2.4892e-01,  1.1024e-01,  2.7406e-01,\n",
       "        6.1823e-02, -2.3999e-02,  4.3633e-01,  4.7515e-01,  6.5338e-02,\n",
       "        8.9473e-02,  1.8414e-01, -2.5791e-01, -2.5602e-02,  2.9440e-01,\n",
       "        3.3583e-01,  1.5542e-01,  1.8191e-01, -1.5824e-01, -5.1993e-01,\n",
       "        1.0073e-01,  4.3899e-01,  2.9557e-01, -6.5715e-01,  3.1572e-02,\n",
       "        1.7579e-01,  6.7803e-02, -1.1581e-01,  3.3848e-01, -1.0445e-02,\n",
       "       -5.9808e-01,  3.8207e-03,  3.6599e-01,  5.4135e-01, -4.4703e-01,\n",
       "        5.1563e-02, -1.2165e-01, -4.4089e-01, -1.8225e-01, -2.2531e-01,\n",
       "       -1.3162e-01, -3.3750e-02, -2.4363e-02, -4.7656e-01,  1.6972e-01,\n",
       "       -2.5044e-01, -1.7075e-01, -4.2660e-01,  4.2246e-02,  4.7975e-02,\n",
       "       -8.7552e-02, -9.4080e-02, -3.0779e-01, -2.6822e-02, -1.2779e-01,\n",
       "        3.4093e-01,  6.1671e-01, -9.1257e-02,  2.2613e-01, -3.0103e-01,\n",
       "       -3.9681e-01, -2.4888e-01,  4.8182e-01, -2.0170e-01,  1.8260e-01,\n",
       "       -7.4572e-02, -4.7213e-01, -4.4121e-01,  1.7925e-01,  8.7185e-01,\n",
       "       -2.1893e-01, -3.6192e-01,  1.6562e-01,  3.0825e-02,  2.0344e-01,\n",
       "       -1.5610e-02, -2.6475e-02, -1.7186e-01,  1.1584e-01, -1.9133e-01,\n",
       "       -3.3147e-01,  2.5474e-01, -1.1126e-02, -8.8793e-03,  6.0862e-01,\n",
       "        9.2781e-02,  4.9773e-02,  1.6001e-01, -4.1277e-02,  1.7670e-01,\n",
       "       -1.5367e-01,  6.5167e-02,  1.8860e-01,  1.3426e-01,  6.0648e-02,\n",
       "       -1.2185e-01,  2.8651e-01, -3.1945e-01,  2.7829e-01,  5.8460e-01,\n",
       "        3.6519e-01,  1.5649e-01,  7.6672e-02,  2.1757e-01, -5.4096e-01,\n",
       "        1.3329e-01,  5.3217e-01, -4.6462e-01, -3.9191e-02,  9.6937e-02,\n",
       "        1.3707e-01, -5.0381e-01, -4.6540e-01, -4.0832e-01,  2.6459e-01,\n",
       "        1.0082e-01, -2.5523e-01,  8.8033e-02,  7.4582e-02, -1.2327e-01],\n",
       "      dtype=float32)"
      ]
     },
     "execution_count": 50,
     "metadata": {},
     "output_type": "execute_result"
    }
   ],
   "source": [
    "doc[3].vector"
   ]
  },
  {
   "cell_type": "markdown",
   "metadata": {},
   "source": [
    "**Sentence vector**"
   ]
  },
  {
   "cell_type": "code",
   "execution_count": 51,
   "metadata": {},
   "outputs": [
    {
     "data": {
      "text/plain": [
       "array([-1.05365790e-01, -8.41118842e-02, -2.66540736e-01, -6.49018884e-02,\n",
       "        5.73255047e-02, -7.37861246e-02, -1.70073375e-01, -9.76754650e-02,\n",
       "        1.72398780e-02,  2.16393995e+00, -1.97844639e-01,  5.45151271e-02,\n",
       "        5.57428747e-02, -2.22159252e-01, -8.37589949e-02,  2.97808778e-02,\n",
       "       -2.21619129e-01,  8.28490913e-01, -2.27495551e-01,  5.94049506e-03,\n",
       "        2.71877617e-01,  5.82207516e-02, -5.27273789e-02,  1.12782493e-02,\n",
       "        4.37253714e-02, -5.80023713e-02,  5.58082536e-02, -8.49602520e-02,\n",
       "        1.19774237e-01, -2.31708754e-02,  6.82560354e-02,  1.71907127e-01,\n",
       "       -1.57460496e-01,  1.35134593e-01,  1.14541262e-01, -1.01907253e-01,\n",
       "       -8.70015100e-02,  2.57766098e-02, -1.00350119e-01,  1.41264483e-01,\n",
       "       -9.39938724e-02,  7.67941177e-02, -2.87405282e-01, -5.15562519e-02,\n",
       "        2.15906296e-02,  1.37703493e-01,  7.52105340e-02, -2.61493735e-02,\n",
       "        7.37009943e-02,  7.82350004e-02, -2.83782277e-02,  1.97568089e-02,\n",
       "       -1.64982393e-01,  1.97621249e-02, -3.41606252e-02,  7.77522102e-02,\n",
       "       -4.12746221e-02, -2.90937513e-01,  8.57374817e-03, -1.46583498e-01,\n",
       "       -7.91358724e-02, -1.54606745e-01, -4.21631336e-02,  1.30214989e-01,\n",
       "        1.26841873e-01, -1.33484006e-01,  6.89475238e-03,  1.24587759e-01,\n",
       "        8.28842297e-02,  2.91892737e-01,  9.43420082e-02, -1.40667483e-02,\n",
       "        3.38860124e-01,  3.66680026e-02,  2.62263238e-01,  1.62036240e-01,\n",
       "        8.28652605e-02, -9.62441266e-02, -1.66039377e-01,  3.22045475e-01,\n",
       "        6.19124994e-02,  4.71512452e-02, -1.66373491e-01, -9.33073759e-02,\n",
       "       -1.15148798e-01, -2.25431323e-02,  4.99235392e-01, -6.78082481e-02,\n",
       "        3.92563730e-01,  2.52232611e-01, -2.84881473e-01, -2.72534136e-02,\n",
       "        1.23885624e-01,  1.28949746e-01,  6.44093454e-02,  1.85341239e-02,\n",
       "       -1.00703761e-02, -1.99357778e-01, -3.61170471e-02,  6.92256242e-02,\n",
       "        1.14861131e-01, -1.25150196e-03,  1.25120014e-01, -8.62412713e-03,\n",
       "        9.14075077e-02, -7.25881577e-01,  1.72738373e-01,  8.74538720e-02,\n",
       "        3.89825366e-03, -1.10811301e-01,  1.04704907e-03, -3.87453735e-01,\n",
       "        1.83783740e-01, -5.98720014e-02,  1.46956131e-01, -2.11291879e-01,\n",
       "       -7.63922464e-03, -3.40990089e-02, -7.73500465e-03,  9.73740071e-02,\n",
       "        2.60587484e-01, -1.17726907e-01, -8.16956311e-02, -7.17152432e-02,\n",
       "        2.20174901e-02,  3.73426229e-02, -2.16828629e-01, -1.19751412e-02,\n",
       "       -6.98303729e-02, -1.77610368e-01,  5.38579486e-02, -7.87596181e-02,\n",
       "       -7.73458779e-02,  5.88192493e-02,  6.65899962e-02,  2.79255025e-02,\n",
       "        9.69141200e-02,  2.25381255e-01, -7.02847540e-02,  2.16410890e-01,\n",
       "       -1.83206117e+00, -5.03678732e-02,  3.35666239e-02, -1.32581756e-01,\n",
       "       -3.76789384e-02, -1.56168386e-01, -1.83955252e-01,  5.36229983e-02,\n",
       "       -8.75409842e-02,  1.32135049e-01, -1.15437984e-01,  2.42081255e-01,\n",
       "        7.90524855e-03, -1.27960369e-01, -1.77265257e-01,  3.89166214e-02,\n",
       "        9.48738679e-02, -1.95862483e-02, -3.98328751e-02, -4.30272557e-02,\n",
       "       -1.43065497e-01,  6.88957497e-02, -2.08641253e-02,  1.57700002e-01,\n",
       "        3.70370001e-02, -1.73363864e-01,  2.62700021e-02, -5.72743751e-02,\n",
       "        1.29974633e-01,  4.89697531e-02, -3.52316275e-02, -1.98211625e-01,\n",
       "       -3.58237349e-03, -4.32151258e-02, -1.21603711e-02,  2.72839248e-01,\n",
       "       -2.58954018e-01,  1.75291955e-01,  9.42263752e-02,  4.45512496e-02,\n",
       "        1.91912636e-01,  6.71412498e-02, -1.64116248e-01,  2.46371236e-02,\n",
       "        1.04575880e-01, -7.24751502e-04, -5.27225994e-02,  6.50318116e-02,\n",
       "        2.07054853e-01, -1.55516267e-02,  1.84303783e-02,  1.26460031e-01,\n",
       "       -1.75813377e-01, -1.26792789e-01, -2.10698768e-02,  3.04483265e-01,\n",
       "        1.10637501e-01,  6.15483671e-02, -9.82142538e-02,  2.36069933e-02,\n",
       "       -1.91554949e-02, -3.61296274e-02, -4.64304984e-02, -5.95224276e-02,\n",
       "        2.12939173e-01,  8.51617530e-02, -1.34822503e-02, -1.52081504e-01,\n",
       "       -6.14162534e-02, -1.04906619e-01, -5.99625036e-02, -1.62473902e-01,\n",
       "        4.29306254e-02,  8.10308754e-02, -1.48395002e-01,  1.32775754e-01,\n",
       "       -6.72435015e-02, -1.91048995e-01, -2.11015135e-01, -4.33327481e-02,\n",
       "        9.65127498e-02, -2.00505227e-01, -2.35319629e-01, -7.20321238e-02,\n",
       "        9.63723734e-02, -2.43385002e-01, -6.36712462e-02,  4.10726294e-02,\n",
       "        1.24117881e-01,  3.85681242e-02, -1.37333870e-01,  4.59733121e-02,\n",
       "        4.82405014e-02,  2.28474468e-01,  3.47314999e-02, -4.10659984e-02,\n",
       "        7.84365088e-02, -8.34816247e-02,  3.66612524e-02, -7.77492374e-02,\n",
       "        5.16547486e-02,  2.05496680e-02,  2.28169505e-02, -2.25506313e-02,\n",
       "        1.42472893e-01, -3.23002845e-01, -1.21061116e-01, -1.18636250e-01,\n",
       "       -9.16343704e-02,  3.86178881e-01, -2.02512011e-01, -3.20758522e-01,\n",
       "        1.60387531e-02, -6.82670102e-02,  1.22488938e-01,  1.95661247e-01,\n",
       "        4.12761271e-02, -4.32437845e-03, -4.16819975e-02,  2.48473622e-02,\n",
       "        1.45026624e-01,  2.06129879e-01,  6.44510686e-02,  2.68202126e-02,\n",
       "        1.96489871e-01,  1.98275018e-02, -1.21102124e-01,  8.69416296e-02,\n",
       "        1.06051616e-01,  1.92439482e-02,  7.60724992e-02, -1.29991248e-01,\n",
       "       -2.61844993e-01,  2.70753894e-02, -7.90361241e-02, -1.20561197e-02,\n",
       "        3.55809927e-02,  2.64098756e-02,  7.54277110e-02,  3.98122966e-01,\n",
       "        1.58045456e-01,  1.61138736e-02, -7.89554119e-02, -4.99077477e-02,\n",
       "       -7.00513721e-02, -1.89391494e-01,  3.51909995e-01, -2.02600613e-01,\n",
       "       -4.08693776e-02,  2.45651752e-02, -1.48837507e-01, -1.12249866e-01,\n",
       "        6.39438704e-02, -1.59977525e-01,  5.74680045e-02, -8.49877596e-02,\n",
       "        4.89322469e-02,  1.20159380e-01, -1.90822519e-02,  4.93515395e-02],\n",
       "      dtype=float32)"
      ]
     },
     "execution_count": 51,
     "metadata": {},
     "output_type": "execute_result"
    }
   ],
   "source": [
    "doc.vector"
   ]
  },
  {
   "cell_type": "code",
   "execution_count": 53,
   "metadata": {},
   "outputs": [],
   "source": [
    "df2 = df.copy()"
   ]
  },
  {
   "cell_type": "code",
   "execution_count": 54,
   "metadata": {},
   "outputs": [
    {
     "data": {
      "text/html": [
       "<div>\n",
       "<style scoped>\n",
       "    .dataframe tbody tr th:only-of-type {\n",
       "        vertical-align: middle;\n",
       "    }\n",
       "\n",
       "    .dataframe tbody tr th {\n",
       "        vertical-align: top;\n",
       "    }\n",
       "\n",
       "    .dataframe thead th {\n",
       "        text-align: right;\n",
       "    }\n",
       "</style>\n",
       "<table border=\"1\" class=\"dataframe\">\n",
       "  <thead>\n",
       "    <tr style=\"text-align: right;\">\n",
       "      <th></th>\n",
       "      <th>id</th>\n",
       "      <th>comment_text</th>\n",
       "      <th>toxic</th>\n",
       "      <th>severe_toxic</th>\n",
       "      <th>obscene</th>\n",
       "      <th>threat</th>\n",
       "      <th>insult</th>\n",
       "      <th>identity_hate</th>\n",
       "    </tr>\n",
       "  </thead>\n",
       "  <tbody>\n",
       "    <tr>\n",
       "      <th>0</th>\n",
       "      <td>0000997932d777bf</td>\n",
       "      <td>Explanation\\nWhy the edits made under my usern...</td>\n",
       "      <td>0</td>\n",
       "      <td>0</td>\n",
       "      <td>0</td>\n",
       "      <td>0</td>\n",
       "      <td>0</td>\n",
       "      <td>0</td>\n",
       "    </tr>\n",
       "    <tr>\n",
       "      <th>1</th>\n",
       "      <td>000103f0d9cfb60f</td>\n",
       "      <td>D'aww! He matches this background colour I'm s...</td>\n",
       "      <td>0</td>\n",
       "      <td>0</td>\n",
       "      <td>0</td>\n",
       "      <td>0</td>\n",
       "      <td>0</td>\n",
       "      <td>0</td>\n",
       "    </tr>\n",
       "    <tr>\n",
       "      <th>2</th>\n",
       "      <td>000113f07ec002fd</td>\n",
       "      <td>Hey man, I'm really not trying to edit war. It...</td>\n",
       "      <td>0</td>\n",
       "      <td>0</td>\n",
       "      <td>0</td>\n",
       "      <td>0</td>\n",
       "      <td>0</td>\n",
       "      <td>0</td>\n",
       "    </tr>\n",
       "    <tr>\n",
       "      <th>3</th>\n",
       "      <td>0001b41b1c6bb37e</td>\n",
       "      <td>\"\\nMore\\nI can't make any real suggestions on ...</td>\n",
       "      <td>0</td>\n",
       "      <td>0</td>\n",
       "      <td>0</td>\n",
       "      <td>0</td>\n",
       "      <td>0</td>\n",
       "      <td>0</td>\n",
       "    </tr>\n",
       "    <tr>\n",
       "      <th>4</th>\n",
       "      <td>0001d958c54c6e35</td>\n",
       "      <td>You, sir, are my hero. Any chance you remember...</td>\n",
       "      <td>0</td>\n",
       "      <td>0</td>\n",
       "      <td>0</td>\n",
       "      <td>0</td>\n",
       "      <td>0</td>\n",
       "      <td>0</td>\n",
       "    </tr>\n",
       "  </tbody>\n",
       "</table>\n",
       "</div>"
      ],
      "text/plain": [
       "                 id                                       comment_text  toxic  \\\n",
       "0  0000997932d777bf  Explanation\\nWhy the edits made under my usern...      0   \n",
       "1  000103f0d9cfb60f  D'aww! He matches this background colour I'm s...      0   \n",
       "2  000113f07ec002fd  Hey man, I'm really not trying to edit war. It...      0   \n",
       "3  0001b41b1c6bb37e  \"\\nMore\\nI can't make any real suggestions on ...      0   \n",
       "4  0001d958c54c6e35  You, sir, are my hero. Any chance you remember...      0   \n",
       "\n",
       "   severe_toxic  obscene  threat  insult  identity_hate  \n",
       "0             0        0       0       0              0  \n",
       "1             0        0       0       0              0  \n",
       "2             0        0       0       0              0  \n",
       "3             0        0       0       0              0  \n",
       "4             0        0       0       0              0  "
      ]
     },
     "execution_count": 54,
     "metadata": {},
     "output_type": "execute_result"
    }
   ],
   "source": [
    "df2.head()"
   ]
  },
  {
   "cell_type": "code",
   "execution_count": 55,
   "metadata": {},
   "outputs": [],
   "source": [
    "def word_embedding(text):\n",
    "    doc = nlp(text)\n",
    "    return doc.vector"
   ]
  },
  {
   "cell_type": "code",
   "execution_count": 83,
   "metadata": {},
   "outputs": [],
   "source": [
    "# this didn't run in reasonable time\n",
    "# df2[\"word_embedding\"] = df2[\"comment_text\"].apply(word_embedding)"
   ]
  },
  {
   "cell_type": "code",
   "execution_count": 70,
   "metadata": {},
   "outputs": [
    {
     "name": "stdout",
     "output_type": "stream",
     "text": [
      "CPU times: user 31.5 s, sys: 1.02 s, total: 32.5 s\n",
      "Wall time: 16.3 s\n"
     ]
    }
   ],
   "source": [
    "%%time\n",
    "embedding_matrix = df2.iloc[:1000,1].apply(word_embedding)"
   ]
  },
  {
   "cell_type": "code",
   "execution_count": 76,
   "metadata": {},
   "outputs": [
    {
     "data": {
      "text/plain": [
       "0    [0.014754121, 0.09509911, -0.18234688, -0.0324...\n",
       "1    [-0.054129396, 0.25404528, -0.045151014, -0.05...\n",
       "Name: comment_text, dtype: object"
      ]
     },
     "execution_count": 76,
     "metadata": {},
     "output_type": "execute_result"
    }
   ],
   "source": [
    "embedding_matrix[0:2]"
   ]
  },
  {
   "cell_type": "code",
   "execution_count": 84,
   "metadata": {},
   "outputs": [],
   "source": [
    "# reshaping the embedding matrix\n",
    "emb_mat = np.empty([1000, 300])\n",
    "j = 0\n",
    "for i in embedding_matrix:\n",
    "    emb_mat[j] = i\n",
    "    j += 1"
   ]
  },
  {
   "cell_type": "code",
   "execution_count": 85,
   "metadata": {},
   "outputs": [
    {
     "data": {
      "text/plain": [
       "(1000, 300)"
      ]
     },
     "execution_count": 85,
     "metadata": {},
     "output_type": "execute_result"
    }
   ],
   "source": [
    "emb_mat.shape"
   ]
  },
  {
   "cell_type": "markdown",
   "metadata": {},
   "source": [
    "### Step 2: Create the Model Architecture"
   ]
  },
  {
   "cell_type": "code",
   "execution_count": 90,
   "metadata": {},
   "outputs": [],
   "source": [
    "from keras.models import Sequential\n",
    "from keras.layers import Dense, LSTM, Embedding, Dropout, Flatten"
   ]
  },
  {
   "cell_type": "code",
   "execution_count": 88,
   "metadata": {},
   "outputs": [
    {
     "data": {
      "text/plain": [
       "200"
      ]
     },
     "execution_count": 88,
     "metadata": {},
     "output_type": "execute_result"
    }
   ],
   "source": [
    "maxlen"
   ]
  },
  {
   "cell_type": "code",
   "execution_count": 106,
   "metadata": {},
   "outputs": [
    {
     "name": "stdout",
     "output_type": "stream",
     "text": [
      "_________________________________________________________________\n",
      "Layer (type)                 Output Shape              Param #   \n",
      "=================================================================\n",
      "embedding_4 (Embedding)      (None, 200, 300)          300000    \n",
      "_________________________________________________________________\n",
      "flatten_3 (Flatten)          (None, 60000)             0         \n",
      "_________________________________________________________________\n",
      "dense_5 (Dense)              (None, 32)                1920032   \n",
      "_________________________________________________________________\n",
      "dense_6 (Dense)              (None, 2)                 66        \n",
      "=================================================================\n",
      "Total params: 2,220,098\n",
      "Trainable params: 2,220,098\n",
      "Non-trainable params: 0\n",
      "_________________________________________________________________\n"
     ]
    }
   ],
   "source": [
    "model = Sequential()\n",
    "model.add(Embedding(1000, 300, input_length=maxlen))\n",
    "model.add(Flatten())\n",
    "model.add(Dense(32, activation='relu'))\n",
    "model.add(Dense(2, activation='sigmoid'))\n",
    "model.summary()"
   ]
  },
  {
   "cell_type": "code",
   "execution_count": 107,
   "metadata": {},
   "outputs": [],
   "source": [
    "model.layers[0].set_weights([emb_mat])\n",
    "model.layers[0].trainable = False"
   ]
  },
  {
   "cell_type": "code",
   "execution_count": 108,
   "metadata": {},
   "outputs": [],
   "source": [
    "model.compile(optimizer='rmsprop',\n",
    "              loss='binary_crossentropy',\n",
    "              metrics=['acc'])"
   ]
  },
  {
   "cell_type": "code",
   "execution_count": 109,
   "metadata": {},
   "outputs": [
    {
     "name": "stdout",
     "output_type": "stream",
     "text": [
      "Train on 1000 samples, validate on 31915 samples\n",
      "Epoch 1/2\n",
      "1000/1000 [==============================] - 2s 2ms/step - loss: 1.3040 - acc: 0.8470 - val_loss: 1.4149 - val_acc: 0.9042\n",
      "Epoch 2/2\n",
      "1000/1000 [==============================] - 2s 2ms/step - loss: 1.2335 - acc: 0.8635 - val_loss: 1.4839 - val_acc: 0.9042\n"
     ]
    }
   ],
   "source": [
    "history = model.fit(X_train[:1000], y_train[:1000],\n",
    "                    epochs=2,\n",
    "                    batch_size=32,\n",
    "                    validation_data=(X_test, y_test))"
   ]
  },
  {
   "cell_type": "code",
   "execution_count": null,
   "metadata": {},
   "outputs": [],
   "source": [
    "# model = Sequential()\n",
    "# model.add(Embedding(max_features, output_dim=128))\n",
    "# model.add(LSTM(60))\n",
    "# model.add(Dropout(0.1))\n",
    "# model.add(Dense(2, activation='sigmoid'))"
   ]
  },
  {
   "cell_type": "markdown",
   "metadata": {},
   "source": [
    "### Step 3: Compile the Model & Fit on the Data"
   ]
  },
  {
   "cell_type": "code",
   "execution_count": null,
   "metadata": {},
   "outputs": [],
   "source": [
    "model.compile(loss='binary_crossentropy', optimizer='rmsprop', metrics=['accuracy'])"
   ]
  },
  {
   "cell_type": "code",
   "execution_count": null,
   "metadata": {},
   "outputs": [],
   "source": [
    "output = model.fit(X_train, y_train, batch_size=128, epochs=5, validation_split=0.2)"
   ]
  },
  {
   "cell_type": "markdown",
   "metadata": {},
   "source": [
    "### Step 4: Evaluate the Model"
   ]
  },
  {
   "cell_type": "code",
   "execution_count": null,
   "metadata": {},
   "outputs": [],
   "source": [
    "vis.metrics(output.history)"
   ]
  },
  {
   "cell_type": "code",
   "execution_count": null,
   "metadata": {},
   "outputs": [],
   "source": [
    "score = model.evaluate(X_test, y_test, verbose=1)"
   ]
  },
  {
   "cell_type": "code",
   "execution_count": null,
   "metadata": {},
   "outputs": [],
   "source": [
    "print('Test loss:', score[0])\n",
    "print('Test accuracy:', score[1])"
   ]
  },
  {
   "cell_type": "markdown",
   "metadata": {},
   "source": [
    "### Step 5: Visualise evaluation & Make a prediction"
   ]
  },
  {
   "cell_type": "code",
   "execution_count": null,
   "metadata": {},
   "outputs": [],
   "source": [
    "predict_classes = model.predict_classes(X_test)"
   ]
  },
  {
   "cell_type": "code",
   "execution_count": null,
   "metadata": {},
   "outputs": [],
   "source": [
    "pd.crosstab(y_test, predict_classes)"
   ]
  },
  {
   "cell_type": "code",
   "execution_count": null,
   "metadata": {},
   "outputs": [],
   "source": []
  },
  {
   "cell_type": "code",
   "execution_count": null,
   "metadata": {},
   "outputs": [],
   "source": []
  },
  {
   "cell_type": "code",
   "execution_count": null,
   "metadata": {},
   "outputs": [],
   "source": []
  },
  {
   "cell_type": "code",
   "execution_count": 102,
   "metadata": {},
   "outputs": [],
   "source": [
    "doc = nlp(\"temperature is quite hot\")"
   ]
  },
  {
   "cell_type": "code",
   "execution_count": null,
   "metadata": {},
   "outputs": [],
   "source": []
  }
 ],
 "metadata": {
  "kernelspec": {
   "display_name": "Python 3",
   "language": "python",
   "name": "python3"
  },
  "language_info": {
   "codemirror_mode": {
    "name": "ipython",
    "version": 3
   },
   "file_extension": ".py",
   "mimetype": "text/x-python",
   "name": "python",
   "nbconvert_exporter": "python",
   "pygments_lexer": "ipython3",
   "version": "3.6.6"
  }
 },
 "nbformat": 4,
 "nbformat_minor": 2
}
