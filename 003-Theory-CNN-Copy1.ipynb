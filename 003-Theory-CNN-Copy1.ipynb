{
 "cells": [
  {
   "cell_type": "markdown",
   "metadata": {},
   "source": [
    "# Convolution Neural Network"
   ]
  },
  {
   "cell_type": "markdown",
   "metadata": {},
   "source": [
    "CNN allow us to extract the features of the image while maintaining the spatial arrangement of the image. \n",
    "\n",
    "They use three concepts to create a feature transformation\n",
    "- **Convolutional layers** multiply kernel value by the image window and optimize the kernel weights over time using gradient descent\n",
    "- **Pooling layers** describe a window of an image using a single value which is the max or the average of that window\n",
    "- **Activation layers** squash the values into a range, typically [0,1] or [-1,1]\n",
    "\n",
    "Params for each type\n",
    "- **Convolution**: Kernel, Filters, Padding, Stride\n",
    "- **Pooling**: Max, \n",
    "- **Activation**: Relu, Sigmoid, ..."
   ]
  },
  {
   "cell_type": "code",
   "execution_count": 1,
   "metadata": {},
   "outputs": [
    {
     "name": "stderr",
     "output_type": "stream",
     "text": [
      "Using TensorFlow backend.\n"
     ]
    }
   ],
   "source": [
    "import numpy as np\n",
    "import keras\n",
    "#import imageio\n",
    "import matplotlib.pyplot as plt\n",
    "% matplotlib inline\n",
    "import vis"
   ]
  },
  {
   "cell_type": "code",
   "execution_count": 2,
   "metadata": {},
   "outputs": [],
   "source": [
    "from keras.models import Sequential\n",
    "from keras.layers import Conv2D, MaxPooling2D, Activation"
   ]
  },
  {
   "cell_type": "code",
   "execution_count": 3,
   "metadata": {},
   "outputs": [],
   "source": [
    "from keras.datasets import fashion_mnist"
   ]
  },
  {
   "cell_type": "code",
   "execution_count": 4,
   "metadata": {},
   "outputs": [],
   "source": [
    "(x_train, y_train), (x_test, y_test) = fashion_mnist.load_data()"
   ]
  },
  {
   "cell_type": "markdown",
   "metadata": {},
   "source": [
    "## Building Intution"
   ]
  },
  {
   "cell_type": "markdown",
   "metadata": {},
   "source": [
    "### With Convolution"
   ]
  },
  {
   "cell_type": "code",
   "execution_count": 25,
   "metadata": {},
   "outputs": [
    {
     "data": {
      "text/plain": [
       "(28, 28)"
      ]
     },
     "execution_count": 25,
     "metadata": {},
     "output_type": "execute_result"
    }
   ],
   "source": [
    "image = x_train[3]\n",
    "image.shape"
   ]
  },
  {
   "cell_type": "code",
   "execution_count": 26,
   "metadata": {},
   "outputs": [
    {
     "data": {
      "application/vnd.vegalite.v2+json": {
       "$schema": "https://vega.github.io/schema/vega-lite/v2.4.3.json",
       "config": {
        "view": {
         "height": 300,
         "width": 400
        }
       },
       "data": {
        "values": [
         {
          "h": 0,
          "value": 0,
          "w": 0
         },
         {
          "h": 1,
          "value": 0,
          "w": 0
         },
         {
          "h": 2,
          "value": 0,
          "w": 0
         },
         {
          "h": 3,
          "value": 0,
          "w": 0
         },
         {
          "h": 4,
          "value": 0,
          "w": 0
         },
         {
          "h": 5,
          "value": 0,
          "w": 0
         },
         {
          "h": 6,
          "value": 0,
          "w": 0
         },
         {
          "h": 7,
          "value": 0,
          "w": 0
         },
         {
          "h": 8,
          "value": 0,
          "w": 0
         },
         {
          "h": 9,
          "value": 0,
          "w": 0
         },
         {
          "h": 10,
          "value": 0,
          "w": 0
         },
         {
          "h": 11,
          "value": 0,
          "w": 0
         },
         {
          "h": 12,
          "value": 0,
          "w": 0
         },
         {
          "h": 13,
          "value": 0,
          "w": 0
         },
         {
          "h": 14,
          "value": 0,
          "w": 0
         },
         {
          "h": 15,
          "value": 0,
          "w": 0
         },
         {
          "h": 16,
          "value": 0,
          "w": 0
         },
         {
          "h": 17,
          "value": 0,
          "w": 0
         },
         {
          "h": 18,
          "value": 0,
          "w": 0
         },
         {
          "h": 19,
          "value": 0,
          "w": 0
         },
         {
          "h": 20,
          "value": 0,
          "w": 0
         },
         {
          "h": 21,
          "value": 0,
          "w": 0
         },
         {
          "h": 22,
          "value": 0,
          "w": 0
         },
         {
          "h": 23,
          "value": 0,
          "w": 0
         },
         {
          "h": 24,
          "value": 0,
          "w": 0
         },
         {
          "h": 25,
          "value": 0,
          "w": 0
         },
         {
          "h": 26,
          "value": 0,
          "w": 0
         },
         {
          "h": 27,
          "value": 0,
          "w": 0
         },
         {
          "h": 0,
          "value": 0,
          "w": 1
         },
         {
          "h": 1,
          "value": 0,
          "w": 1
         },
         {
          "h": 2,
          "value": 0,
          "w": 1
         },
         {
          "h": 3,
          "value": 0,
          "w": 1
         },
         {
          "h": 4,
          "value": 0,
          "w": 1
         },
         {
          "h": 5,
          "value": 0,
          "w": 1
         },
         {
          "h": 6,
          "value": 0,
          "w": 1
         },
         {
          "h": 7,
          "value": 0,
          "w": 1
         },
         {
          "h": 8,
          "value": 0,
          "w": 1
         },
         {
          "h": 9,
          "value": 0,
          "w": 1
         },
         {
          "h": 10,
          "value": 0,
          "w": 1
         },
         {
          "h": 11,
          "value": 0,
          "w": 1
         },
         {
          "h": 12,
          "value": 0,
          "w": 1
         },
         {
          "h": 13,
          "value": 0,
          "w": 1
         },
         {
          "h": 14,
          "value": 0,
          "w": 1
         },
         {
          "h": 15,
          "value": 0,
          "w": 1
         },
         {
          "h": 16,
          "value": 0,
          "w": 1
         },
         {
          "h": 17,
          "value": 0,
          "w": 1
         },
         {
          "h": 18,
          "value": 0,
          "w": 1
         },
         {
          "h": 19,
          "value": 0,
          "w": 1
         },
         {
          "h": 20,
          "value": 0,
          "w": 1
         },
         {
          "h": 21,
          "value": 0,
          "w": 1
         },
         {
          "h": 22,
          "value": 0,
          "w": 1
         },
         {
          "h": 23,
          "value": 0,
          "w": 1
         },
         {
          "h": 24,
          "value": 0,
          "w": 1
         },
         {
          "h": 25,
          "value": 0,
          "w": 1
         },
         {
          "h": 26,
          "value": 0,
          "w": 1
         },
         {
          "h": 27,
          "value": 0,
          "w": 1
         },
         {
          "h": 0,
          "value": 0,
          "w": 2
         },
         {
          "h": 1,
          "value": 0,
          "w": 2
         },
         {
          "h": 2,
          "value": 0,
          "w": 2
         },
         {
          "h": 3,
          "value": 0,
          "w": 2
         },
         {
          "h": 4,
          "value": 0,
          "w": 2
         },
         {
          "h": 5,
          "value": 0,
          "w": 2
         },
         {
          "h": 6,
          "value": 0,
          "w": 2
         },
         {
          "h": 7,
          "value": 0,
          "w": 2
         },
         {
          "h": 8,
          "value": 0,
          "w": 2
         },
         {
          "h": 9,
          "value": 0,
          "w": 2
         },
         {
          "h": 10,
          "value": 0,
          "w": 2
         },
         {
          "h": 11,
          "value": 0,
          "w": 2
         },
         {
          "h": 12,
          "value": 0,
          "w": 2
         },
         {
          "h": 13,
          "value": 0,
          "w": 2
         },
         {
          "h": 14,
          "value": 0,
          "w": 2
         },
         {
          "h": 15,
          "value": 0,
          "w": 2
         },
         {
          "h": 16,
          "value": 0,
          "w": 2
         },
         {
          "h": 17,
          "value": 0,
          "w": 2
         },
         {
          "h": 18,
          "value": 0,
          "w": 2
         },
         {
          "h": 19,
          "value": 0,
          "w": 2
         },
         {
          "h": 20,
          "value": 0,
          "w": 2
         },
         {
          "h": 21,
          "value": 0,
          "w": 2
         },
         {
          "h": 22,
          "value": 0,
          "w": 2
         },
         {
          "h": 23,
          "value": 0,
          "w": 2
         },
         {
          "h": 24,
          "value": 0,
          "w": 2
         },
         {
          "h": 25,
          "value": 0,
          "w": 2
         },
         {
          "h": 26,
          "value": 0,
          "w": 2
         },
         {
          "h": 27,
          "value": 0,
          "w": 2
         },
         {
          "h": 0,
          "value": 0,
          "w": 3
         },
         {
          "h": 1,
          "value": 0,
          "w": 3
         },
         {
          "h": 2,
          "value": 0,
          "w": 3
         },
         {
          "h": 3,
          "value": 0,
          "w": 3
         },
         {
          "h": 4,
          "value": 0,
          "w": 3
         },
         {
          "h": 5,
          "value": 0,
          "w": 3
         },
         {
          "h": 6,
          "value": 0,
          "w": 3
         },
         {
          "h": 7,
          "value": 0,
          "w": 3
         },
         {
          "h": 8,
          "value": 0,
          "w": 3
         },
         {
          "h": 9,
          "value": 0,
          "w": 3
         },
         {
          "h": 10,
          "value": 0,
          "w": 3
         },
         {
          "h": 11,
          "value": 0,
          "w": 3
         },
         {
          "h": 12,
          "value": 0,
          "w": 3
         },
         {
          "h": 13,
          "value": 0,
          "w": 3
         },
         {
          "h": 14,
          "value": 0,
          "w": 3
         },
         {
          "h": 15,
          "value": 0,
          "w": 3
         },
         {
          "h": 16,
          "value": 0,
          "w": 3
         },
         {
          "h": 17,
          "value": 0,
          "w": 3
         },
         {
          "h": 18,
          "value": 0,
          "w": 3
         },
         {
          "h": 19,
          "value": 0,
          "w": 3
         },
         {
          "h": 20,
          "value": 0,
          "w": 3
         },
         {
          "h": 21,
          "value": 0,
          "w": 3
         },
         {
          "h": 22,
          "value": 0,
          "w": 3
         },
         {
          "h": 23,
          "value": 0,
          "w": 3
         },
         {
          "h": 24,
          "value": 0,
          "w": 3
         },
         {
          "h": 25,
          "value": 0,
          "w": 3
         },
         {
          "h": 26,
          "value": 0,
          "w": 3
         },
         {
          "h": 27,
          "value": 0,
          "w": 3
         },
         {
          "h": 0,
          "value": 0,
          "w": 4
         },
         {
          "h": 1,
          "value": 0,
          "w": 4
         },
         {
          "h": 2,
          "value": 0,
          "w": 4
         },
         {
          "h": 3,
          "value": 0,
          "w": 4
         },
         {
          "h": 4,
          "value": 0,
          "w": 4
         },
         {
          "h": 5,
          "value": 0,
          "w": 4
         },
         {
          "h": 6,
          "value": 0,
          "w": 4
         },
         {
          "h": 7,
          "value": 0,
          "w": 4
         },
         {
          "h": 8,
          "value": 0,
          "w": 4
         },
         {
          "h": 9,
          "value": 0,
          "w": 4
         },
         {
          "h": 10,
          "value": 0,
          "w": 4
         },
         {
          "h": 11,
          "value": 0,
          "w": 4
         },
         {
          "h": 12,
          "value": 0,
          "w": 4
         },
         {
          "h": 13,
          "value": 0,
          "w": 4
         },
         {
          "h": 14,
          "value": 0,
          "w": 4
         },
         {
          "h": 15,
          "value": 0,
          "w": 4
         },
         {
          "h": 16,
          "value": 0,
          "w": 4
         },
         {
          "h": 17,
          "value": 0,
          "w": 4
         },
         {
          "h": 18,
          "value": 0,
          "w": 4
         },
         {
          "h": 19,
          "value": 0,
          "w": 4
         },
         {
          "h": 20,
          "value": 0,
          "w": 4
         },
         {
          "h": 21,
          "value": 0,
          "w": 4
         },
         {
          "h": 22,
          "value": 0,
          "w": 4
         },
         {
          "h": 23,
          "value": 0,
          "w": 4
         },
         {
          "h": 24,
          "value": 0,
          "w": 4
         },
         {
          "h": 25,
          "value": 0,
          "w": 4
         },
         {
          "h": 26,
          "value": 0,
          "w": 4
         },
         {
          "h": 27,
          "value": 0,
          "w": 4
         },
         {
          "h": 0,
          "value": 0,
          "w": 5
         },
         {
          "h": 1,
          "value": 0,
          "w": 5
         },
         {
          "h": 2,
          "value": 35,
          "w": 5
         },
         {
          "h": 3,
          "value": 150,
          "w": 5
         },
         {
          "h": 4,
          "value": 54,
          "w": 5
         },
         {
          "h": 5,
          "value": 0,
          "w": 5
         },
         {
          "h": 6,
          "value": 0,
          "w": 5
         },
         {
          "h": 7,
          "value": 4,
          "w": 5
         },
         {
          "h": 8,
          "value": 0,
          "w": 5
         },
         {
          "h": 9,
          "value": 0,
          "w": 5
         },
         {
          "h": 10,
          "value": 0,
          "w": 5
         },
         {
          "h": 11,
          "value": 0,
          "w": 5
         },
         {
          "h": 12,
          "value": 0,
          "w": 5
         },
         {
          "h": 13,
          "value": 0,
          "w": 5
         },
         {
          "h": 14,
          "value": 0,
          "w": 5
         },
         {
          "h": 15,
          "value": 0,
          "w": 5
         },
         {
          "h": 16,
          "value": 0,
          "w": 5
         },
         {
          "h": 17,
          "value": 2,
          "w": 5
         },
         {
          "h": 18,
          "value": 0,
          "w": 5
         },
         {
          "h": 19,
          "value": 0,
          "w": 5
         },
         {
          "h": 20,
          "value": 0,
          "w": 5
         },
         {
          "h": 21,
          "value": 0,
          "w": 5
         },
         {
          "h": 22,
          "value": 0,
          "w": 5
         },
         {
          "h": 23,
          "value": 0,
          "w": 5
         },
         {
          "h": 24,
          "value": 0,
          "w": 5
         },
         {
          "h": 25,
          "value": 0,
          "w": 5
         },
         {
          "h": 26,
          "value": 0,
          "w": 5
         },
         {
          "h": 27,
          "value": 0,
          "w": 5
         },
         {
          "h": 0,
          "value": 0,
          "w": 6
         },
         {
          "h": 1,
          "value": 73,
          "w": 6
         },
         {
          "h": 2,
          "value": 163,
          "w": 6
         },
         {
          "h": 3,
          "value": 142,
          "w": 6
         },
         {
          "h": 4,
          "value": 167,
          "w": 6
         },
         {
          "h": 5,
          "value": 110,
          "w": 6
         },
         {
          "h": 6,
          "value": 0,
          "w": 6
         },
         {
          "h": 7,
          "value": 0,
          "w": 6
         },
         {
          "h": 8,
          "value": 0,
          "w": 6
         },
         {
          "h": 9,
          "value": 0,
          "w": 6
         },
         {
          "h": 10,
          "value": 2,
          "w": 6
         },
         {
          "h": 11,
          "value": 2,
          "w": 6
         },
         {
          "h": 12,
          "value": 2,
          "w": 6
         },
         {
          "h": 13,
          "value": 0,
          "w": 6
         },
         {
          "h": 14,
          "value": 2,
          "w": 6
         },
         {
          "h": 15,
          "value": 0,
          "w": 6
         },
         {
          "h": 16,
          "value": 0,
          "w": 6
         },
         {
          "h": 17,
          "value": 0,
          "w": 6
         },
         {
          "h": 18,
          "value": 0,
          "w": 6
         },
         {
          "h": 19,
          "value": 0,
          "w": 6
         },
         {
          "h": 20,
          "value": 33,
          "w": 6
         },
         {
          "h": 21,
          "value": 62,
          "w": 6
         },
         {
          "h": 22,
          "value": 66,
          "w": 6
         },
         {
          "h": 23,
          "value": 85,
          "w": 6
         },
         {
          "h": 24,
          "value": 106,
          "w": 6
         },
         {
          "h": 25,
          "value": 117,
          "w": 6
         },
         {
          "h": 26,
          "value": 154,
          "w": 6
         },
         {
          "h": 27,
          "value": 4,
          "w": 6
         },
         {
          "h": 0,
          "value": 0,
          "w": 7
         },
         {
          "h": 1,
          "value": 186,
          "w": 7
         },
         {
          "h": 2,
          "value": 140,
          "w": 7
         },
         {
          "h": 3,
          "value": 140,
          "w": 7
         },
         {
          "h": 4,
          "value": 146,
          "w": 7
         },
         {
          "h": 5,
          "value": 188,
          "w": 7
         },
         {
          "h": 6,
          "value": 221,
          "w": 7
         },
         {
          "h": 7,
          "value": 25,
          "w": 7
         },
         {
          "h": 8,
          "value": 0,
          "w": 7
         },
         {
          "h": 9,
          "value": 0,
          "w": 7
         },
         {
          "h": 10,
          "value": 0,
          "w": 7
         },
         {
          "h": 11,
          "value": 0,
          "w": 7
         },
         {
          "h": 12,
          "value": 0,
          "w": 7
         },
         {
          "h": 13,
          "value": 0,
          "w": 7
         },
         {
          "h": 14,
          "value": 0,
          "w": 7
         },
         {
          "h": 15,
          "value": 0,
          "w": 7
         },
         {
          "h": 16,
          "value": 0,
          "w": 7
         },
         {
          "h": 17,
          "value": 29,
          "w": 7
         },
         {
          "h": 18,
          "value": 100,
          "w": 7
         },
         {
          "h": 19,
          "value": 146,
          "w": 7
         },
         {
          "h": 20,
          "value": 121,
          "w": 7
         },
         {
          "h": 21,
          "value": 119,
          "w": 7
         },
         {
          "h": 22,
          "value": 121,
          "w": 7
         },
         {
          "h": 23,
          "value": 127,
          "w": 7
         },
         {
          "h": 24,
          "value": 129,
          "w": 7
         },
         {
          "h": 25,
          "value": 119,
          "w": 7
         },
         {
          "h": 26,
          "value": 121,
          "w": 7
         },
         {
          "h": 27,
          "value": 0,
          "w": 7
         },
         {
          "h": 0,
          "value": 33,
          "w": 8
         },
         {
          "h": 1,
          "value": 177,
          "w": 8
         },
         {
          "h": 2,
          "value": 150,
          "w": 8
         },
         {
          "h": 3,
          "value": 152,
          "w": 8
         },
         {
          "h": 4,
          "value": 129,
          "w": 8
         },
         {
          "h": 5,
          "value": 133,
          "w": 8
         },
         {
          "h": 6,
          "value": 158,
          "w": 8
         },
         {
          "h": 7,
          "value": 158,
          "w": 8
         },
         {
          "h": 8,
          "value": 123,
          "w": 8
         },
         {
          "h": 9,
          "value": 125,
          "w": 8
         },
         {
          "h": 10,
          "value": 98,
          "w": 8
         },
         {
          "h": 11,
          "value": 66,
          "w": 8
         },
         {
          "h": 12,
          "value": 56,
          "w": 8
         },
         {
          "h": 13,
          "value": 52,
          "w": 8
         },
         {
          "h": 14,
          "value": 66,
          "w": 8
         },
         {
          "h": 15,
          "value": 45,
          "w": 8
         },
         {
          "h": 16,
          "value": 106,
          "w": 8
         },
         {
          "h": 17,
          "value": 148,
          "w": 8
         },
         {
          "h": 18,
          "value": 106,
          "w": 8
         },
         {
          "h": 19,
          "value": 100,
          "w": 8
         },
         {
          "h": 20,
          "value": 108,
          "w": 8
         },
         {
          "h": 21,
          "value": 112,
          "w": 8
         },
         {
          "h": 22,
          "value": 102,
          "w": 8
         },
         {
          "h": 23,
          "value": 81,
          "w": 8
         },
         {
          "h": 24,
          "value": 62,
          "w": 8
         },
         {
          "h": 25,
          "value": 79,
          "w": 8
         },
         {
          "h": 26,
          "value": 87,
          "w": 8
         },
         {
          "h": 27,
          "value": 2,
          "w": 8
         },
         {
          "h": 0,
          "value": 96,
          "w": 9
         },
         {
          "h": 1,
          "value": 183,
          "w": 9
         },
         {
          "h": 2,
          "value": 152,
          "w": 9
         },
         {
          "h": 3,
          "value": 160,
          "w": 9
         },
         {
          "h": 4,
          "value": 142,
          "w": 9
         },
         {
          "h": 5,
          "value": 146,
          "w": 9
         },
         {
          "h": 6,
          "value": 137,
          "w": 9
         },
         {
          "h": 7,
          "value": 137,
          "w": 9
         },
         {
          "h": 8,
          "value": 156,
          "w": 9
         },
         {
          "h": 9,
          "value": 169,
          "w": 9
         },
         {
          "h": 10,
          "value": 171,
          "w": 9
         },
         {
          "h": 11,
          "value": 173,
          "w": 9
         },
         {
          "h": 12,
          "value": 171,
          "w": 9
         },
         {
          "h": 13,
          "value": 150,
          "w": 9
         },
         {
          "h": 14,
          "value": 167,
          "w": 9
         },
         {
          "h": 15,
          "value": 123,
          "w": 9
         },
         {
          "h": 16,
          "value": 89,
          "w": 9
         },
         {
          "h": 17,
          "value": 114,
          "w": 9
         },
         {
          "h": 18,
          "value": 114,
          "w": 9
         },
         {
          "h": 19,
          "value": 108,
          "w": 9
         },
         {
          "h": 20,
          "value": 96,
          "w": 9
         },
         {
          "h": 21,
          "value": 102,
          "w": 9
         },
         {
          "h": 22,
          "value": 112,
          "w": 9
         },
         {
          "h": 23,
          "value": 125,
          "w": 9
         },
         {
          "h": 24,
          "value": 140,
          "w": 9
         },
         {
          "h": 25,
          "value": 140,
          "w": 9
         },
         {
          "h": 26,
          "value": 140,
          "w": 9
         },
         {
          "h": 27,
          "value": 0,
          "w": 9
         },
         {
          "h": 0,
          "value": 175,
          "w": 10
         },
         {
          "h": 1,
          "value": 175,
          "w": 10
         },
         {
          "h": 2,
          "value": 150,
          "w": 10
         },
         {
          "h": 3,
          "value": 156,
          "w": 10
         },
         {
          "h": 4,
          "value": 137,
          "w": 10
         },
         {
          "h": 5,
          "value": 152,
          "w": 10
         },
         {
          "h": 6,
          "value": 135,
          "w": 10
         },
         {
          "h": 7,
          "value": 125,
          "w": 10
         },
         {
          "h": 8,
          "value": 129,
          "w": 10
         },
         {
          "h": 9,
          "value": 127,
          "w": 10
         },
         {
          "h": 10,
          "value": 129,
          "w": 10
         },
         {
          "h": 11,
          "value": 135,
          "w": 10
         },
         {
          "h": 12,
          "value": 135,
          "w": 10
         },
         {
          "h": 13,
          "value": 129,
          "w": 10
         },
         {
          "h": 14,
          "value": 140,
          "w": 10
         },
         {
          "h": 15,
          "value": 94,
          "w": 10
         },
         {
          "h": 16,
          "value": 58,
          "w": 10
         },
         {
          "h": 17,
          "value": 106,
          "w": 10
         },
         {
          "h": 18,
          "value": 91,
          "w": 10
         },
         {
          "h": 19,
          "value": 98,
          "w": 10
         },
         {
          "h": 20,
          "value": 100,
          "w": 10
         },
         {
          "h": 21,
          "value": 110,
          "w": 10
         },
         {
          "h": 22,
          "value": 117,
          "w": 10
         },
         {
          "h": 23,
          "value": 133,
          "w": 10
         },
         {
          "h": 24,
          "value": 144,
          "w": 10
         },
         {
          "h": 25,
          "value": 152,
          "w": 10
         },
         {
          "h": 26,
          "value": 154,
          "w": 10
         },
         {
          "h": 27,
          "value": 35,
          "w": 10
         },
         {
          "h": 0,
          "value": 156,
          "w": 11
         },
         {
          "h": 1,
          "value": 188,
          "w": 11
         },
         {
          "h": 2,
          "value": 146,
          "w": 11
         },
         {
          "h": 3,
          "value": 146,
          "w": 11
         },
         {
          "h": 4,
          "value": 137,
          "w": 11
         },
         {
          "h": 5,
          "value": 133,
          "w": 11
         },
         {
          "h": 6,
          "value": 123,
          "w": 11
         },
         {
          "h": 7,
          "value": 119,
          "w": 11
         },
         {
          "h": 8,
          "value": 112,
          "w": 11
         },
         {
          "h": 9,
          "value": 119,
          "w": 11
         },
         {
          "h": 10,
          "value": 112,
          "w": 11
         },
         {
          "h": 11,
          "value": 129,
          "w": 11
         },
         {
          "h": 12,
          "value": 127,
          "w": 11
         },
         {
          "h": 13,
          "value": 110,
          "w": 11
         },
         {
          "h": 14,
          "value": 148,
          "w": 11
         },
         {
          "h": 15,
          "value": 104,
          "w": 11
         },
         {
          "h": 16,
          "value": 50,
          "w": 11
         },
         {
          "h": 17,
          "value": 125,
          "w": 11
         },
         {
          "h": 18,
          "value": 137,
          "w": 11
         },
         {
          "h": 19,
          "value": 144,
          "w": 11
         },
         {
          "h": 20,
          "value": 140,
          "w": 11
         },
         {
          "h": 21,
          "value": 137,
          "w": 11
         },
         {
          "h": 22,
          "value": 131,
          "w": 11
         },
         {
          "h": 23,
          "value": 119,
          "w": 11
         },
         {
          "h": 24,
          "value": 108,
          "w": 11
         },
         {
          "h": 25,
          "value": 102,
          "w": 11
         },
         {
          "h": 26,
          "value": 112,
          "w": 11
         },
         {
          "h": 27,
          "value": 4,
          "w": 11
         },
         {
          "h": 0,
          "value": 64,
          "w": 12
         },
         {
          "h": 1,
          "value": 232,
          "w": 12
         },
         {
          "h": 2,
          "value": 175,
          "w": 12
         },
         {
          "h": 3,
          "value": 142,
          "w": 12
         },
         {
          "h": 4,
          "value": 131,
          "w": 12
         },
         {
          "h": 5,
          "value": 125,
          "w": 12
         },
         {
          "h": 6,
          "value": 110,
          "w": 12
         },
         {
          "h": 7,
          "value": 119,
          "w": 12
         },
         {
          "h": 8,
          "value": 110,
          "w": 12
         },
         {
          "h": 9,
          "value": 106,
          "w": 12
         },
         {
          "h": 10,
          "value": 104,
          "w": 12
         },
         {
          "h": 11,
          "value": 98,
          "w": 12
         },
         {
          "h": 12,
          "value": 100,
          "w": 12
         },
         {
          "h": 13,
          "value": 100,
          "w": 12
         },
         {
          "h": 14,
          "value": 148,
          "w": 12
         },
         {
          "h": 15,
          "value": 96,
          "w": 12
         },
         {
          "h": 16,
          "value": 37,
          "w": 12
         },
         {
          "h": 17,
          "value": 89,
          "w": 12
         },
         {
          "h": 18,
          "value": 62,
          "w": 12
         },
         {
          "h": 19,
          "value": 62,
          "w": 12
         },
         {
          "h": 20,
          "value": 71,
          "w": 12
         },
         {
          "h": 21,
          "value": 75,
          "w": 12
         },
         {
          "h": 22,
          "value": 73,
          "w": 12
         },
         {
          "h": 23,
          "value": 79,
          "w": 12
         },
         {
          "h": 24,
          "value": 85,
          "w": 12
         },
         {
          "h": 25,
          "value": 89,
          "w": 12
         },
         {
          "h": 26,
          "value": 94,
          "w": 12
         },
         {
          "h": 27,
          "value": 33,
          "w": 12
         },
         {
          "h": 0,
          "value": 14,
          "w": 13
         },
         {
          "h": 1,
          "value": 255,
          "w": 13
         },
         {
          "h": 2,
          "value": 175,
          "w": 13
         },
         {
          "h": 3,
          "value": 127,
          "w": 13
         },
         {
          "h": 4,
          "value": 148,
          "w": 13
         },
         {
          "h": 5,
          "value": 127,
          "w": 13
         },
         {
          "h": 6,
          "value": 110,
          "w": 13
         },
         {
          "h": 7,
          "value": 110,
          "w": 13
         },
         {
          "h": 8,
          "value": 102,
          "w": 13
         },
         {
          "h": 9,
          "value": 108,
          "w": 13
         },
         {
          "h": 10,
          "value": 114,
          "w": 13
         },
         {
          "h": 11,
          "value": 100,
          "w": 13
         },
         {
          "h": 12,
          "value": 108,
          "w": 13
         },
         {
          "h": 13,
          "value": 91,
          "w": 13
         },
         {
          "h": 14,
          "value": 127,
          "w": 13
         },
         {
          "h": 15,
          "value": 119,
          "w": 13
         },
         {
          "h": 16,
          "value": 50,
          "w": 13
         },
         {
          "h": 17,
          "value": 100,
          "w": 13
         },
         {
          "h": 18,
          "value": 102,
          "w": 13
         },
         {
          "h": 19,
          "value": 106,
          "w": 13
         },
         {
          "h": 20,
          "value": 106,
          "w": 13
         },
         {
          "h": 21,
          "value": 106,
          "w": 13
         },
         {
          "h": 22,
          "value": 104,
          "w": 13
         },
         {
          "h": 23,
          "value": 100,
          "w": 13
         },
         {
          "h": 24,
          "value": 83,
          "w": 13
         },
         {
          "h": 25,
          "value": 110,
          "w": 13
         },
         {
          "h": 26,
          "value": 52,
          "w": 13
         },
         {
          "h": 27,
          "value": 0,
          "w": 13
         },
         {
          "h": 0,
          "value": 54,
          "w": 14
         },
         {
          "h": 1,
          "value": 223,
          "w": 14
         },
         {
          "h": 2,
          "value": 173,
          "w": 14
         },
         {
          "h": 3,
          "value": 135,
          "w": 14
         },
         {
          "h": 4,
          "value": 148,
          "w": 14
         },
         {
          "h": 5,
          "value": 119,
          "w": 14
         },
         {
          "h": 6,
          "value": 114,
          "w": 14
         },
         {
          "h": 7,
          "value": 117,
          "w": 14
         },
         {
          "h": 8,
          "value": 112,
          "w": 14
         },
         {
          "h": 9,
          "value": 104,
          "w": 14
         },
         {
          "h": 10,
          "value": 106,
          "w": 14
         },
         {
          "h": 11,
          "value": 119,
          "w": 14
         },
         {
          "h": 12,
          "value": 117,
          "w": 14
         },
         {
          "h": 13,
          "value": 102,
          "w": 14
         },
         {
          "h": 14,
          "value": 137,
          "w": 14
         },
         {
          "h": 15,
          "value": 121,
          "w": 14
         },
         {
          "h": 16,
          "value": 66,
          "w": 14
         },
         {
          "h": 17,
          "value": 133,
          "w": 14
         },
         {
          "h": 18,
          "value": 131,
          "w": 14
         },
         {
          "h": 19,
          "value": 131,
          "w": 14
         },
         {
          "h": 20,
          "value": 127,
          "w": 14
         },
         {
          "h": 21,
          "value": 144,
          "w": 14
         },
         {
          "h": 22,
          "value": 156,
          "w": 14
         },
         {
          "h": 23,
          "value": 169,
          "w": 14
         },
         {
          "h": 24,
          "value": 158,
          "w": 14
         },
         {
          "h": 25,
          "value": 137,
          "w": 14
         },
         {
          "h": 26,
          "value": 142,
          "w": 14
         },
         {
          "h": 27,
          "value": 0,
          "w": 14
         },
         {
          "h": 0,
          "value": 137,
          "w": 15
         },
         {
          "h": 1,
          "value": 219,
          "w": 15
         },
         {
          "h": 2,
          "value": 171,
          "w": 15
         },
         {
          "h": 3,
          "value": 133,
          "w": 15
         },
         {
          "h": 4,
          "value": 133,
          "w": 15
         },
         {
          "h": 5,
          "value": 129,
          "w": 15
         },
         {
          "h": 6,
          "value": 108,
          "w": 15
         },
         {
          "h": 7,
          "value": 117,
          "w": 15
         },
         {
          "h": 8,
          "value": 100,
          "w": 15
         },
         {
          "h": 9,
          "value": 94,
          "w": 15
         },
         {
          "h": 10,
          "value": 102,
          "w": 15
         },
         {
          "h": 11,
          "value": 102,
          "w": 15
         },
         {
          "h": 12,
          "value": 85,
          "w": 15
         },
         {
          "h": 13,
          "value": 94,
          "w": 15
         },
         {
          "h": 14,
          "value": 152,
          "w": 15
         },
         {
          "h": 15,
          "value": 106,
          "w": 15
         },
         {
          "h": 16,
          "value": 56,
          "w": 15
         },
         {
          "h": 17,
          "value": 117,
          "w": 15
         },
         {
          "h": 18,
          "value": 89,
          "w": 15
         },
         {
          "h": 19,
          "value": 87,
          "w": 15
         },
         {
          "h": 20,
          "value": 85,
          "w": 15
         },
         {
          "h": 21,
          "value": 81,
          "w": 15
         },
         {
          "h": 22,
          "value": 77,
          "w": 15
         },
         {
          "h": 23,
          "value": 83,
          "w": 15
         },
         {
          "h": 24,
          "value": 85,
          "w": 15
         },
         {
          "h": 25,
          "value": 96,
          "w": 15
         },
         {
          "h": 26,
          "value": 100,
          "w": 15
         },
         {
          "h": 27,
          "value": 0,
          "w": 15
         },
         {
          "h": 0,
          "value": 204,
          "w": 16
         },
         {
          "h": 1,
          "value": 194,
          "w": 16
         },
         {
          "h": 2,
          "value": 156,
          "w": 16
         },
         {
          "h": 3,
          "value": 140,
          "w": 16
         },
         {
          "h": 4,
          "value": 131,
          "w": 16
         },
         {
          "h": 5,
          "value": 133,
          "w": 16
         },
         {
          "h": 6,
          "value": 112,
          "w": 16
         },
         {
          "h": 7,
          "value": 110,
          "w": 16
         },
         {
          "h": 8,
          "value": 121,
          "w": 16
         },
         {
          "h": 9,
          "value": 121,
          "w": 16
         },
         {
          "h": 10,
          "value": 112,
          "w": 16
         },
         {
          "h": 11,
          "value": 108,
          "w": 16
         },
         {
          "h": 12,
          "value": 106,
          "w": 16
         },
         {
          "h": 13,
          "value": 83,
          "w": 16
         },
         {
          "h": 14,
          "value": 146,
          "w": 16
         },
         {
          "h": 15,
          "value": 98,
          "w": 16
         },
         {
          "h": 16,
          "value": 50,
          "w": 16
         },
         {
          "h": 17,
          "value": 131,
          "w": 16
         },
         {
          "h": 18,
          "value": 135,
          "w": 16
         },
         {
          "h": 19,
          "value": 133,
          "w": 16
         },
         {
          "h": 20,
          "value": 140,
          "w": 16
         },
         {
          "h": 21,
          "value": 144,
          "w": 16
         },
         {
          "h": 22,
          "value": 137,
          "w": 16
         },
         {
          "h": 23,
          "value": 129,
          "w": 16
         },
         {
          "h": 24,
          "value": 129,
          "w": 16
         },
         {
          "h": 25,
          "value": 150,
          "w": 16
         },
         {
          "h": 26,
          "value": 83,
          "w": 16
         },
         {
          "h": 27,
          "value": 0,
          "w": 16
         },
         {
          "h": 0,
          "value": 194,
          "w": 17
         },
         {
          "h": 1,
          "value": 179,
          "w": 17
         },
         {
          "h": 2,
          "value": 152,
          "w": 17
         },
         {
          "h": 3,
          "value": 140,
          "w": 17
         },
         {
          "h": 4,
          "value": 131,
          "w": 17
         },
         {
          "h": 5,
          "value": 119,
          "w": 17
         },
         {
          "h": 6,
          "value": 117,
          "w": 17
         },
         {
          "h": 7,
          "value": 119,
          "w": 17
         },
         {
          "h": 8,
          "value": 117,
          "w": 17
         },
         {
          "h": 9,
          "value": 114,
          "w": 17
         },
         {
          "h": 10,
          "value": 104,
          "w": 17
         },
         {
          "h": 11,
          "value": 98,
          "w": 17
         },
         {
          "h": 12,
          "value": 110,
          "w": 17
         },
         {
          "h": 13,
          "value": 104,
          "w": 17
         },
         {
          "h": 14,
          "value": 146,
          "w": 17
         },
         {
          "h": 15,
          "value": 112,
          "w": 17
         },
         {
          "h": 16,
          "value": 75,
          "w": 17
         },
         {
          "h": 17,
          "value": 131,
          "w": 17
         },
         {
          "h": 18,
          "value": 112,
          "w": 17
         },
         {
          "h": 19,
          "value": 104,
          "w": 17
         },
         {
          "h": 20,
          "value": 104,
          "w": 17
         },
         {
          "h": 21,
          "value": 108,
          "w": 17
         },
         {
          "h": 22,
          "value": 135,
          "w": 17
         },
         {
          "h": 23,
          "value": 175,
          "w": 17
         },
         {
          "h": 24,
          "value": 175,
          "w": 17
         },
         {
          "h": 25,
          "value": 196,
          "w": 17
         },
         {
          "h": 26,
          "value": 152,
          "w": 17
         },
         {
          "h": 27,
          "value": 0,
          "w": 17
         },
         {
          "h": 0,
          "value": 102,
          "w": 18
         },
         {
          "h": 1,
          "value": 186,
          "w": 18
         },
         {
          "h": 2,
          "value": 148,
          "w": 18
         },
         {
          "h": 3,
          "value": 137,
          "w": 18
         },
         {
          "h": 4,
          "value": 131,
          "w": 18
         },
         {
          "h": 5,
          "value": 140,
          "w": 18
         },
         {
          "h": 6,
          "value": 127,
          "w": 18
         },
         {
          "h": 7,
          "value": 127,
          "w": 18
         },
         {
          "h": 8,
          "value": 129,
          "w": 18
         },
         {
          "h": 9,
          "value": 129,
          "w": 18
         },
         {
          "h": 10,
          "value": 133,
          "w": 18
         },
         {
          "h": 11,
          "value": 135,
          "w": 18
         },
         {
          "h": 12,
          "value": 135,
          "w": 18
         },
         {
          "h": 13,
          "value": 123,
          "w": 18
         },
         {
          "h": 14,
          "value": 148,
          "w": 18
         },
         {
          "h": 15,
          "value": 87,
          "w": 18
         },
         {
          "h": 16,
          "value": 75,
          "w": 18
         },
         {
          "h": 17,
          "value": 131,
          "w": 18
         },
         {
          "h": 18,
          "value": 131,
          "w": 18
         },
         {
          "h": 19,
          "value": 160,
          "w": 18
         },
         {
          "h": 20,
          "value": 150,
          "w": 18
         },
         {
          "h": 21,
          "value": 117,
          "w": 18
         },
         {
          "h": 22,
          "value": 83,
          "w": 18
         },
         {
          "h": 23,
          "value": 60,
          "w": 18
         },
         {
          "h": 24,
          "value": 48,
          "w": 18
         },
         {
          "h": 25,
          "value": 83,
          "w": 18
         },
         {
          "h": 26,
          "value": 85,
          "w": 18
         },
         {
          "h": 27,
          "value": 0,
          "w": 18
         },
         {
          "h": 0,
          "value": 0,
          "w": 19
         },
         {
          "h": 1,
          "value": 213,
          "w": 19
         },
         {
          "h": 2,
          "value": 129,
          "w": 19
         },
         {
          "h": 3,
          "value": 133,
          "w": 19
         },
         {
          "h": 4,
          "value": 125,
          "w": 19
         },
         {
          "h": 5,
          "value": 131,
          "w": 19
         },
         {
          "h": 6,
          "value": 142,
          "w": 19
         },
         {
          "h": 7,
          "value": 144,
          "w": 19
         },
         {
          "h": 8,
          "value": 114,
          "w": 19
         },
         {
          "h": 9,
          "value": 91,
          "w": 19
         },
         {
          "h": 10,
          "value": 64,
          "w": 19
         },
         {
          "h": 11,
          "value": 60,
          "w": 19
         },
         {
          "h": 12,
          "value": 66,
          "w": 19
         },
         {
          "h": 13,
          "value": 66,
          "w": 19
         },
         {
          "h": 14,
          "value": 96,
          "w": 19
         },
         {
          "h": 15,
          "value": 114,
          "w": 19
         },
         {
          "h": 16,
          "value": 137,
          "w": 19
         },
         {
          "h": 17,
          "value": 125,
          "w": 19
         },
         {
          "h": 18,
          "value": 108,
          "w": 19
         },
         {
          "h": 19,
          "value": 117,
          "w": 19
         },
         {
          "h": 20,
          "value": 140,
          "w": 19
         },
         {
          "h": 21,
          "value": 154,
          "w": 19
         },
         {
          "h": 22,
          "value": 179,
          "w": 19
         },
         {
          "h": 23,
          "value": 163,
          "w": 19
         },
         {
          "h": 24,
          "value": 146,
          "w": 19
         },
         {
          "h": 25,
          "value": 144,
          "w": 19
         },
         {
          "h": 26,
          "value": 160,
          "w": 19
         },
         {
          "h": 27,
          "value": 0,
          "w": 19
         },
         {
          "h": 0,
          "value": 0,
          "w": 20
         },
         {
          "h": 1,
          "value": 146,
          "w": 20
         },
         {
          "h": 2,
          "value": 156,
          "w": 20
         },
         {
          "h": 3,
          "value": 125,
          "w": 20
         },
         {
          "h": 4,
          "value": 140,
          "w": 20
         },
         {
          "h": 5,
          "value": 150,
          "w": 20
         },
         {
          "h": 6,
          "value": 77,
          "w": 20
         },
         {
          "h": 7,
          "value": 0,
          "w": 20
         },
         {
          "h": 8,
          "value": 0,
          "w": 20
         },
         {
          "h": 9,
          "value": 0,
          "w": 20
         },
         {
          "h": 10,
          "value": 0,
          "w": 20
         },
         {
          "h": 11,
          "value": 0,
          "w": 20
         },
         {
          "h": 12,
          "value": 0,
          "w": 20
         },
         {
          "h": 13,
          "value": 0,
          "w": 20
         },
         {
          "h": 14,
          "value": 0,
          "w": 20
         },
         {
          "h": 15,
          "value": 0,
          "w": 20
         },
         {
          "h": 16,
          "value": 22,
          "w": 20
         },
         {
          "h": 17,
          "value": 112,
          "w": 20
         },
         {
          "h": 18,
          "value": 135,
          "w": 20
         },
         {
          "h": 19,
          "value": 121,
          "w": 20
         },
         {
          "h": 20,
          "value": 114,
          "w": 20
         },
         {
          "h": 21,
          "value": 117,
          "w": 20
         },
         {
          "h": 22,
          "value": 129,
          "w": 20
         },
         {
          "h": 23,
          "value": 135,
          "w": 20
         },
         {
          "h": 24,
          "value": 133,
          "w": 20
         },
         {
          "h": 25,
          "value": 135,
          "w": 20
         },
         {
          "h": 26,
          "value": 133,
          "w": 20
         },
         {
          "h": 27,
          "value": 0,
          "w": 20
         },
         {
          "h": 0,
          "value": 0,
          "w": 21
         },
         {
          "h": 1,
          "value": 0,
          "w": 21
         },
         {
          "h": 2,
          "value": 140,
          "w": 21
         },
         {
          "h": 3,
          "value": 169,
          "w": 21
         },
         {
          "h": 4,
          "value": 140,
          "w": 21
         },
         {
          "h": 5,
          "value": 14,
          "w": 21
         },
         {
          "h": 6,
          "value": 0,
          "w": 21
         },
         {
          "h": 7,
          "value": 0,
          "w": 21
         },
         {
          "h": 8,
          "value": 0,
          "w": 21
         },
         {
          "h": 9,
          "value": 0,
          "w": 21
         },
         {
          "h": 10,
          "value": 4,
          "w": 21
         },
         {
          "h": 11,
          "value": 4,
          "w": 21
         },
         {
          "h": 12,
          "value": 4,
          "w": 21
         },
         {
          "h": 13,
          "value": 4,
          "w": 21
         },
         {
          "h": 14,
          "value": 0,
          "w": 21
         },
         {
          "h": 15,
          "value": 0,
          "w": 21
         },
         {
          "h": 16,
          "value": 0,
          "w": 21
         },
         {
          "h": 17,
          "value": 0,
          "w": 21
         },
         {
          "h": 18,
          "value": 37,
          "w": 21
         },
         {
          "h": 19,
          "value": 68,
          "w": 21
         },
         {
          "h": 20,
          "value": 89,
          "w": 21
         },
         {
          "h": 21,
          "value": 104,
          "w": 21
         },
         {
          "h": 22,
          "value": 121,
          "w": 21
         },
         {
          "h": 23,
          "value": 146,
          "w": 21
         },
         {
          "h": 24,
          "value": 135,
          "w": 21
         },
         {
          "h": 25,
          "value": 133,
          "w": 21
         },
         {
          "h": 26,
          "value": 100,
          "w": 21
         },
         {
          "h": 27,
          "value": 0,
          "w": 21
         },
         {
          "h": 0,
          "value": 0,
          "w": 22
         },
         {
          "h": 1,
          "value": 0,
          "w": 22
         },
         {
          "h": 2,
          "value": 0,
          "w": 22
         },
         {
          "h": 3,
          "value": 75,
          "w": 22
         },
         {
          "h": 4,
          "value": 0,
          "w": 22
         },
         {
          "h": 5,
          "value": 0,
          "w": 22
         },
         {
          "h": 6,
          "value": 0,
          "w": 22
         },
         {
          "h": 7,
          "value": 0,
          "w": 22
         },
         {
          "h": 8,
          "value": 0,
          "w": 22
         },
         {
          "h": 9,
          "value": 0,
          "w": 22
         },
         {
          "h": 10,
          "value": 0,
          "w": 22
         },
         {
          "h": 11,
          "value": 0,
          "w": 22
         },
         {
          "h": 12,
          "value": 0,
          "w": 22
         },
         {
          "h": 13,
          "value": 0,
          "w": 22
         },
         {
          "h": 14,
          "value": 0,
          "w": 22
         },
         {
          "h": 15,
          "value": 0,
          "w": 22
         },
         {
          "h": 16,
          "value": 2,
          "w": 22
         },
         {
          "h": 17,
          "value": 0,
          "w": 22
         },
         {
          "h": 18,
          "value": 0,
          "w": 22
         },
         {
          "h": 19,
          "value": 0,
          "w": 22
         },
         {
          "h": 20,
          "value": 0,
          "w": 22
         },
         {
          "h": 21,
          "value": 18,
          "w": 22
         },
         {
          "h": 22,
          "value": 35,
          "w": 22
         },
         {
          "h": 23,
          "value": 39,
          "w": 22
         },
         {
          "h": 24,
          "value": 64,
          "w": 22
         },
         {
          "h": 25,
          "value": 77,
          "w": 22
         },
         {
          "h": 26,
          "value": 12,
          "w": 22
         },
         {
          "h": 27,
          "value": 0,
          "w": 22
         },
         {
          "h": 0,
          "value": 0,
          "w": 23
         },
         {
          "h": 1,
          "value": 0,
          "w": 23
         },
         {
          "h": 2,
          "value": 0,
          "w": 23
         },
         {
          "h": 3,
          "value": 0,
          "w": 23
         },
         {
          "h": 4,
          "value": 0,
          "w": 23
         },
         {
          "h": 5,
          "value": 0,
          "w": 23
         },
         {
          "h": 6,
          "value": 0,
          "w": 23
         },
         {
          "h": 7,
          "value": 0,
          "w": 23
         },
         {
          "h": 8,
          "value": 0,
          "w": 23
         },
         {
          "h": 9,
          "value": 0,
          "w": 23
         },
         {
          "h": 10,
          "value": 0,
          "w": 23
         },
         {
          "h": 11,
          "value": 0,
          "w": 23
         },
         {
          "h": 12,
          "value": 0,
          "w": 23
         },
         {
          "h": 13,
          "value": 0,
          "w": 23
         },
         {
          "h": 14,
          "value": 0,
          "w": 23
         },
         {
          "h": 15,
          "value": 0,
          "w": 23
         },
         {
          "h": 16,
          "value": 0,
          "w": 23
         },
         {
          "h": 17,
          "value": 0,
          "w": 23
         },
         {
          "h": 18,
          "value": 0,
          "w": 23
         },
         {
          "h": 19,
          "value": 0,
          "w": 23
         },
         {
          "h": 20,
          "value": 0,
          "w": 23
         },
         {
          "h": 21,
          "value": 0,
          "w": 23
         },
         {
          "h": 22,
          "value": 0,
          "w": 23
         },
         {
          "h": 23,
          "value": 0,
          "w": 23
         },
         {
          "h": 24,
          "value": 0,
          "w": 23
         },
         {
          "h": 25,
          "value": 0,
          "w": 23
         },
         {
          "h": 26,
          "value": 0,
          "w": 23
         },
         {
          "h": 27,
          "value": 0,
          "w": 23
         },
         {
          "h": 0,
          "value": 0,
          "w": 24
         },
         {
          "h": 1,
          "value": 0,
          "w": 24
         },
         {
          "h": 2,
          "value": 0,
          "w": 24
         },
         {
          "h": 3,
          "value": 0,
          "w": 24
         },
         {
          "h": 4,
          "value": 0,
          "w": 24
         },
         {
          "h": 5,
          "value": 0,
          "w": 24
         },
         {
          "h": 6,
          "value": 0,
          "w": 24
         },
         {
          "h": 7,
          "value": 0,
          "w": 24
         },
         {
          "h": 8,
          "value": 0,
          "w": 24
         },
         {
          "h": 9,
          "value": 0,
          "w": 24
         },
         {
          "h": 10,
          "value": 0,
          "w": 24
         },
         {
          "h": 11,
          "value": 0,
          "w": 24
         },
         {
          "h": 12,
          "value": 0,
          "w": 24
         },
         {
          "h": 13,
          "value": 0,
          "w": 24
         },
         {
          "h": 14,
          "value": 0,
          "w": 24
         },
         {
          "h": 15,
          "value": 0,
          "w": 24
         },
         {
          "h": 16,
          "value": 0,
          "w": 24
         },
         {
          "h": 17,
          "value": 0,
          "w": 24
         },
         {
          "h": 18,
          "value": 0,
          "w": 24
         },
         {
          "h": 19,
          "value": 0,
          "w": 24
         },
         {
          "h": 20,
          "value": 0,
          "w": 24
         },
         {
          "h": 21,
          "value": 0,
          "w": 24
         },
         {
          "h": 22,
          "value": 0,
          "w": 24
         },
         {
          "h": 23,
          "value": 0,
          "w": 24
         },
         {
          "h": 24,
          "value": 0,
          "w": 24
         },
         {
          "h": 25,
          "value": 0,
          "w": 24
         },
         {
          "h": 26,
          "value": 0,
          "w": 24
         },
         {
          "h": 27,
          "value": 0,
          "w": 24
         },
         {
          "h": 0,
          "value": 0,
          "w": 25
         },
         {
          "h": 1,
          "value": 0,
          "w": 25
         },
         {
          "h": 2,
          "value": 0,
          "w": 25
         },
         {
          "h": 3,
          "value": 0,
          "w": 25
         },
         {
          "h": 4,
          "value": 0,
          "w": 25
         },
         {
          "h": 5,
          "value": 0,
          "w": 25
         },
         {
          "h": 6,
          "value": 0,
          "w": 25
         },
         {
          "h": 7,
          "value": 0,
          "w": 25
         },
         {
          "h": 8,
          "value": 0,
          "w": 25
         },
         {
          "h": 9,
          "value": 0,
          "w": 25
         },
         {
          "h": 10,
          "value": 0,
          "w": 25
         },
         {
          "h": 11,
          "value": 0,
          "w": 25
         },
         {
          "h": 12,
          "value": 0,
          "w": 25
         },
         {
          "h": 13,
          "value": 0,
          "w": 25
         },
         {
          "h": 14,
          "value": 0,
          "w": 25
         },
         {
          "h": 15,
          "value": 0,
          "w": 25
         },
         {
          "h": 16,
          "value": 0,
          "w": 25
         },
         {
          "h": 17,
          "value": 0,
          "w": 25
         },
         {
          "h": 18,
          "value": 0,
          "w": 25
         },
         {
          "h": 19,
          "value": 0,
          "w": 25
         },
         {
          "h": 20,
          "value": 0,
          "w": 25
         },
         {
          "h": 21,
          "value": 0,
          "w": 25
         },
         {
          "h": 22,
          "value": 0,
          "w": 25
         },
         {
          "h": 23,
          "value": 0,
          "w": 25
         },
         {
          "h": 24,
          "value": 0,
          "w": 25
         },
         {
          "h": 25,
          "value": 0,
          "w": 25
         },
         {
          "h": 26,
          "value": 0,
          "w": 25
         },
         {
          "h": 27,
          "value": 0,
          "w": 25
         },
         {
          "h": 0,
          "value": 0,
          "w": 26
         },
         {
          "h": 1,
          "value": 0,
          "w": 26
         },
         {
          "h": 2,
          "value": 0,
          "w": 26
         },
         {
          "h": 3,
          "value": 0,
          "w": 26
         },
         {
          "h": 4,
          "value": 0,
          "w": 26
         },
         {
          "h": 5,
          "value": 0,
          "w": 26
         },
         {
          "h": 6,
          "value": 0,
          "w": 26
         },
         {
          "h": 7,
          "value": 0,
          "w": 26
         },
         {
          "h": 8,
          "value": 0,
          "w": 26
         },
         {
          "h": 9,
          "value": 0,
          "w": 26
         },
         {
          "h": 10,
          "value": 0,
          "w": 26
         },
         {
          "h": 11,
          "value": 0,
          "w": 26
         },
         {
          "h": 12,
          "value": 0,
          "w": 26
         },
         {
          "h": 13,
          "value": 0,
          "w": 26
         },
         {
          "h": 14,
          "value": 0,
          "w": 26
         },
         {
          "h": 15,
          "value": 0,
          "w": 26
         },
         {
          "h": 16,
          "value": 0,
          "w": 26
         },
         {
          "h": 17,
          "value": 0,
          "w": 26
         },
         {
          "h": 18,
          "value": 0,
          "w": 26
         },
         {
          "h": 19,
          "value": 0,
          "w": 26
         },
         {
          "h": 20,
          "value": 0,
          "w": 26
         },
         {
          "h": 21,
          "value": 0,
          "w": 26
         },
         {
          "h": 22,
          "value": 0,
          "w": 26
         },
         {
          "h": 23,
          "value": 0,
          "w": 26
         },
         {
          "h": 24,
          "value": 0,
          "w": 26
         },
         {
          "h": 25,
          "value": 0,
          "w": 26
         },
         {
          "h": 26,
          "value": 0,
          "w": 26
         },
         {
          "h": 27,
          "value": 0,
          "w": 26
         },
         {
          "h": 0,
          "value": 0,
          "w": 27
         },
         {
          "h": 1,
          "value": 0,
          "w": 27
         },
         {
          "h": 2,
          "value": 0,
          "w": 27
         },
         {
          "h": 3,
          "value": 0,
          "w": 27
         },
         {
          "h": 4,
          "value": 0,
          "w": 27
         },
         {
          "h": 5,
          "value": 0,
          "w": 27
         },
         {
          "h": 6,
          "value": 0,
          "w": 27
         },
         {
          "h": 7,
          "value": 0,
          "w": 27
         },
         {
          "h": 8,
          "value": 0,
          "w": 27
         },
         {
          "h": 9,
          "value": 0,
          "w": 27
         },
         {
          "h": 10,
          "value": 0,
          "w": 27
         },
         {
          "h": 11,
          "value": 0,
          "w": 27
         },
         {
          "h": 12,
          "value": 0,
          "w": 27
         },
         {
          "h": 13,
          "value": 0,
          "w": 27
         },
         {
          "h": 14,
          "value": 0,
          "w": 27
         },
         {
          "h": 15,
          "value": 0,
          "w": 27
         },
         {
          "h": 16,
          "value": 0,
          "w": 27
         },
         {
          "h": 17,
          "value": 0,
          "w": 27
         },
         {
          "h": 18,
          "value": 0,
          "w": 27
         },
         {
          "h": 19,
          "value": 0,
          "w": 27
         },
         {
          "h": 20,
          "value": 0,
          "w": 27
         },
         {
          "h": 21,
          "value": 0,
          "w": 27
         },
         {
          "h": 22,
          "value": 0,
          "w": 27
         },
         {
          "h": 23,
          "value": 0,
          "w": 27
         },
         {
          "h": 24,
          "value": 0,
          "w": 27
         },
         {
          "h": 25,
          "value": 0,
          "w": 27
         },
         {
          "h": 26,
          "value": 0,
          "w": 27
         },
         {
          "h": 27,
          "value": 0,
          "w": 27
         }
        ]
       },
       "encoding": {
        "color": {
         "field": "value",
         "legend": null,
         "scale": {
          "scheme": "greys"
         },
         "sort": "descending",
         "type": "quantitative"
        },
        "tooltip": [
         {
          "field": "value",
          "type": "quantitative"
         }
        ],
        "x": {
         "axis": null,
         "field": "w",
         "type": "nominal"
        },
        "y": {
         "axis": null,
         "field": "h",
         "type": "nominal"
        }
       },
       "height": 350,
       "mark": "rect",
       "title": "",
       "width": 350
      },
      "image/png": "[encoded data removed]",
      "text/plain": [
       "<VegaLite 2 object>\n",
       "\n",
       "If you see this message, it means the renderer has not been properly enabled\n",
       "for the frontend that you are using. For more information, see\n",
       "https://altair-viz.github.io/user_guide/troubleshooting.html\n"
      ]
     },
     "execution_count": 26,
     "metadata": {},
     "output_type": "execute_result"
    }
   ],
   "source": [
    "vis.imshow(image)"
   ]
  },
  {
   "cell_type": "code",
   "execution_count": 29,
   "metadata": {},
   "outputs": [],
   "source": [
    "model1 = Sequential()\n",
    "model1.add(Conv2D(1, (3, 3), input_shape=(28, 28, 1)))"
   ]
  },
  {
   "cell_type": "code",
   "execution_count": 32,
   "metadata": {},
   "outputs": [
    {
     "ename": "ValueError",
     "evalue": "Error when checking : expected conv2d_3_input to have 4 dimensions, but got array with shape (1, 28, 28)",
     "output_type": "error",
     "traceback": [
      "\u001b[0;31m---------------------------------------------------------------------------\u001b[0m",
      "\u001b[0;31mValueError\u001b[0m                                Traceback (most recent call last)",
      "\u001b[0;32m<ipython-input-32-756382cc9ae1>\u001b[0m in \u001b[0;36m<module>\u001b[0;34m()\u001b[0m\n\u001b[1;32m      1\u001b[0m \u001b[0mimage_batch\u001b[0m \u001b[0;34m=\u001b[0m \u001b[0mnp\u001b[0m\u001b[0;34m.\u001b[0m\u001b[0mexpand_dims\u001b[0m\u001b[0;34m(\u001b[0m\u001b[0mimage\u001b[0m\u001b[0;34m,\u001b[0m \u001b[0maxis\u001b[0m\u001b[0;34m=\u001b[0m\u001b[0;36m0\u001b[0m\u001b[0;34m)\u001b[0m\u001b[0;34m\u001b[0m\u001b[0m\n\u001b[0;32m----> 2\u001b[0;31m \u001b[0mconv_image\u001b[0m \u001b[0;34m=\u001b[0m \u001b[0mmodel1\u001b[0m\u001b[0;34m.\u001b[0m\u001b[0mpredict\u001b[0m\u001b[0;34m(\u001b[0m\u001b[0mimage_batch\u001b[0m\u001b[0;34m)\u001b[0m\u001b[0;34m\u001b[0m\u001b[0m\n\u001b[0m",
      "\u001b[0;32m~/miniconda3/lib/python3.6/site-packages/keras/models.py\u001b[0m in \u001b[0;36mpredict\u001b[0;34m(self, x, batch_size, verbose, steps)\u001b[0m\n\u001b[1;32m   1023\u001b[0m             \u001b[0mself\u001b[0m\u001b[0;34m.\u001b[0m\u001b[0mbuild\u001b[0m\u001b[0;34m(\u001b[0m\u001b[0;34m)\u001b[0m\u001b[0;34m\u001b[0m\u001b[0m\n\u001b[1;32m   1024\u001b[0m         return self.model.predict(x, batch_size=batch_size, verbose=verbose,\n\u001b[0;32m-> 1025\u001b[0;31m                                   steps=steps)\n\u001b[0m\u001b[1;32m   1026\u001b[0m \u001b[0;34m\u001b[0m\u001b[0m\n\u001b[1;32m   1027\u001b[0m     \u001b[0;32mdef\u001b[0m \u001b[0mpredict_on_batch\u001b[0m\u001b[0;34m(\u001b[0m\u001b[0mself\u001b[0m\u001b[0;34m,\u001b[0m \u001b[0mx\u001b[0m\u001b[0;34m)\u001b[0m\u001b[0;34m:\u001b[0m\u001b[0;34m\u001b[0m\u001b[0m\n",
      "\u001b[0;32m~/miniconda3/lib/python3.6/site-packages/keras/engine/training.py\u001b[0m in \u001b[0;36mpredict\u001b[0;34m(self, x, batch_size, verbose, steps)\u001b[0m\n\u001b[1;32m   1822\u001b[0m         x = _standardize_input_data(x, self._feed_input_names,\n\u001b[1;32m   1823\u001b[0m                                     \u001b[0mself\u001b[0m\u001b[0;34m.\u001b[0m\u001b[0m_feed_input_shapes\u001b[0m\u001b[0;34m,\u001b[0m\u001b[0;34m\u001b[0m\u001b[0m\n\u001b[0;32m-> 1824\u001b[0;31m                                     check_batch_axis=False)\n\u001b[0m\u001b[1;32m   1825\u001b[0m         \u001b[0;32mif\u001b[0m \u001b[0mself\u001b[0m\u001b[0;34m.\u001b[0m\u001b[0mstateful\u001b[0m\u001b[0;34m:\u001b[0m\u001b[0;34m\u001b[0m\u001b[0m\n\u001b[1;32m   1826\u001b[0m             \u001b[0;32mif\u001b[0m \u001b[0mx\u001b[0m\u001b[0;34m[\u001b[0m\u001b[0;36m0\u001b[0m\u001b[0;34m]\u001b[0m\u001b[0;34m.\u001b[0m\u001b[0mshape\u001b[0m\u001b[0;34m[\u001b[0m\u001b[0;36m0\u001b[0m\u001b[0;34m]\u001b[0m \u001b[0;34m>\u001b[0m \u001b[0mbatch_size\u001b[0m \u001b[0;32mand\u001b[0m \u001b[0mx\u001b[0m\u001b[0;34m[\u001b[0m\u001b[0;36m0\u001b[0m\u001b[0;34m]\u001b[0m\u001b[0;34m.\u001b[0m\u001b[0mshape\u001b[0m\u001b[0;34m[\u001b[0m\u001b[0;36m0\u001b[0m\u001b[0;34m]\u001b[0m \u001b[0;34m%\u001b[0m \u001b[0mbatch_size\u001b[0m \u001b[0;34m!=\u001b[0m \u001b[0;36m0\u001b[0m\u001b[0;34m:\u001b[0m\u001b[0;34m\u001b[0m\u001b[0m\n",
      "\u001b[0;32m~/miniconda3/lib/python3.6/site-packages/keras/engine/training.py\u001b[0m in \u001b[0;36m_standardize_input_data\u001b[0;34m(data, names, shapes, check_batch_axis, exception_prefix)\u001b[0m\n\u001b[1;32m    111\u001b[0m                         \u001b[0;34m': expected '\u001b[0m \u001b[0;34m+\u001b[0m \u001b[0mnames\u001b[0m\u001b[0;34m[\u001b[0m\u001b[0mi\u001b[0m\u001b[0;34m]\u001b[0m \u001b[0;34m+\u001b[0m \u001b[0;34m' to have '\u001b[0m \u001b[0;34m+\u001b[0m\u001b[0;34m\u001b[0m\u001b[0m\n\u001b[1;32m    112\u001b[0m                         \u001b[0mstr\u001b[0m\u001b[0;34m(\u001b[0m\u001b[0mlen\u001b[0m\u001b[0;34m(\u001b[0m\u001b[0mshape\u001b[0m\u001b[0;34m)\u001b[0m\u001b[0;34m)\u001b[0m \u001b[0;34m+\u001b[0m \u001b[0;34m' dimensions, but got array '\u001b[0m\u001b[0;34m\u001b[0m\u001b[0m\n\u001b[0;32m--> 113\u001b[0;31m                         'with shape ' + str(data_shape))\n\u001b[0m\u001b[1;32m    114\u001b[0m                 \u001b[0;32mif\u001b[0m \u001b[0;32mnot\u001b[0m \u001b[0mcheck_batch_axis\u001b[0m\u001b[0;34m:\u001b[0m\u001b[0;34m\u001b[0m\u001b[0m\n\u001b[1;32m    115\u001b[0m                     \u001b[0mdata_shape\u001b[0m \u001b[0;34m=\u001b[0m \u001b[0mdata_shape\u001b[0m\u001b[0;34m[\u001b[0m\u001b[0;36m1\u001b[0m\u001b[0;34m:\u001b[0m\u001b[0;34m]\u001b[0m\u001b[0;34m\u001b[0m\u001b[0m\n",
      "\u001b[0;31mValueError\u001b[0m: Error when checking : expected conv2d_3_input to have 4 dimensions, but got array with shape (1, 28, 28)"
     ]
    }
   ],
   "source": [
    "image_batch = np.expand_dims(image, axis=0)\n",
    "conv_image = model1.predict(image_batch) "
   ]
  },
  {
   "cell_type": "code",
   "execution_count": null,
   "metadata": {},
   "outputs": [],
   "source": [
    "def convolution(image. model):\n",
    "    image_batch = np.expand_dims(image, axis=0)\n",
    "    conv_image = model.predict(image_batch)    \n",
    "    #conv_image = np.squeeze(conv_image, axis=0)\n",
    "    conv_image = conv_image.reshape(conv_image.shape[:2])\n",
    "    print(conv_image.shape)\n",
    "    plt.imshow(conv_image, cmap=\"jet\")"
   ]
  },
  {
   "cell_type": "code",
   "execution_count": 30,
   "metadata": {},
   "outputs": [
    {
     "ename": "NameError",
     "evalue": "name 'image_batch' is not defined",
     "output_type": "error",
     "traceback": [
      "\u001b[0;31m---------------------------------------------------------------------------\u001b[0m",
      "\u001b[0;31mNameError\u001b[0m                                 Traceback (most recent call last)",
      "\u001b[0;32m<ipython-input-30-0818875ca45f>\u001b[0m in \u001b[0;36m<module>\u001b[0;34m()\u001b[0m\n\u001b[0;32m----> 1\u001b[0;31m \u001b[0mconv_image\u001b[0m \u001b[0;34m=\u001b[0m \u001b[0mmodel1\u001b[0m\u001b[0;34m.\u001b[0m\u001b[0mpredict\u001b[0m\u001b[0;34m(\u001b[0m\u001b[0mimage_batch\u001b[0m\u001b[0;34m)\u001b[0m\u001b[0;34m\u001b[0m\u001b[0m\n\u001b[0m",
      "\u001b[0;31mNameError\u001b[0m: name 'image_batch' is not defined"
     ]
    }
   ],
   "source": [
    "conv_image = model1.predict(image_batch)"
   ]
  },
  {
   "cell_type": "code",
   "execution_count": 6,
   "metadata": {},
   "outputs": [
    {
     "name": "stdout",
     "output_type": "stream",
     "text": [
      "(426, 640, 3)\n",
      "(424, 638)\n"
     ]
    },
    {
     "data": {
      "image/png": "[encoded data removed]",
      "text/plain": [
       "<Figure size 432x288 with 1 Axes>"
      ]
     },
     "metadata": {},
     "output_type": "display_data"
    }
   ],
   "source": [
    "visualise_conv(cheetah, model1)"
   ]
  },
  {
   "cell_type": "markdown",
   "metadata": {},
   "source": [
    "### With Convolution + Activation"
   ]
  },
  {
   "cell_type": "code",
   "execution_count": 7,
   "metadata": {},
   "outputs": [],
   "source": [
    "model2 = Sequential()\n",
    "model2.add(Conv2D(1, (3, 3), input_shape=cheetah.shape))\n",
    "model2.add(Activation(\"relu\"))"
   ]
  },
  {
   "cell_type": "code",
   "execution_count": 8,
   "metadata": {},
   "outputs": [],
   "source": [
    "#visualise_conv(cheetah, model2)"
   ]
  },
  {
   "cell_type": "markdown",
   "metadata": {},
   "source": [
    "### With Convolution + Pooling"
   ]
  },
  {
   "cell_type": "code",
   "execution_count": 28,
   "metadata": {},
   "outputs": [],
   "source": [
    "model3 = Sequential()\n",
    "model3.add(Conv2D(1, (8, 8), input_shape=(28, 28, 1)))\n",
    "model3.add(MaxPooling2D(pool_size=(2,2)))"
   ]
  },
  {
   "cell_type": "code",
   "execution_count": 10,
   "metadata": {},
   "outputs": [
    {
     "name": "stdout",
     "output_type": "stream",
     "text": [
      "(426, 640, 3)\n",
      "(209, 316)\n"
     ]
    },
    {
     "data": {
      "image/png": "[encoded data removed]",
      "text/plain": [
       "<Figure size 432x288 with 1 Axes>"
      ]
     },
     "metadata": {},
     "output_type": "display_data"
    }
   ],
   "source": [
    "visualise_conv(cheetah, model3)"
   ]
  },
  {
   "cell_type": "markdown",
   "metadata": {},
   "source": [
    "## Convolution + Activation + Pooling"
   ]
  },
  {
   "cell_type": "code",
   "execution_count": 11,
   "metadata": {},
   "outputs": [],
   "source": [
    "model4 = Sequential()\n",
    "model4.add(Conv2D(1, (8, 8), input_shape=cheetah.shape))\n",
    "model4.add(Activation(\"relu\"))\n",
    "model4.add(MaxPooling2D(pool_size=(2,2)))"
   ]
  },
  {
   "cell_type": "code",
   "execution_count": 12,
   "metadata": {},
   "outputs": [
    {
     "name": "stdout",
     "output_type": "stream",
     "text": [
      "(426, 640, 3)\n",
      "(209, 316)\n"
     ]
    },
    {
     "data": {
      "image/png": "[encoded data removed]",
      "text/plain": [
       "<Figure size 432x288 with 1 Axes>"
      ]
     },
     "metadata": {},
     "output_type": "display_data"
    }
   ],
   "source": [
    "visualise_conv(cheetah, model4)"
   ]
  }
 ],
 "metadata": {
  "kernelspec": {
   "display_name": "Python 3",
   "language": "python",
   "name": "python3"
  },
  "language_info": {
   "codemirror_mode": {
    "name": "ipython",
    "version": 3
   },
   "file_extension": ".py",
   "mimetype": "text/x-python",
   "name": "python",
   "nbconvert_exporter": "python",
   "pygments_lexer": "ipython3",
   "version": "3.6.4"
  }
 },
 "nbformat": 4,
 "nbformat_minor": 2
}
