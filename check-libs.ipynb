{
 "cells": [
  {
   "cell_type": "markdown",
   "metadata": {},
   "source": [
    "# Installation Check"
   ]
  },
  {
   "cell_type": "code",
   "execution_count": 1,
   "metadata": {},
   "outputs": [],
   "source": [
    "import importlib"
   ]
  },
  {
   "cell_type": "code",
   "execution_count": 77,
   "metadata": {},
   "outputs": [],
   "source": [
    "basic_libs = [\"numpy\", \"pandas\"]\n",
    "ml_libs = [\"keras\", \"tensorflow\", \"sklearn\", \"joblib\"]\n",
    "nlp_libs = [\"spacy\", \"gensim\"]\n",
    "vis_libs = [\"matplotlib\", \"seaborn\", \"altair\", \"wordcloud\"]"
   ]
  },
  {
   "cell_type": "code",
   "execution_count": 78,
   "metadata": {},
   "outputs": [],
   "source": [
    "libs = basic_libs + ml_libs + nlp_libs + vis_libs"
   ]
  },
  {
   "cell_type": "code",
   "execution_count": 79,
   "metadata": {},
   "outputs": [],
   "source": [
    "def get_version(libs):\n",
    "    for lib in libs:\n",
    "        module = importlib.import_module(lib)\n",
    "        ver = getattr(module, \"__version__\")\n",
    "        print(ver, \"\\t \", lib)"
   ]
  },
  {
   "cell_type": "code",
   "execution_count": 80,
   "metadata": {},
   "outputs": [
    {
     "name": "stdout",
     "output_type": "stream",
     "text": [
      "1.14.5 \t  numpy\n",
      "0.23.3 \t  pandas\n",
      "2.2.0 \t  keras\n",
      "1.9.0 \t  tensorflow\n",
      "0.19.2 \t  sklearn\n",
      "0.11 \t  joblib\n",
      "2.0.11 \t  spacy\n",
      "3.4.0 \t  gensim\n",
      "2.2.2 \t  matplotlib\n",
      "0.9.0 \t  seaborn\n",
      "2.1.0 \t  altair\n",
      "1.4.1 \t  wordcloud\n"
     ]
    }
   ],
   "source": [
    "get_version(libs)"
   ]
  },
  {
   "cell_type": "code",
   "execution_count": 81,
   "metadata": {},
   "outputs": [],
   "source": [
    "lib_rqmt = []\n",
    "def requirements(libs):\n",
    "    for lib in libs:\n",
    "        module = importlib.import_module(lib)\n",
    "        ver = getattr(module, \"__version__\")\n",
    "        lib_ver = lib+\">=\"+ver\n",
    "        lib_rqmt.append(lib_ver)\n",
    "        print(lib_ver)"
   ]
  },
  {
   "cell_type": "code",
   "execution_count": 82,
   "metadata": {},
   "outputs": [
    {
     "name": "stdout",
     "output_type": "stream",
     "text": [
      "numpy>=1.14.5\n",
      "pandas>=0.23.3\n",
      "keras>=2.2.0\n",
      "tensorflow>=1.9.0\n",
      "sklearn>=0.19.2\n",
      "joblib>=0.11\n",
      "spacy>=2.0.11\n",
      "gensim>=3.4.0\n",
      "matplotlib>=2.2.2\n",
      "seaborn>=0.9.0\n",
      "altair>=2.1.0\n",
      "wordcloud>=1.4.1\n"
     ]
    }
   ],
   "source": [
    "requirements(libs)"
   ]
  },
  {
   "cell_type": "code",
   "execution_count": 74,
   "metadata": {},
   "outputs": [
    {
     "data": {
      "text/plain": [
       "['numpy>=1.14.5',\n",
       " 'pandas>=0.23.3',\n",
       " 'keras>=2.2.0',\n",
       " 'tensorflow>=1.9.0',\n",
       " 'sklearn>=0.19.2',\n",
       " 'spacy>=2.0.11',\n",
       " 'gensim>=3.4.0',\n",
       " 'matplotlib>=2.2.2',\n",
       " 'seaborn>=0.9.0',\n",
       " 'altair>=2.1.0']"
      ]
     },
     "execution_count": 74,
     "metadata": {},
     "output_type": "execute_result"
    }
   ],
   "source": [
    "lib_rqmt"
   ]
  },
  {
   "cell_type": "code",
   "execution_count": null,
   "metadata": {},
   "outputs": [],
   "source": []
  }
 ],
 "metadata": {
  "kernelspec": {
   "display_name": "Python 3",
   "language": "python",
   "name": "python3"
  },
  "language_info": {
   "codemirror_mode": {
    "name": "ipython",
    "version": 3
   },
   "file_extension": ".py",
   "mimetype": "text/x-python",
   "name": "python",
   "nbconvert_exporter": "python",
   "pygments_lexer": "ipython3",
   "version": "3.6.4"
  }
 },
 "nbformat": 4,
 "nbformat_minor": 2
}
