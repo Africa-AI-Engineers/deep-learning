{
 "cells": [
  {
   "cell_type": "markdown",
   "metadata": {},
   "source": [
    "# Multi Layer Perceptron - Fashion MNIST"
   ]
  },
  {
   "cell_type": "markdown",
   "metadata": {},
   "source": [
    "We will be starting with a classification exercise. And using the **Fashion Mnist** dataset to do so. It involves identifying the 10 types of products that are there in the image.\n",
    "\n",
    "- Train: 60,000 images\n",
    "- Test: 10,000 images\n",
    "- Class: 10\n",
    "- Labels: \n",
    " - 0: T-shirt/top\n",
    " - 1: Trouser\n",
    " - 2: Pullover\n",
    " - 3: Dress\n",
    " - 4: Coat\n",
    " - 5: Sandal\n",
    " - 6: Shirt\n",
    " - 7: Sneaker\n",
    " - 8: Bag\n",
    " - 9: Ankle boot"
   ]
  },
  {
   "cell_type": "markdown",
   "metadata": {},
   "source": [
    "### Get Input and Output"
   ]
  },
  {
   "cell_type": "code",
   "execution_count": 13,
   "metadata": {},
   "outputs": [],
   "source": [
    "import numpy as np\n",
    "import keras\n",
    "import tensorflow as tf"
   ]
  },
  {
   "cell_type": "code",
   "execution_count": 14,
   "metadata": {},
   "outputs": [],
   "source": [
    "from keras.datasets import fashion_mnist\n",
    "from helpers import fashion_mnist_label"
   ]
  },
  {
   "cell_type": "code",
   "execution_count": 15,
   "metadata": {},
   "outputs": [
    {
     "data": {
      "text/plain": [
       "((60000, 28, 28), (60000,), (10000, 28, 28), (10000,))"
      ]
     },
     "execution_count": 15,
     "metadata": {},
     "output_type": "execute_result"
    }
   ],
   "source": [
    "(x_train, y_train), (x_test, y_test) = fashion_mnist.load_data()\n",
    "x_train.shape, y_train.shape, x_test.shape, y_test.shape"
   ]
  },
  {
   "cell_type": "code",
   "execution_count": 29,
   "metadata": {},
   "outputs": [
    {
     "data": {
      "text/plain": [
       "{0: 'T-shirt/top',\n",
       " 1: 'Trouser',\n",
       " 2: 'Pullover',\n",
       " 3: 'Dress',\n",
       " 4: 'Coat',\n",
       " 5: 'Sandal',\n",
       " 6: 'Shirt',\n",
       " 7: 'Sneaker',\n",
       " 8: 'Bag',\n",
       " 9: 'Ankle boot'}"
      ]
     },
     "execution_count": 29,
     "metadata": {},
     "output_type": "execute_result"
    }
   ],
   "source": [
    "label = fashion_mnist_label()\n",
    "label"
   ]
  },
  {
   "cell_type": "markdown",
   "metadata": {},
   "source": [
    "### See an Image"
   ]
  },
  {
   "cell_type": "code",
   "execution_count": 59,
   "metadata": {},
   "outputs": [],
   "source": [
    "import vis"
   ]
  },
  {
   "cell_type": "code",
   "execution_count": 60,
   "metadata": {},
   "outputs": [
    {
     "data": {
      "application/vnd.vegalite.v2+json": {
       "$schema": "https://vega.github.io/schema/vega-lite/v2.4.3.json",
       "config": {
        "view": {
         "height": 300,
         "width": 400
        }
       },
       "data": {
        "values": [
         {
          "value": 0,
          "x": 0,
          "y": 0
         },
         {
          "value": 0,
          "x": 0,
          "y": 1
         },
         {
          "value": 0,
          "x": 0,
          "y": 2
         },
         {
          "value": 0,
          "x": 0,
          "y": 3
         },
         {
          "value": 0,
          "x": 0,
          "y": 4
         },
         {
          "value": 0,
          "x": 0,
          "y": 5
         },
         {
          "value": 0,
          "x": 0,
          "y": 6
         },
         {
          "value": 0,
          "x": 0,
          "y": 7
         },
         {
          "value": 0,
          "x": 0,
          "y": 8
         },
         {
          "value": 0,
          "x": 0,
          "y": 9
         },
         {
          "value": 0,
          "x": 0,
          "y": 10
         },
         {
          "value": 0,
          "x": 0,
          "y": 11
         },
         {
          "value": 0,
          "x": 0,
          "y": 12
         },
         {
          "value": 0,
          "x": 0,
          "y": 13
         },
         {
          "value": 0,
          "x": 0,
          "y": 14
         },
         {
          "value": 0,
          "x": 0,
          "y": 15
         },
         {
          "value": 0,
          "x": 0,
          "y": 16
         },
         {
          "value": 0,
          "x": 0,
          "y": 17
         },
         {
          "value": 3,
          "x": 0,
          "y": 18
         },
         {
          "value": 98,
          "x": 0,
          "y": 19
         },
         {
          "value": 75,
          "x": 0,
          "y": 20
         },
         {
          "value": 48,
          "x": 0,
          "y": 21
         },
         {
          "value": 0,
          "x": 0,
          "y": 22
         },
         {
          "value": 0,
          "x": 0,
          "y": 23
         },
         {
          "value": 2,
          "x": 0,
          "y": 24
         },
         {
          "value": 0,
          "x": 0,
          "y": 25
         },
         {
          "value": 0,
          "x": 0,
          "y": 26
         },
         {
          "value": 0,
          "x": 0,
          "y": 27
         },
         {
          "value": 0,
          "x": 1,
          "y": 0
         },
         {
          "value": 0,
          "x": 1,
          "y": 1
         },
         {
          "value": 0,
          "x": 1,
          "y": 2
         },
         {
          "value": 0,
          "x": 1,
          "y": 3
         },
         {
          "value": 0,
          "x": 1,
          "y": 4
         },
         {
          "value": 0,
          "x": 1,
          "y": 5
         },
         {
          "value": 0,
          "x": 1,
          "y": 6
         },
         {
          "value": 0,
          "x": 1,
          "y": 7
         },
         {
          "value": 0,
          "x": 1,
          "y": 8
         },
         {
          "value": 0,
          "x": 1,
          "y": 9
         },
         {
          "value": 0,
          "x": 1,
          "y": 10
         },
         {
          "value": 0,
          "x": 1,
          "y": 11
         },
         {
          "value": 0,
          "x": 1,
          "y": 12
         },
         {
          "value": 0,
          "x": 1,
          "y": 13
         },
         {
          "value": 0,
          "x": 1,
          "y": 14
         },
         {
          "value": 3,
          "x": 1,
          "y": 15
         },
         {
          "value": 0,
          "x": 1,
          "y": 16
         },
         {
          "value": 57,
          "x": 1,
          "y": 17
         },
         {
          "value": 202,
          "x": 1,
          "y": 18
         },
         {
          "value": 233,
          "x": 1,
          "y": 19
         },
         {
          "value": 204,
          "x": 1,
          "y": 20
         },
         {
          "value": 203,
          "x": 1,
          "y": 21
         },
         {
          "value": 122,
          "x": 1,
          "y": 22
         },
         {
          "value": 0,
          "x": 1,
          "y": 23
         },
         {
          "value": 0,
          "x": 1,
          "y": 24
         },
         {
          "value": 0,
          "x": 1,
          "y": 25
         },
         {
          "value": 0,
          "x": 1,
          "y": 26
         },
         {
          "value": 0,
          "x": 1,
          "y": 27
         },
         {
          "value": 0,
          "x": 2,
          "y": 0
         },
         {
          "value": 0,
          "x": 2,
          "y": 1
         },
         {
          "value": 0,
          "x": 2,
          "y": 2
         },
         {
          "value": 0,
          "x": 2,
          "y": 3
         },
         {
          "value": 0,
          "x": 2,
          "y": 4
         },
         {
          "value": 0,
          "x": 2,
          "y": 5
         },
         {
          "value": 0,
          "x": 2,
          "y": 6
         },
         {
          "value": 0,
          "x": 2,
          "y": 7
         },
         {
          "value": 0,
          "x": 2,
          "y": 8
         },
         {
          "value": 0,
          "x": 2,
          "y": 9
         },
         {
          "value": 0,
          "x": 2,
          "y": 10
         },
         {
          "value": 0,
          "x": 2,
          "y": 11
         },
         {
          "value": 0,
          "x": 2,
          "y": 12
         },
         {
          "value": 0,
          "x": 2,
          "y": 13
         },
         {
          "value": 1,
          "x": 2,
          "y": 14
         },
         {
          "value": 0,
          "x": 2,
          "y": 15
         },
         {
          "value": 0,
          "x": 2,
          "y": 16
         },
         {
          "value": 187,
          "x": 2,
          "y": 17
         },
         {
          "value": 228,
          "x": 2,
          "y": 18
         },
         {
          "value": 198,
          "x": 2,
          "y": 19
         },
         {
          "value": 212,
          "x": 2,
          "y": 20
         },
         {
          "value": 183,
          "x": 2,
          "y": 21
         },
         {
          "value": 219,
          "x": 2,
          "y": 22
         },
         {
          "value": 74,
          "x": 2,
          "y": 23
         },
         {
          "value": 0,
          "x": 2,
          "y": 24
         },
         {
          "value": 0,
          "x": 2,
          "y": 25
         },
         {
          "value": 0,
          "x": 2,
          "y": 26
         },
         {
          "value": 0,
          "x": 2,
          "y": 27
         },
         {
          "value": 0,
          "x": 3,
          "y": 0
         },
         {
          "value": 0,
          "x": 3,
          "y": 1
         },
         {
          "value": 0,
          "x": 3,
          "y": 2
         },
         {
          "value": 0,
          "x": 3,
          "y": 3
         },
         {
          "value": 0,
          "x": 3,
          "y": 4
         },
         {
          "value": 0,
          "x": 3,
          "y": 5
         },
         {
          "value": 0,
          "x": 3,
          "y": 6
         },
         {
          "value": 0,
          "x": 3,
          "y": 7
         },
         {
          "value": 0,
          "x": 3,
          "y": 8
         },
         {
          "value": 0,
          "x": 3,
          "y": 9
         },
         {
          "value": 0,
          "x": 3,
          "y": 10
         },
         {
          "value": 0,
          "x": 3,
          "y": 11
         },
         {
          "value": 0,
          "x": 3,
          "y": 12
         },
         {
          "value": 0,
          "x": 3,
          "y": 13
         },
         {
          "value": 4,
          "x": 3,
          "y": 14
         },
         {
          "value": 0,
          "x": 3,
          "y": 15
         },
         {
          "value": 0,
          "x": 3,
          "y": 16
         },
         {
          "value": 208,
          "x": 3,
          "y": 17
         },
         {
          "value": 224,
          "x": 3,
          "y": 18
         },
         {
          "value": 210,
          "x": 3,
          "y": 19
         },
         {
          "value": 204,
          "x": 3,
          "y": 20
         },
         {
          "value": 194,
          "x": 3,
          "y": 21
         },
         {
          "value": 193,
          "x": 3,
          "y": 22
         },
         {
          "value": 189,
          "x": 3,
          "y": 23
         },
         {
          "value": 0,
          "x": 3,
          "y": 24
         },
         {
          "value": 0,
          "x": 3,
          "y": 25
         },
         {
          "value": 0,
          "x": 3,
          "y": 26
         },
         {
          "value": 0,
          "x": 3,
          "y": 27
         },
         {
          "value": 0,
          "x": 4,
          "y": 0
         },
         {
          "value": 0,
          "x": 4,
          "y": 1
         },
         {
          "value": 0,
          "x": 4,
          "y": 2
         },
         {
          "value": 0,
          "x": 4,
          "y": 3
         },
         {
          "value": 0,
          "x": 4,
          "y": 4
         },
         {
          "value": 0,
          "x": 4,
          "y": 5
         },
         {
          "value": 0,
          "x": 4,
          "y": 6
         },
         {
          "value": 0,
          "x": 4,
          "y": 7
         },
         {
          "value": 0,
          "x": 4,
          "y": 8
         },
         {
          "value": 0,
          "x": 4,
          "y": 9
         },
         {
          "value": 0,
          "x": 4,
          "y": 10
         },
         {
          "value": 0,
          "x": 4,
          "y": 11
         },
         {
          "value": 0,
          "x": 4,
          "y": 12
         },
         {
          "value": 0,
          "x": 4,
          "y": 13
         },
         {
          "value": 6,
          "x": 4,
          "y": 14
         },
         {
          "value": 0,
          "x": 4,
          "y": 15
         },
         {
          "value": 18,
          "x": 4,
          "y": 16
         },
         {
          "value": 224,
          "x": 4,
          "y": 17
         },
         {
          "value": 221,
          "x": 4,
          "y": 18
         },
         {
          "value": 222,
          "x": 4,
          "y": 19
         },
         {
          "value": 193,
          "x": 4,
          "y": 20
         },
         {
          "value": 213,
          "x": 4,
          "y": 21
         },
         {
          "value": 179,
          "x": 4,
          "y": 22
         },
         {
          "value": 212,
          "x": 4,
          "y": 23
         },
         {
          "value": 66,
          "x": 4,
          "y": 24
         },
         {
          "value": 0,
          "x": 4,
          "y": 25
         },
         {
          "value": 0,
          "x": 4,
          "y": 26
         },
         {
          "value": 0,
          "x": 4,
          "y": 27
         },
         {
          "value": 0,
          "x": 5,
          "y": 0
         },
         {
          "value": 0,
          "x": 5,
          "y": 1
         },
         {
          "value": 0,
          "x": 5,
          "y": 2
         },
         {
          "value": 0,
          "x": 5,
          "y": 3
         },
         {
          "value": 0,
          "x": 5,
          "y": 4
         },
         {
          "value": 0,
          "x": 5,
          "y": 5
         },
         {
          "value": 0,
          "x": 5,
          "y": 6
         },
         {
          "value": 0,
          "x": 5,
          "y": 7
         },
         {
          "value": 0,
          "x": 5,
          "y": 8
         },
         {
          "value": 0,
          "x": 5,
          "y": 9
         },
         {
          "value": 0,
          "x": 5,
          "y": 10
         },
         {
          "value": 0,
          "x": 5,
          "y": 11
         },
         {
          "value": 0,
          "x": 5,
          "y": 12
         },
         {
          "value": 0,
          "x": 5,
          "y": 13
         },
         {
          "value": 7,
          "x": 5,
          "y": 14
         },
         {
          "value": 0,
          "x": 5,
          "y": 15
         },
         {
          "value": 44,
          "x": 5,
          "y": 16
         },
         {
          "value": 221,
          "x": 5,
          "y": 17
         },
         {
          "value": 211,
          "x": 5,
          "y": 18
         },
         {
          "value": 229,
          "x": 5,
          "y": 19
         },
         {
          "value": 205,
          "x": 5,
          "y": 20
         },
         {
          "value": 197,
          "x": 5,
          "y": 21
         },
         {
          "value": 171,
          "x": 5,
          "y": 22
         },
         {
          "value": 191,
          "x": 5,
          "y": 23
         },
         {
          "value": 200,
          "x": 5,
          "y": 24
         },
         {
          "value": 0,
          "x": 5,
          "y": 25
         },
         {
          "value": 0,
          "x": 5,
          "y": 26
         },
         {
          "value": 0,
          "x": 5,
          "y": 27
         },
         {
          "value": 0,
          "x": 6,
          "y": 0
         },
         {
          "value": 0,
          "x": 6,
          "y": 1
         },
         {
          "value": 0,
          "x": 6,
          "y": 2
         },
         {
          "value": 0,
          "x": 6,
          "y": 3
         },
         {
          "value": 0,
          "x": 6,
          "y": 4
         },
         {
          "value": 0,
          "x": 6,
          "y": 5
         },
         {
          "value": 0,
          "x": 6,
          "y": 6
         },
         {
          "value": 0,
          "x": 6,
          "y": 7
         },
         {
          "value": 0,
          "x": 6,
          "y": 8
         },
         {
          "value": 0,
          "x": 6,
          "y": 9
         },
         {
          "value": 0,
          "x": 6,
          "y": 10
         },
         {
          "value": 0,
          "x": 6,
          "y": 11
         },
         {
          "value": 0,
          "x": 6,
          "y": 12
         },
         {
          "value": 0,
          "x": 6,
          "y": 13
         },
         {
          "value": 2,
          "x": 6,
          "y": 14
         },
         {
          "value": 0,
          "x": 6,
          "y": 15
         },
         {
          "value": 82,
          "x": 6,
          "y": 16
         },
         {
          "value": 224,
          "x": 6,
          "y": 17
         },
         {
          "value": 211,
          "x": 6,
          "y": 18
         },
         {
          "value": 229,
          "x": 6,
          "y": 19
         },
         {
          "value": 211,
          "x": 6,
          "y": 20
         },
         {
          "value": 185,
          "x": 6,
          "y": 21
         },
         {
          "value": 183,
          "x": 6,
          "y": 22
         },
         {
          "value": 175,
          "x": 6,
          "y": 23
         },
         {
          "value": 222,
          "x": 6,
          "y": 24
         },
         {
          "value": 0,
          "x": 6,
          "y": 25
         },
         {
          "value": 0,
          "x": 6,
          "y": 26
         },
         {
          "value": 0,
          "x": 6,
          "y": 27
         },
         {
          "value": 0,
          "x": 7,
          "y": 0
         },
         {
          "value": 0,
          "x": 7,
          "y": 1
         },
         {
          "value": 0,
          "x": 7,
          "y": 2
         },
         {
          "value": 0,
          "x": 7,
          "y": 3
         },
         {
          "value": 0,
          "x": 7,
          "y": 4
         },
         {
          "value": 0,
          "x": 7,
          "y": 5
         },
         {
          "value": 0,
          "x": 7,
          "y": 6
         },
         {
          "value": 0,
          "x": 7,
          "y": 7
         },
         {
          "value": 0,
          "x": 7,
          "y": 8
         },
         {
          "value": 0,
          "x": 7,
          "y": 9
         },
         {
          "value": 0,
          "x": 7,
          "y": 10
         },
         {
          "value": 0,
          "x": 7,
          "y": 11
         },
         {
          "value": 0,
          "x": 7,
          "y": 12
         },
         {
          "value": 0,
          "x": 7,
          "y": 13
         },
         {
          "value": 0,
          "x": 7,
          "y": 14
         },
         {
          "value": 0,
          "x": 7,
          "y": 15
         },
         {
          "value": 107,
          "x": 7,
          "y": 16
         },
         {
          "value": 208,
          "x": 7,
          "y": 17
         },
         {
          "value": 214,
          "x": 7,
          "y": 18
         },
         {
          "value": 234,
          "x": 7,
          "y": 19
         },
         {
          "value": 225,
          "x": 7,
          "y": 20
         },
         {
          "value": 190,
          "x": 7,
          "y": 21
         },
         {
          "value": 196,
          "x": 7,
          "y": 22
         },
         {
          "value": 172,
          "x": 7,
          "y": 23
         },
         {
          "value": 237,
          "x": 7,
          "y": 24
         },
         {
          "value": 40,
          "x": 7,
          "y": 25
         },
         {
          "value": 0,
          "x": 7,
          "y": 26
         },
         {
          "value": 0,
          "x": 7,
          "y": 27
         },
         {
          "value": 0,
          "x": 8,
          "y": 0
         },
         {
          "value": 0,
          "x": 8,
          "y": 1
         },
         {
          "value": 0,
          "x": 8,
          "y": 2
         },
         {
          "value": 0,
          "x": 8,
          "y": 3
         },
         {
          "value": 0,
          "x": 8,
          "y": 4
         },
         {
          "value": 0,
          "x": 8,
          "y": 5
         },
         {
          "value": 0,
          "x": 8,
          "y": 6
         },
         {
          "value": 0,
          "x": 8,
          "y": 7
         },
         {
          "value": 0,
          "x": 8,
          "y": 8
         },
         {
          "value": 0,
          "x": 8,
          "y": 9
         },
         {
          "value": 0,
          "x": 8,
          "y": 10
         },
         {
          "value": 0,
          "x": 8,
          "y": 11
         },
         {
          "value": 0,
          "x": 8,
          "y": 12
         },
         {
          "value": 0,
          "x": 8,
          "y": 13
         },
         {
          "value": 0,
          "x": 8,
          "y": 14
         },
         {
          "value": 0,
          "x": 8,
          "y": 15
         },
         {
          "value": 189,
          "x": 8,
          "y": 16
         },
         {
          "value": 204,
          "x": 8,
          "y": 17
         },
         {
          "value": 205,
          "x": 8,
          "y": 18
         },
         {
          "value": 249,
          "x": 8,
          "y": 19
         },
         {
          "value": 216,
          "x": 8,
          "y": 20
         },
         {
          "value": 194,
          "x": 8,
          "y": 21
         },
         {
          "value": 204,
          "x": 8,
          "y": 22
         },
         {
          "value": 175,
          "x": 8,
          "y": 23
         },
         {
          "value": 239,
          "x": 8,
          "y": 24
         },
         {
          "value": 61,
          "x": 8,
          "y": 25
         },
         {
          "value": 0,
          "x": 8,
          "y": 26
         },
         {
          "value": 0,
          "x": 8,
          "y": 27
         },
         {
          "value": 0,
          "x": 9,
          "y": 0
         },
         {
          "value": 0,
          "x": 9,
          "y": 1
         },
         {
          "value": 0,
          "x": 9,
          "y": 2
         },
         {
          "value": 0,
          "x": 9,
          "y": 3
         },
         {
          "value": 0,
          "x": 9,
          "y": 4
         },
         {
          "value": 0,
          "x": 9,
          "y": 5
         },
         {
          "value": 0,
          "x": 9,
          "y": 6
         },
         {
          "value": 0,
          "x": 9,
          "y": 7
         },
         {
          "value": 1,
          "x": 9,
          "y": 8
         },
         {
          "value": 0,
          "x": 9,
          "y": 9
         },
         {
          "value": 0,
          "x": 9,
          "y": 10
         },
         {
          "value": 1,
          "x": 9,
          "y": 11
         },
         {
          "value": 0,
          "x": 9,
          "y": 12
         },
         {
          "value": 4,
          "x": 9,
          "y": 13
         },
         {
          "value": 0,
          "x": 9,
          "y": 14
         },
         {
          "value": 62,
          "x": 9,
          "y": 15
         },
         {
          "value": 228,
          "x": 9,
          "y": 16
         },
         {
          "value": 214,
          "x": 9,
          "y": 17
         },
         {
          "value": 205,
          "x": 9,
          "y": 18
         },
         {
          "value": 220,
          "x": 9,
          "y": 19
         },
         {
          "value": 185,
          "x": 9,
          "y": 20
         },
         {
          "value": 192,
          "x": 9,
          "y": 21
         },
         {
          "value": 210,
          "x": 9,
          "y": 22
         },
         {
          "value": 181,
          "x": 9,
          "y": 23
         },
         {
          "value": 242,
          "x": 9,
          "y": 24
         },
         {
          "value": 44,
          "x": 9,
          "y": 25
         },
         {
          "value": 0,
          "x": 9,
          "y": 26
         },
         {
          "value": 0,
          "x": 9,
          "y": 27
         },
         {
          "value": 0,
          "x": 10,
          "y": 0
         },
         {
          "value": 0,
          "x": 10,
          "y": 1
         },
         {
          "value": 0,
          "x": 10,
          "y": 2
         },
         {
          "value": 0,
          "x": 10,
          "y": 3
         },
         {
          "value": 0,
          "x": 10,
          "y": 4
         },
         {
          "value": 0,
          "x": 10,
          "y": 5
         },
         {
          "value": 0,
          "x": 10,
          "y": 6
         },
         {
          "value": 0,
          "x": 10,
          "y": 7
         },
         {
          "value": 1,
          "x": 10,
          "y": 8
         },
         {
          "value": 0,
          "x": 10,
          "y": 9
         },
         {
          "value": 0,
          "x": 10,
          "y": 10
         },
         {
          "value": 3,
          "x": 10,
          "y": 11
         },
         {
          "value": 6,
          "x": 10,
          "y": 12
         },
         {
          "value": 0,
          "x": 10,
          "y": 13
         },
         {
          "value": 0,
          "x": 10,
          "y": 14
         },
         {
          "value": 145,
          "x": 10,
          "y": 15
         },
         {
          "value": 220,
          "x": 10,
          "y": 16
         },
         {
          "value": 208,
          "x": 10,
          "y": 17
         },
         {
          "value": 205,
          "x": 10,
          "y": 18
         },
         {
          "value": 194,
          "x": 10,
          "y": 19
         },
         {
          "value": 197,
          "x": 10,
          "y": 20
         },
         {
          "value": 202,
          "x": 10,
          "y": 21
         },
         {
          "value": 213,
          "x": 10,
          "y": 22
         },
         {
          "value": 185,
          "x": 10,
          "y": 23
         },
         {
          "value": 246,
          "x": 10,
          "y": 24
         },
         {
          "value": 72,
          "x": 10,
          "y": 25
         },
         {
          "value": 0,
          "x": 10,
          "y": 26
         },
         {
          "value": 0,
          "x": 10,
          "y": 27
         },
         {
          "value": 0,
          "x": 11,
          "y": 0
         },
         {
          "value": 0,
          "x": 11,
          "y": 1
         },
         {
          "value": 0,
          "x": 11,
          "y": 2
         },
         {
          "value": 0,
          "x": 11,
          "y": 3
         },
         {
          "value": 0,
          "x": 11,
          "y": 4
         },
         {
          "value": 0,
          "x": 11,
          "y": 5
         },
         {
          "value": 0,
          "x": 11,
          "y": 6
         },
         {
          "value": 1,
          "x": 11,
          "y": 7
         },
         {
          "value": 1,
          "x": 11,
          "y": 8
         },
         {
          "value": 0,
          "x": 11,
          "y": 9
         },
         {
          "value": 0,
          "x": 11,
          "y": 10
         },
         {
          "value": 0,
          "x": 11,
          "y": 11
         },
         {
          "value": 0,
          "x": 11,
          "y": 12
         },
         {
          "value": 0,
          "x": 11,
          "y": 13
         },
         {
          "value": 0,
          "x": 11,
          "y": 14
         },
         {
          "value": 204,
          "x": 11,
          "y": 15
         },
         {
          "value": 222,
          "x": 11,
          "y": 16
         },
         {
          "value": 209,
          "x": 11,
          "y": 17
         },
         {
          "value": 220,
          "x": 11,
          "y": 18
         },
         {
          "value": 215,
          "x": 11,
          "y": 19
         },
         {
          "value": 206,
          "x": 11,
          "y": 20
         },
         {
          "value": 214,
          "x": 11,
          "y": 21
         },
         {
          "value": 207,
          "x": 11,
          "y": 22
         },
         {
          "value": 188,
          "x": 11,
          "y": 23
         },
         {
          "value": 243,
          "x": 11,
          "y": 24
         },
         {
          "value": 41,
          "x": 11,
          "y": 25
         },
         {
          "value": 0,
          "x": 11,
          "y": 26
         },
         {
          "value": 0,
          "x": 11,
          "y": 27
         },
         {
          "value": 0,
          "x": 12,
          "y": 0
         },
         {
          "value": 0,
          "x": 12,
          "y": 1
         },
         {
          "value": 0,
          "x": 12,
          "y": 2
         },
         {
          "value": 1,
          "x": 12,
          "y": 3
         },
         {
          "value": 3,
          "x": 12,
          "y": 4
         },
         {
          "value": 6,
          "x": 12,
          "y": 5
         },
         {
          "value": 0,
          "x": 12,
          "y": 6
         },
         {
          "value": 0,
          "x": 12,
          "y": 7
         },
         {
          "value": 0,
          "x": 12,
          "y": 8
         },
         {
          "value": 0,
          "x": 12,
          "y": 9
         },
         {
          "value": 0,
          "x": 12,
          "y": 10
         },
         {
          "value": 12,
          "x": 12,
          "y": 11
         },
         {
          "value": 99,
          "x": 12,
          "y": 12
         },
         {
          "value": 55,
          "x": 12,
          "y": 13
         },
         {
          "value": 237,
          "x": 12,
          "y": 14
         },
         {
          "value": 228,
          "x": 12,
          "y": 15
         },
         {
          "value": 217,
          "x": 12,
          "y": 16
         },
         {
          "value": 200,
          "x": 12,
          "y": 17
         },
         {
          "value": 240,
          "x": 12,
          "y": 18
         },
         {
          "value": 217,
          "x": 12,
          "y": 19
         },
         {
          "value": 198,
          "x": 12,
          "y": 20
         },
         {
          "value": 219,
          "x": 12,
          "y": 21
         },
         {
          "value": 211,
          "x": 12,
          "y": 22
         },
         {
          "value": 189,
          "x": 12,
          "y": 23
         },
         {
          "value": 244,
          "x": 12,
          "y": 24
         },
         {
          "value": 35,
          "x": 12,
          "y": 25
         },
         {
          "value": 0,
          "x": 12,
          "y": 26
         },
         {
          "value": 0,
          "x": 12,
          "y": 27
         },
         {
          "value": 0,
          "x": 13,
          "y": 0
         },
         {
          "value": 0,
          "x": 13,
          "y": 1
         },
         {
          "value": 0,
          "x": 13,
          "y": 2
         },
         {
          "value": 0,
          "x": 13,
          "y": 3
         },
         {
          "value": 0,
          "x": 13,
          "y": 4
         },
         {
          "value": 0,
          "x": 13,
          "y": 5
         },
         {
          "value": 0,
          "x": 13,
          "y": 6
         },
         {
          "value": 69,
          "x": 13,
          "y": 7
         },
         {
          "value": 200,
          "x": 13,
          "y": 8
         },
         {
          "value": 183,
          "x": 13,
          "y": 9
         },
         {
          "value": 193,
          "x": 13,
          "y": 10
         },
         {
          "value": 219,
          "x": 13,
          "y": 11
         },
         {
          "value": 244,
          "x": 13,
          "y": 12
         },
         {
          "value": 236,
          "x": 13,
          "y": 13
         },
         {
          "value": 226,
          "x": 13,
          "y": 14
         },
         {
          "value": 207,
          "x": 13,
          "y": 15
         },
         {
          "value": 226,
          "x": 13,
          "y": 16
         },
         {
          "value": 159,
          "x": 13,
          "y": 17
         },
         {
          "value": 80,
          "x": 13,
          "y": 18
         },
         {
          "value": 241,
          "x": 13,
          "y": 19
         },
         {
          "value": 213,
          "x": 13,
          "y": 20
         },
         {
          "value": 221,
          "x": 13,
          "y": 21
         },
         {
          "value": 210,
          "x": 13,
          "y": 22
         },
         {
          "value": 188,
          "x": 13,
          "y": 23
         },
         {
          "value": 221,
          "x": 13,
          "y": 24
         },
         {
          "value": 0,
          "x": 13,
          "y": 25
         },
         {
          "value": 0,
          "x": 13,
          "y": 26
         },
         {
          "value": 0,
          "x": 13,
          "y": 27
         },
         {
          "value": 0,
          "x": 14,
          "y": 0
         },
         {
          "value": 0,
          "x": 14,
          "y": 1
         },
         {
          "value": 0,
          "x": 14,
          "y": 2
         },
         {
          "value": 0,
          "x": 14,
          "y": 3
         },
         {
          "value": 36,
          "x": 14,
          "y": 4
         },
         {
          "value": 102,
          "x": 14,
          "y": 5
         },
         {
          "value": 155,
          "x": 14,
          "y": 6
         },
         {
          "value": 207,
          "x": 14,
          "y": 7
         },
         {
          "value": 232,
          "x": 14,
          "y": 8
         },
         {
          "value": 225,
          "x": 14,
          "y": 9
         },
         {
          "value": 228,
          "x": 14,
          "y": 10
         },
         {
          "value": 220,
          "x": 14,
          "y": 11
         },
         {
          "value": 222,
          "x": 14,
          "y": 12
         },
         {
          "value": 228,
          "x": 14,
          "y": 13
         },
         {
          "value": 217,
          "x": 14,
          "y": 14
         },
         {
          "value": 213,
          "x": 14,
          "y": 15
         },
         {
          "value": 200,
          "x": 14,
          "y": 16
         },
         {
          "value": 245,
          "x": 14,
          "y": 17
         },
         {
          "value": 150,
          "x": 14,
          "y": 18
         },
         {
          "value": 65,
          "x": 14,
          "y": 19
         },
         {
          "value": 240,
          "x": 14,
          "y": 20
         },
         {
          "value": 220,
          "x": 14,
          "y": 21
         },
         {
          "value": 200,
          "x": 14,
          "y": 22
         },
         {
          "value": 193,
          "x": 14,
          "y": 23
         },
         {
          "value": 220,
          "x": 14,
          "y": 24
         },
         {
          "value": 0,
          "x": 14,
          "y": 25
         },
         {
          "value": 0,
          "x": 14,
          "y": 26
         },
         {
          "value": 0,
          "x": 14,
          "y": 27
         },
         {
          "value": 0,
          "x": 15,
          "y": 0
         },
         {
          "value": 0,
          "x": 15,
          "y": 1
         },
         {
          "value": 0,
          "x": 15,
          "y": 2
         },
         {
          "value": 13,
          "x": 15,
          "y": 3
         },
         {
          "value": 136,
          "x": 15,
          "y": 4
         },
         {
          "value": 204,
          "x": 15,
          "y": 5
         },
         {
          "value": 236,
          "x": 15,
          "y": 6
         },
         {
          "value": 223,
          "x": 15,
          "y": 7
         },
         {
          "value": 232,
          "x": 15,
          "y": 8
         },
         {
          "value": 216,
          "x": 15,
          "y": 9
         },
         {
          "value": 218,
          "x": 15,
          "y": 10
         },
         {
          "value": 212,
          "x": 15,
          "y": 11
         },
         {
          "value": 220,
          "x": 15,
          "y": 12
         },
         {
          "value": 230,
          "x": 15,
          "y": 13
         },
         {
          "value": 223,
          "x": 15,
          "y": 14
         },
         {
          "value": 221,
          "x": 15,
          "y": 15
         },
         {
          "value": 205,
          "x": 15,
          "y": 16
         },
         {
          "value": 193,
          "x": 15,
          "y": 17
         },
         {
          "value": 255,
          "x": 15,
          "y": 18
         },
         {
          "value": 73,
          "x": 15,
          "y": 19
         },
         {
          "value": 195,
          "x": 15,
          "y": 20
         },
         {
          "value": 236,
          "x": 15,
          "y": 21
         },
         {
          "value": 196,
          "x": 15,
          "y": 22
         },
         {
          "value": 198,
          "x": 15,
          "y": 23
         },
         {
          "value": 193,
          "x": 15,
          "y": 24
         },
         {
          "value": 0,
          "x": 15,
          "y": 25
         },
         {
          "value": 0,
          "x": 15,
          "y": 26
         },
         {
          "value": 0,
          "x": 15,
          "y": 27
         },
         {
          "value": 0,
          "x": 16,
          "y": 0
         },
         {
          "value": 0,
          "x": 16,
          "y": 1
         },
         {
          "value": 0,
          "x": 16,
          "y": 2
         },
         {
          "value": 73,
          "x": 16,
          "y": 3
         },
         {
          "value": 127,
          "x": 16,
          "y": 4
         },
         {
          "value": 176,
          "x": 16,
          "y": 5
         },
         {
          "value": 207,
          "x": 16,
          "y": 6
         },
         {
          "value": 218,
          "x": 16,
          "y": 7
         },
         {
          "value": 233,
          "x": 16,
          "y": 8
         },
         {
          "value": 223,
          "x": 16,
          "y": 9
         },
         {
          "value": 213,
          "x": 16,
          "y": 10
         },
         {
          "value": 218,
          "x": 16,
          "y": 11
         },
         {
          "value": 218,
          "x": 16,
          "y": 12
         },
         {
          "value": 228,
          "x": 16,
          "y": 13
         },
         {
          "value": 222,
          "x": 16,
          "y": 14
         },
         {
          "value": 218,
          "x": 16,
          "y": 15
         },
         {
          "value": 211,
          "x": 16,
          "y": 16
         },
         {
          "value": 206,
          "x": 16,
          "y": 17
         },
         {
          "value": 229,
          "x": 16,
          "y": 18
         },
         {
          "value": 106,
          "x": 16,
          "y": 19
         },
         {
          "value": 227,
          "x": 16,
          "y": 20
         },
         {
          "value": 225,
          "x": 16,
          "y": 21
         },
         {
          "value": 194,
          "x": 16,
          "y": 22
         },
         {
          "value": 204,
          "x": 16,
          "y": 23
         },
         {
          "value": 191,
          "x": 16,
          "y": 24
         },
         {
          "value": 0,
          "x": 16,
          "y": 25
         },
         {
          "value": 0,
          "x": 16,
          "y": 26
         },
         {
          "value": 0,
          "x": 16,
          "y": 27
         },
         {
          "value": 0,
          "x": 17,
          "y": 0
         },
         {
          "value": 0,
          "x": 17,
          "y": 1
         },
         {
          "value": 0,
          "x": 17,
          "y": 2
         },
         {
          "value": 0,
          "x": 17,
          "y": 3
         },
         {
          "value": 62,
          "x": 17,
          "y": 4
         },
         {
          "value": 134,
          "x": 17,
          "y": 5
         },
         {
          "value": 178,
          "x": 17,
          "y": 6
         },
         {
          "value": 216,
          "x": 17,
          "y": 7
         },
         {
          "value": 229,
          "x": 17,
          "y": 8
         },
         {
          "value": 228,
          "x": 17,
          "y": 9
         },
         {
          "value": 198,
          "x": 17,
          "y": 10
         },
         {
          "value": 192,
          "x": 17,
          "y": 11
         },
         {
          "value": 203,
          "x": 17,
          "y": 12
         },
         {
          "value": 240,
          "x": 17,
          "y": 13
         },
         {
          "value": 219,
          "x": 17,
          "y": 14
         },
         {
          "value": 208,
          "x": 17,
          "y": 15
         },
         {
          "value": 230,
          "x": 17,
          "y": 16
         },
         {
          "value": 223,
          "x": 17,
          "y": 17
         },
         {
          "value": 221,
          "x": 17,
          "y": 18
         },
         {
          "value": 117,
          "x": 17,
          "y": 19
         },
         {
          "value": 245,
          "x": 17,
          "y": 20
         },
         {
          "value": 216,
          "x": 17,
          "y": 21
         },
         {
          "value": 191,
          "x": 17,
          "y": 22
         },
         {
          "value": 209,
          "x": 17,
          "y": 23
         },
         {
          "value": 179,
          "x": 17,
          "y": 24
         },
         {
          "value": 0,
          "x": 17,
          "y": 25
         },
         {
          "value": 0,
          "x": 17,
          "y": 26
         },
         {
          "value": 0,
          "x": 17,
          "y": 27
         },
         {
          "value": 0,
          "x": 18,
          "y": 0
         },
         {
          "value": 0,
          "x": 18,
          "y": 1
         },
         {
          "value": 0,
          "x": 18,
          "y": 2
         },
         {
          "value": 0,
          "x": 18,
          "y": 3
         },
         {
          "value": 54,
          "x": 18,
          "y": 4
         },
         {
          "value": 144,
          "x": 18,
          "y": 5
         },
         {
          "value": 107,
          "x": 18,
          "y": 6
         },
         {
          "value": 216,
          "x": 18,
          "y": 7
         },
         {
          "value": 223,
          "x": 18,
          "y": 8
         },
         {
          "value": 235,
          "x": 18,
          "y": 9
         },
         {
          "value": 180,
          "x": 18,
          "y": 10
         },
         {
          "value": 169,
          "x": 18,
          "y": 11
         },
         {
          "value": 198,
          "x": 18,
          "y": 12
         },
         {
          "value": 232,
          "x": 18,
          "y": 13
         },
         {
          "value": 222,
          "x": 18,
          "y": 14
         },
         {
          "value": 211,
          "x": 18,
          "y": 15
         },
         {
          "value": 224,
          "x": 18,
          "y": 16
         },
         {
          "value": 255,
          "x": 18,
          "y": 17
         },
         {
          "value": 188,
          "x": 18,
          "y": 18
         },
         {
          "value": 168,
          "x": 18,
          "y": 19
         },
         {
          "value": 239,
          "x": 18,
          "y": 20
         },
         {
          "value": 199,
          "x": 18,
          "y": 21
         },
         {
          "value": 195,
          "x": 18,
          "y": 22
         },
         {
          "value": 210,
          "x": 18,
          "y": 23
         },
         {
          "value": 182,
          "x": 18,
          "y": 24
         },
         {
          "value": 0,
          "x": 18,
          "y": 25
         },
         {
          "value": 0,
          "x": 18,
          "y": 26
         },
         {
          "value": 0,
          "x": 18,
          "y": 27
         },
         {
          "value": 0,
          "x": 19,
          "y": 0
         },
         {
          "value": 0,
          "x": 19,
          "y": 1
         },
         {
          "value": 0,
          "x": 19,
          "y": 2
         },
         {
          "value": 1,
          "x": 19,
          "y": 3
         },
         {
          "value": 0,
          "x": 19,
          "y": 4
         },
         {
          "value": 123,
          "x": 19,
          "y": 5
         },
         {
          "value": 156,
          "x": 19,
          "y": 6
         },
         {
          "value": 163,
          "x": 19,
          "y": 7
         },
         {
          "value": 223,
          "x": 19,
          "y": 8
         },
         {
          "value": 227,
          "x": 19,
          "y": 9
         },
         {
          "value": 212,
          "x": 19,
          "y": 10
         },
         {
          "value": 227,
          "x": 19,
          "y": 11
         },
         {
          "value": 221,
          "x": 19,
          "y": 12
         },
         {
          "value": 213,
          "x": 19,
          "y": 13
         },
         {
          "value": 221,
          "x": 19,
          "y": 14
         },
         {
          "value": 218,
          "x": 19,
          "y": 15
         },
         {
          "value": 234,
          "x": 19,
          "y": 16
         },
         {
          "value": 255,
          "x": 19,
          "y": 17
         },
         {
          "value": 154,
          "x": 19,
          "y": 18
         },
         {
          "value": 219,
          "x": 19,
          "y": 19
         },
         {
          "value": 223,
          "x": 19,
          "y": 20
         },
         {
          "value": 206,
          "x": 19,
          "y": 21
         },
         {
          "value": 191,
          "x": 19,
          "y": 22
         },
         {
          "value": 210,
          "x": 19,
          "y": 23
         },
         {
          "value": 182,
          "x": 19,
          "y": 24
         },
         {
          "value": 0,
          "x": 19,
          "y": 25
         },
         {
          "value": 0,
          "x": 19,
          "y": 26
         },
         {
          "value": 0,
          "x": 19,
          "y": 27
         },
         {
          "value": 0,
          "x": 20,
          "y": 0
         },
         {
          "value": 0,
          "x": 20,
          "y": 1
         },
         {
          "value": 0,
          "x": 20,
          "y": 2
         },
         {
          "value": 4,
          "x": 20,
          "y": 3
         },
         {
          "value": 0,
          "x": 20,
          "y": 4
         },
         {
          "value": 23,
          "x": 20,
          "y": 5
         },
         {
          "value": 161,
          "x": 20,
          "y": 6
         },
         {
          "value": 127,
          "x": 20,
          "y": 7
         },
         {
          "value": 215,
          "x": 20,
          "y": 8
         },
         {
          "value": 224,
          "x": 20,
          "y": 9
         },
         {
          "value": 210,
          "x": 20,
          "y": 10
         },
         {
          "value": 208,
          "x": 20,
          "y": 11
         },
         {
          "value": 215,
          "x": 20,
          "y": 12
         },
         {
          "value": 218,
          "x": 20,
          "y": 13
         },
         {
          "value": 216,
          "x": 20,
          "y": 14
         },
         {
          "value": 224,
          "x": 20,
          "y": 15
         },
         {
          "value": 176,
          "x": 20,
          "y": 16
         },
         {
          "value": 221,
          "x": 20,
          "y": 17
         },
         {
          "value": 191,
          "x": 20,
          "y": 18
         },
         {
          "value": 221,
          "x": 20,
          "y": 19
         },
         {
          "value": 218,
          "x": 20,
          "y": 20
         },
         {
          "value": 186,
          "x": 20,
          "y": 21
         },
         {
          "value": 198,
          "x": 20,
          "y": 22
         },
         {
          "value": 211,
          "x": 20,
          "y": 23
         },
         {
          "value": 181,
          "x": 20,
          "y": 24
         },
         {
          "value": 0,
          "x": 20,
          "y": 25
         },
         {
          "value": 0,
          "x": 20,
          "y": 26
         },
         {
          "value": 0,
          "x": 20,
          "y": 27
         },
         {
          "value": 0,
          "x": 21,
          "y": 0
         },
         {
          "value": 0,
          "x": 21,
          "y": 1
         },
         {
          "value": 0,
          "x": 21,
          "y": 2
         },
         {
          "value": 0,
          "x": 21,
          "y": 3
         },
         {
          "value": 0,
          "x": 21,
          "y": 4
         },
         {
          "value": 0,
          "x": 21,
          "y": 5
         },
         {
          "value": 109,
          "x": 21,
          "y": 6
         },
         {
          "value": 121,
          "x": 21,
          "y": 7
         },
         {
          "value": 213,
          "x": 21,
          "y": 8
         },
         {
          "value": 222,
          "x": 21,
          "y": 9
         },
         {
          "value": 211,
          "x": 21,
          "y": 10
         },
         {
          "value": 218,
          "x": 21,
          "y": 11
         },
         {
          "value": 213,
          "x": 21,
          "y": 12
         },
         {
          "value": 223,
          "x": 21,
          "y": 13
         },
         {
          "value": 223,
          "x": 21,
          "y": 14
         },
         {
          "value": 223,
          "x": 21,
          "y": 15
         },
         {
          "value": 188,
          "x": 21,
          "y": 16
         },
         {
          "value": 234,
          "x": 21,
          "y": 17
         },
         {
          "value": 210,
          "x": 21,
          "y": 18
         },
         {
          "value": 215,
          "x": 21,
          "y": 19
         },
         {
          "value": 212,
          "x": 21,
          "y": 20
         },
         {
          "value": 181,
          "x": 21,
          "y": 21
         },
         {
          "value": 192,
          "x": 21,
          "y": 22
         },
         {
          "value": 188,
          "x": 21,
          "y": 23
         },
         {
          "value": 176,
          "x": 21,
          "y": 24
         },
         {
          "value": 0,
          "x": 21,
          "y": 25
         },
         {
          "value": 0,
          "x": 21,
          "y": 26
         },
         {
          "value": 0,
          "x": 21,
          "y": 27
         },
         {
          "value": 0,
          "x": 22,
          "y": 0
         },
         {
          "value": 0,
          "x": 22,
          "y": 1
         },
         {
          "value": 0,
          "x": 22,
          "y": 2
         },
         {
          "value": 0,
          "x": 22,
          "y": 3
         },
         {
          "value": 1,
          "x": 22,
          "y": 4
         },
         {
          "value": 0,
          "x": 22,
          "y": 5
         },
         {
          "value": 64,
          "x": 22,
          "y": 6
         },
         {
          "value": 122,
          "x": 22,
          "y": 7
         },
         {
          "value": 164,
          "x": 22,
          "y": 8
         },
         {
          "value": 224,
          "x": 22,
          "y": 9
         },
         {
          "value": 213,
          "x": 22,
          "y": 10
         },
         {
          "value": 224,
          "x": 22,
          "y": 11
         },
         {
          "value": 222,
          "x": 22,
          "y": 12
         },
         {
          "value": 234,
          "x": 22,
          "y": 13
         },
         {
          "value": 229,
          "x": 22,
          "y": 14
         },
         {
          "value": 219,
          "x": 22,
          "y": 15
         },
         {
          "value": 250,
          "x": 22,
          "y": 16
         },
         {
          "value": 221,
          "x": 22,
          "y": 17
         },
         {
          "value": 204,
          "x": 22,
          "y": 18
         },
         {
          "value": 217,
          "x": 22,
          "y": 19
         },
         {
          "value": 209,
          "x": 22,
          "y": 20
         },
         {
          "value": 177,
          "x": 22,
          "y": 21
         },
         {
          "value": 176,
          "x": 22,
          "y": 22
         },
         {
          "value": 188,
          "x": 22,
          "y": 23
         },
         {
          "value": 166,
          "x": 22,
          "y": 24
         },
         {
          "value": 0,
          "x": 22,
          "y": 25
         },
         {
          "value": 0,
          "x": 22,
          "y": 26
         },
         {
          "value": 0,
          "x": 22,
          "y": 27
         },
         {
          "value": 0,
          "x": 23,
          "y": 0
         },
         {
          "value": 0,
          "x": 23,
          "y": 1
         },
         {
          "value": 0,
          "x": 23,
          "y": 2
         },
         {
          "value": 0,
          "x": 23,
          "y": 3
         },
         {
          "value": 3,
          "x": 23,
          "y": 4
         },
         {
          "value": 0,
          "x": 23,
          "y": 5
         },
         {
          "value": 23,
          "x": 23,
          "y": 6
         },
         {
          "value": 146,
          "x": 23,
          "y": 7
         },
         {
          "value": 127,
          "x": 23,
          "y": 8
         },
         {
          "value": 221,
          "x": 23,
          "y": 9
         },
         {
          "value": 223,
          "x": 23,
          "y": 10
         },
         {
          "value": 212,
          "x": 23,
          "y": 11
         },
         {
          "value": 220,
          "x": 23,
          "y": 12
         },
         {
          "value": 217,
          "x": 23,
          "y": 13
         },
         {
          "value": 215,
          "x": 23,
          "y": 14
         },
         {
          "value": 215,
          "x": 23,
          "y": 15
         },
         {
          "value": 248,
          "x": 23,
          "y": 16
         },
         {
          "value": 211,
          "x": 23,
          "y": 17
         },
         {
          "value": 209,
          "x": 23,
          "y": 18
         },
         {
          "value": 223,
          "x": 23,
          "y": 19
         },
         {
          "value": 222,
          "x": 23,
          "y": 20
         },
         {
          "value": 172,
          "x": 23,
          "y": 21
         },
         {
          "value": 156,
          "x": 23,
          "y": 22
         },
         {
          "value": 194,
          "x": 23,
          "y": 23
         },
         {
          "value": 168,
          "x": 23,
          "y": 24
         },
         {
          "value": 0,
          "x": 23,
          "y": 25
         },
         {
          "value": 0,
          "x": 23,
          "y": 26
         },
         {
          "value": 0,
          "x": 23,
          "y": 27
         },
         {
          "value": 0,
          "x": 24,
          "y": 0
         },
         {
          "value": 0,
          "x": 24,
          "y": 1
         },
         {
          "value": 0,
          "x": 24,
          "y": 2
         },
         {
          "value": 0,
          "x": 24,
          "y": 3
         },
         {
          "value": 4,
          "x": 24,
          "y": 4
         },
         {
          "value": 0,
          "x": 24,
          "y": 5
         },
         {
          "value": 77,
          "x": 24,
          "y": 6
         },
         {
          "value": 141,
          "x": 24,
          "y": 7
         },
         {
          "value": 123,
          "x": 24,
          "y": 8
         },
         {
          "value": 223,
          "x": 24,
          "y": 9
         },
         {
          "value": 220,
          "x": 24,
          "y": 10
         },
         {
          "value": 226,
          "x": 24,
          "y": 11
         },
         {
          "value": 245,
          "x": 24,
          "y": 12
         },
         {
          "value": 217,
          "x": 24,
          "y": 13
         },
         {
          "value": 218,
          "x": 24,
          "y": 14
         },
         {
          "value": 224,
          "x": 24,
          "y": 15
         },
         {
          "value": 233,
          "x": 24,
          "y": 16
         },
         {
          "value": 220,
          "x": 24,
          "y": 17
         },
         {
          "value": 222,
          "x": 24,
          "y": 18
         },
         {
          "value": 223,
          "x": 24,
          "y": 19
         },
         {
          "value": 220,
          "x": 24,
          "y": 20
         },
         {
          "value": 181,
          "x": 24,
          "y": 21
         },
         {
          "value": 167,
          "x": 24,
          "y": 22
         },
         {
          "value": 192,
          "x": 24,
          "y": 23
         },
         {
          "value": 99,
          "x": 24,
          "y": 24
         },
         {
          "value": 0,
          "x": 24,
          "y": 25
         },
         {
          "value": 0,
          "x": 24,
          "y": 26
         },
         {
          "value": 0,
          "x": 24,
          "y": 27
         },
         {
          "value": 0,
          "x": 25,
          "y": 0
         },
         {
          "value": 0,
          "x": 25,
          "y": 1
         },
         {
          "value": 0,
          "x": 25,
          "y": 2
         },
         {
          "value": 1,
          "x": 25,
          "y": 3
         },
         {
          "value": 0,
          "x": 25,
          "y": 4
         },
         {
          "value": 12,
          "x": 25,
          "y": 5
         },
         {
          "value": 130,
          "x": 25,
          "y": 6
         },
         {
          "value": 88,
          "x": 25,
          "y": 7
         },
         {
          "value": 196,
          "x": 25,
          "y": 8
         },
         {
          "value": 245,
          "x": 25,
          "y": 9
         },
         {
          "value": 243,
          "x": 25,
          "y": 10
         },
         {
          "value": 197,
          "x": 25,
          "y": 11
         },
         {
          "value": 119,
          "x": 25,
          "y": 12
         },
         {
          "value": 209,
          "x": 25,
          "y": 13
         },
         {
          "value": 255,
          "x": 25,
          "y": 14
         },
         {
          "value": 244,
          "x": 25,
          "y": 15
         },
         {
          "value": 238,
          "x": 25,
          "y": 16
         },
         {
          "value": 232,
          "x": 25,
          "y": 17
         },
         {
          "value": 228,
          "x": 25,
          "y": 18
         },
         {
          "value": 224,
          "x": 25,
          "y": 19
         },
         {
          "value": 221,
          "x": 25,
          "y": 20
         },
         {
          "value": 205,
          "x": 25,
          "y": 21
         },
         {
          "value": 177,
          "x": 25,
          "y": 22
         },
         {
          "value": 216,
          "x": 25,
          "y": 23
         },
         {
          "value": 58,
          "x": 25,
          "y": 24
         },
         {
          "value": 0,
          "x": 25,
          "y": 25
         },
         {
          "value": 0,
          "x": 25,
          "y": 26
         },
         {
          "value": 0,
          "x": 25,
          "y": 27
         },
         {
          "value": 0,
          "x": 26,
          "y": 0
         },
         {
          "value": 0,
          "x": 26,
          "y": 1
         },
         {
          "value": 0,
          "x": 26,
          "y": 2
         },
         {
          "value": 1,
          "x": 26,
          "y": 3
         },
         {
          "value": 0,
          "x": 26,
          "y": 4
         },
         {
          "value": 10,
          "x": 26,
          "y": 5
         },
         {
          "value": 72,
          "x": 26,
          "y": 6
         },
         {
          "value": 172,
          "x": 26,
          "y": 7
         },
         {
          "value": 229,
          "x": 26,
          "y": 8
         },
         {
          "value": 173,
          "x": 26,
          "y": 9
         },
         {
          "value": 202,
          "x": 26,
          "y": 10
         },
         {
          "value": 209,
          "x": 26,
          "y": 11
         },
         {
          "value": 167,
          "x": 26,
          "y": 12
         },
         {
          "value": 92,
          "x": 26,
          "y": 13
         },
         {
          "value": 77,
          "x": 26,
          "y": 14
         },
         {
          "value": 159,
          "x": 26,
          "y": 15
         },
         {
          "value": 215,
          "x": 26,
          "y": 16
         },
         {
          "value": 246,
          "x": 26,
          "y": 17
         },
         {
          "value": 225,
          "x": 26,
          "y": 18
         },
         {
          "value": 229,
          "x": 26,
          "y": 19
         },
         {
          "value": 230,
          "x": 26,
          "y": 20
         },
         {
          "value": 206,
          "x": 26,
          "y": 21
         },
         {
          "value": 210,
          "x": 26,
          "y": 22
         },
         {
          "value": 170,
          "x": 26,
          "y": 23
         },
         {
          "value": 0,
          "x": 26,
          "y": 24
         },
         {
          "value": 0,
          "x": 26,
          "y": 25
         },
         {
          "value": 0,
          "x": 26,
          "y": 26
         },
         {
          "value": 0,
          "x": 26,
          "y": 27
         },
         {
          "value": 0,
          "x": 27,
          "y": 0
         },
         {
          "value": 0,
          "x": 27,
          "y": 1
         },
         {
          "value": 0,
          "x": 27,
          "y": 2
         },
         {
          "value": 0,
          "x": 27,
          "y": 3
         },
         {
          "value": 3,
          "x": 27,
          "y": 4
         },
         {
          "value": 0,
          "x": 27,
          "y": 5
         },
         {
          "value": 15,
          "x": 27,
          "y": 6
         },
         {
          "value": 66,
          "x": 27,
          "y": 7
         },
         {
          "value": 0,
          "x": 27,
          "y": 8
         },
         {
          "value": 0,
          "x": 27,
          "y": 9
         },
         {
          "value": 0,
          "x": 27,
          "y": 10
         },
         {
          "value": 52,
          "x": 27,
          "y": 11
         },
         {
          "value": 56,
          "x": 27,
          "y": 12
         },
         {
          "value": 0,
          "x": 27,
          "y": 13
         },
         {
          "value": 0,
          "x": 27,
          "y": 14
         },
         {
          "value": 0,
          "x": 27,
          "y": 15
         },
         {
          "value": 0,
          "x": 27,
          "y": 16
         },
         {
          "value": 0,
          "x": 27,
          "y": 17
         },
         {
          "value": 0,
          "x": 27,
          "y": 18
         },
         {
          "value": 29,
          "x": 27,
          "y": 19
         },
         {
          "value": 67,
          "x": 27,
          "y": 20
         },
         {
          "value": 115,
          "x": 27,
          "y": 21
         },
         {
          "value": 92,
          "x": 27,
          "y": 22
         },
         {
          "value": 0,
          "x": 27,
          "y": 23
         },
         {
          "value": 0,
          "x": 27,
          "y": 24
         },
         {
          "value": 0,
          "x": 27,
          "y": 25
         },
         {
          "value": 0,
          "x": 27,
          "y": 26
         },
         {
          "value": 0,
          "x": 27,
          "y": 27
         }
        ]
       },
       "encoding": {
        "color": {
         "field": "value",
         "legend": null,
         "scale": {
          "scheme": "greys"
         },
         "sort": "descending",
         "type": "quantitative"
        },
        "tooltip": [
         {
          "field": "value",
          "type": "quantitative"
         }
        ],
        "x": {
         "axis": {
          "labelAngle": 0,
          "title": ""
         },
         "field": "x",
         "type": "nominal"
        },
        "y": {
         "axis": {
          "title": ""
         },
         "field": "y",
         "type": "nominal"
        }
       },
       "height": 400,
       "mark": "rect",
       "title": "Ankle boot",
       "width": 400
      },
      "image/png": "[encoded data removed]",
      "text/plain": [
       "<VegaLite 2 object>\n",
       "\n",
       "If you see this message, it means the renderer has not been properly enabled\n",
       "for the frontend that you are using. For more information, see\n",
       "https://altair-viz.github.io/user_guide/troubleshooting.html\n"
      ]
     },
     "execution_count": 60,
     "metadata": {},
     "output_type": "execute_result"
    }
   ],
   "source": [
    "vis.imshow(x_train[0], label = label[y_train[0]])"
   ]
  },
  {
   "cell_type": "markdown",
   "metadata": {},
   "source": [
    "### See an Image from each class"
   ]
  },
  {
   "cell_type": "code",
   "execution_count": 11,
   "metadata": {},
   "outputs": [
    {
     "data": {
      "image/png": "[encoded data removed]",
      "text/plain": [
       "<Figure size 1152x504 with 10 Axes>"
      ]
     },
     "metadata": {},
     "output_type": "display_data"
    }
   ],
   "source": [
    "# Lets plot one image from each class\n",
    "u, indices = np.unique(y_train, return_index=True)\n",
    "plt.figure(figsize = (16,7))\n",
    "for i in u:\n",
    "    plt.subplot(2,5,i+1)\n",
    "    image(indices[i])"
   ]
  },
  {
   "cell_type": "markdown",
   "metadata": {},
   "source": [
    "#### See 500 of the Images"
   ]
  },
  {
   "cell_type": "code",
   "execution_count": 12,
   "metadata": {},
   "outputs": [],
   "source": [
    "from helpers import create_sprite, create_embedding"
   ]
  },
  {
   "cell_type": "code",
   "execution_count": 13,
   "metadata": {},
   "outputs": [
    {
     "data": {
      "text/plain": [
       "<matplotlib.image.AxesImage at 0x7fb4b4c74828>"
      ]
     },
     "execution_count": 13,
     "metadata": {},
     "output_type": "execute_result"
    },
    {
     "data": {
      "image/png": "[encoded data removed]",
      "text/plain": [
       "<Figure size 720x720 with 1 Axes>"
      ]
     },
     "metadata": {},
     "output_type": "display_data"
    }
   ],
   "source": [
    "sprite = create_sprite(x_train[:500])\n",
    "plt.figure(figsize = (10,10))\n",
    "plt.imshow(sprite,cmap='gray')"
   ]
  },
  {
   "cell_type": "markdown",
   "metadata": {},
   "source": [
    "## Deep Learning Approach - Single Layer\n",
    "\n",
    "![](img/single_dl.png)\n",
    "\n",
    "Lets learn both the representation and the classifier together now"
   ]
  },
  {
   "cell_type": "markdown",
   "metadata": {},
   "source": [
    "**Step 1: Prepare the images and labels**\n",
    "\n",
    "Convert from 'uint8' to 'float32' and normalise the data to (0,1) "
   ]
  },
  {
   "cell_type": "code",
   "execution_count": 61,
   "metadata": {},
   "outputs": [],
   "source": [
    "x_train = x_train.astype(\"float32\")/255\n",
    "x_test = x_test.astype(\"float32\")/255"
   ]
  },
  {
   "cell_type": "markdown",
   "metadata": {},
   "source": [
    "Flatten the data from (60000, 28, 28) to (60000, 784)"
   ]
  },
  {
   "cell_type": "code",
   "execution_count": 84,
   "metadata": {},
   "outputs": [],
   "source": [
    "x_train_flatten = x_train.reshape(60000, 28 * 28)\n",
    "x_test_flatten = x_test.reshape(10000, 28 * 28)"
   ]
  },
  {
   "cell_type": "markdown",
   "metadata": {},
   "source": [
    "Convert class vectors to binary class matrices"
   ]
  },
  {
   "cell_type": "code",
   "execution_count": 85,
   "metadata": {},
   "outputs": [],
   "source": [
    "from keras.utils import to_categorical\n",
    "y_train_class = to_categorical(y_train, 10)\n",
    "y_test_class = to_categorical(y_test, 10)"
   ]
  },
  {
   "cell_type": "markdown",
   "metadata": {},
   "source": [
    "**Step 2: Craft the feature transfomation and classifier model **"
   ]
  },
  {
   "cell_type": "code",
   "execution_count": 86,
   "metadata": {},
   "outputs": [],
   "source": [
    "from keras import Sequential\n",
    "from keras.layers import Dense, Activation"
   ]
  },
  {
   "cell_type": "code",
   "execution_count": 89,
   "metadata": {},
   "outputs": [],
   "source": [
    "model_single_dl = Sequential()\n",
    "model_single_dl.add(Dense(512, activation='relu', input_shape=(28 * 28,)))\n",
    "model_single_dl.add(Dense(10, activation='softmax'))"
   ]
  },
  {
   "cell_type": "code",
   "execution_count": 90,
   "metadata": {},
   "outputs": [
    {
     "name": "stdout",
     "output_type": "stream",
     "text": [
      "_________________________________________________________________\n",
      "Layer (type)                 Output Shape              Param #   \n",
      "=================================================================\n",
      "dense_4 (Dense)              (None, 512)               401920    \n",
      "_________________________________________________________________\n",
      "dense_5 (Dense)              (None, 10)                5130      \n",
      "=================================================================\n",
      "Total params: 407,050\n",
      "Trainable params: 407,050\n",
      "Non-trainable params: 0\n",
      "_________________________________________________________________\n"
     ]
    }
   ],
   "source": [
    "model_single_dl.summary()"
   ]
  },
  {
   "cell_type": "markdown",
   "metadata": {},
   "source": [
    "**Step 3: Compile and fit the model**"
   ]
  },
  {
   "cell_type": "code",
   "execution_count": 91,
   "metadata": {},
   "outputs": [],
   "source": [
    "model_single_dl.compile(loss='categorical_crossentropy', optimizer=\"sgd\", metrics=['accuracy'])"
   ]
  },
  {
   "cell_type": "code",
   "execution_count": 92,
   "metadata": {},
   "outputs": [],
   "source": [
    "tbCallBack = keras.callbacks.TensorBoard(log_dir='logs/single-dl')"
   ]
  },
  {
   "cell_type": "code",
   "execution_count": 109,
   "metadata": {},
   "outputs": [
    {
     "data": {
      "text/plain": [
       "\u001b[0;31mSignature:\u001b[0m \u001b[0mmodel_single_dl\u001b[0m\u001b[0;34m.\u001b[0m\u001b[0mfit\u001b[0m\u001b[0;34m(\u001b[0m\u001b[0mx\u001b[0m\u001b[0;34m=\u001b[0m\u001b[0;32mNone\u001b[0m\u001b[0;34m,\u001b[0m \u001b[0my\u001b[0m\u001b[0;34m=\u001b[0m\u001b[0;32mNone\u001b[0m\u001b[0;34m,\u001b[0m \u001b[0mbatch_size\u001b[0m\u001b[0;34m=\u001b[0m\u001b[0;32mNone\u001b[0m\u001b[0;34m,\u001b[0m \u001b[0mepochs\u001b[0m\u001b[0;34m=\u001b[0m\u001b[0;36m1\u001b[0m\u001b[0;34m,\u001b[0m \u001b[0mverbose\u001b[0m\u001b[0;34m=\u001b[0m\u001b[0;36m1\u001b[0m\u001b[0;34m,\u001b[0m \u001b[0mcallbacks\u001b[0m\u001b[0;34m=\u001b[0m\u001b[0;32mNone\u001b[0m\u001b[0;34m,\u001b[0m \u001b[0mvalidation_split\u001b[0m\u001b[0;34m=\u001b[0m\u001b[0;36m0.0\u001b[0m\u001b[0;34m,\u001b[0m \u001b[0mvalidation_data\u001b[0m\u001b[0;34m=\u001b[0m\u001b[0;32mNone\u001b[0m\u001b[0;34m,\u001b[0m \u001b[0mshuffle\u001b[0m\u001b[0;34m=\u001b[0m\u001b[0;32mTrue\u001b[0m\u001b[0;34m,\u001b[0m \u001b[0mclass_weight\u001b[0m\u001b[0;34m=\u001b[0m\u001b[0;32mNone\u001b[0m\u001b[0;34m,\u001b[0m \u001b[0msample_weight\u001b[0m\u001b[0;34m=\u001b[0m\u001b[0;32mNone\u001b[0m\u001b[0;34m,\u001b[0m \u001b[0minitial_epoch\u001b[0m\u001b[0;34m=\u001b[0m\u001b[0;36m0\u001b[0m\u001b[0;34m,\u001b[0m \u001b[0msteps_per_epoch\u001b[0m\u001b[0;34m=\u001b[0m\u001b[0;32mNone\u001b[0m\u001b[0;34m,\u001b[0m \u001b[0mvalidation_steps\u001b[0m\u001b[0;34m=\u001b[0m\u001b[0;32mNone\u001b[0m\u001b[0;34m,\u001b[0m \u001b[0;34m**\u001b[0m\u001b[0mkwargs\u001b[0m\u001b[0;34m)\u001b[0m\u001b[0;34m\u001b[0m\u001b[0m\n",
       "\u001b[0;31mDocstring:\u001b[0m\n",
       "Trains the model for a fixed number of epochs (iterations on a dataset).\n",
       "\n",
       "# Arguments\n",
       "    x: Numpy array of training data.\n",
       "        If the input layer in the model is named, you can also pass a\n",
       "        dictionary mapping the input name to a Numpy array.\n",
       "        `x` can be `None` (default) if feeding from\n",
       "        framework-native tensors (e.g. TensorFlow data tensors).\n",
       "    y: Numpy array of target (label) data.\n",
       "        If the output layer in the model is named, you can also pass a\n",
       "        dictionary mapping the output name to a Numpy array.\n",
       "        `y` can be `None` (default) if feeding from\n",
       "        framework-native tensors (e.g. TensorFlow data tensors).\n",
       "    batch_size: Integer or `None`.\n",
       "        Number of samples per gradient update.\n",
       "        If unspecified, it will default to 32.\n",
       "    epochs: Integer. Number of epochs to train the model.\n",
       "        An epoch is an iteration over the entire `x` and `y`\n",
       "        data provided.\n",
       "        Note that in conjunction with `initial_epoch`,\n",
       "        `epochs` is to be understood as \"final epoch\".\n",
       "        The model is not trained for a number of iterations\n",
       "        given by `epochs`, but merely until the epoch\n",
       "        of index `epochs` is reached.\n",
       "    verbose: 0, 1, or 2. Verbosity mode.\n",
       "        0 = silent, 1 = progress bar, 2 = one line per epoch.\n",
       "    callbacks: List of `keras.callbacks.Callback` instances.\n",
       "        List of callbacks to apply during training.\n",
       "        See [callbacks](/callbacks).\n",
       "    validation_split: Float between 0 and 1.\n",
       "        Fraction of the training data to be used as validation data.\n",
       "        The model will set apart this fraction of the training data,\n",
       "        will not train on it, and will evaluate\n",
       "        the loss and any model metrics\n",
       "        on this data at the end of each epoch.\n",
       "        The validation data is selected from the last samples\n",
       "        in the `x` and `y` data provided, before shuffling.\n",
       "    validation_data: tuple `(x_val, y_val)` or tuple\n",
       "        `(x_val, y_val, val_sample_weights)` on which to evaluate\n",
       "        the loss and any model metrics at the end of each epoch.\n",
       "        The model will not be trained on this data.\n",
       "        This will override `validation_split`.\n",
       "    shuffle: Boolean (whether to shuffle the training data\n",
       "        before each epoch) or str (for 'batch').\n",
       "        'batch' is a special option for dealing with the\n",
       "        limitations of HDF5 data; it shuffles in batch-sized chunks.\n",
       "        Has no effect when `steps_per_epoch` is not `None`.\n",
       "    class_weight: Optional dictionary mapping class indices (integers)\n",
       "        to a weight (float) value, used for weighting the loss function\n",
       "        (during training only).\n",
       "        This can be useful to tell the model to\n",
       "        \"pay more attention\" to samples from\n",
       "        an under-represented class.\n",
       "    sample_weight: Optional Numpy array of weights for\n",
       "        the training samples, used for weighting the loss function\n",
       "        (during training only). You can either pass a flat (1D)\n",
       "        Numpy array with the same length as the input samples\n",
       "        (1:1 mapping between weights and samples),\n",
       "        or in the case of temporal data,\n",
       "        you can pass a 2D array with shape\n",
       "        `(samples, sequence_length)`,\n",
       "        to apply a different weight to every timestep of every sample.\n",
       "        In this case you should make sure to specify\n",
       "        `sample_weight_mode=\"temporal\"` in `compile()`.\n",
       "    initial_epoch: Epoch at which to start training\n",
       "        (useful for resuming a previous training run).\n",
       "    steps_per_epoch: Total number of steps (batches of samples)\n",
       "        before declaring one epoch finished and starting the\n",
       "        next epoch. When training with input tensors such as\n",
       "        TensorFlow data tensors, the default `None` is equal to\n",
       "        the number of samples in your dataset divided by\n",
       "        the batch size, or 1 if that cannot be determined.\n",
       "    validation_steps: Only relevant if `steps_per_epoch`\n",
       "        is specified. Total number of steps (batches of samples)\n",
       "        to validate before stopping.\n",
       "\n",
       "# Returns\n",
       "    A `History` object. Its `History.history` attribute is\n",
       "    a record of training loss values and metrics values\n",
       "    at successive epochs, as well as validation loss values\n",
       "    and validation metrics values (if applicable).\n",
       "\n",
       "# Raises\n",
       "    RuntimeError: If the model was never compiled.\n",
       "    ValueError: In case of mismatch between the provided input data\n",
       "        and what the model expects.\n",
       "\u001b[0;31mFile:\u001b[0m      /opt/conda/lib/python3.6/site-packages/keras/models.py\n",
       "\u001b[0;31mType:\u001b[0m      method\n"
      ]
     },
     "metadata": {},
     "output_type": "display_data"
    }
   ],
   "source": [
    "model_single_dl.fit?"
   ]
  },
  {
   "cell_type": "code",
   "execution_count": 106,
   "metadata": {},
   "outputs": [
    {
     "name": "stdout",
     "output_type": "stream",
     "text": [
      "Train on 60000 samples, validate on 10000 samples\n",
      "Epoch 1/2\n",
      "60000/60000 [==============================] - 8s 140us/step - loss: 0.2991 - acc: 0.8909 - val_loss: 0.3484 - val_acc: 0.8757\n",
      "Epoch 2/2\n",
      "60000/60000 [==============================] - 8s 139us/step - loss: 0.2890 - acc: 0.8951 - val_loss: 0.3444 - val_acc: 0.8759\n",
      "CPU times: user 46 s, sys: 12.2 s, total: 58.2 s\n",
      "Wall time: 16.9 s\n"
     ]
    }
   ],
   "source": [
    "%%time \n",
    "history = model_single_dl.fit(x_train_flatten, y_train_class, batch_size=20, epochs=2, verbose=1,\n",
    "                    validation_data=(x_test_flatten, y_test_class),\n",
    "                    callbacks=[tbCallBack])"
   ]
  },
  {
   "cell_type": "markdown",
   "metadata": {},
   "source": [
    "**Step 4: Check the performance of the model**"
   ]
  },
  {
   "cell_type": "code",
   "execution_count": 107,
   "metadata": {},
   "outputs": [
    {
     "data": {
      "text/plain": [
       "{'val_loss': [0.3483752790056169, 0.3443950579203665],\n",
       " 'val_acc': [0.875699998497963, 0.8758999971151352],\n",
       " 'loss': [0.29906856519325326, 0.2889791855017344],\n",
       " 'acc': [0.8908666628996531, 0.8950833293398222]}"
      ]
     },
     "execution_count": 107,
     "metadata": {},
     "output_type": "execute_result"
    }
   ],
   "source": [
    "history.history"
   ]
  },
  {
   "cell_type": "code",
   "execution_count": 95,
   "metadata": {},
   "outputs": [
    {
     "name": "stdout",
     "output_type": "stream",
     "text": [
      "10000/10000 [==============================] - 0s 34us/step\n"
     ]
    }
   ],
   "source": [
    "score = model_single_dl.evaluate(x_test_flatten, y_test_class, verbose=1)"
   ]
  },
  {
   "cell_type": "code",
   "execution_count": 49,
   "metadata": {},
   "outputs": [
    {
     "name": "stdout",
     "output_type": "stream",
     "text": [
      "Test loss: 0.4913594557285309\n",
      "Test accuracy: 0.8315\n"
     ]
    }
   ],
   "source": [
    "print('Test loss:', score[0])\n",
    "print('Test accuracy:', score[1])"
   ]
  },
  {
   "cell_type": "markdown",
   "metadata": {},
   "source": [
    "**Step 5: Make & Visualise the Prediction**"
   ]
  },
  {
   "cell_type": "code",
   "execution_count": 50,
   "metadata": {},
   "outputs": [
    {
     "data": {
      "text/plain": [
       "array([5.8653436e-06, 9.1164952e-07, 1.8567956e-05, 2.4364421e-05,\n",
       "       2.6839689e-05, 2.7425189e-02, 5.7469337e-05, 4.8601028e-02,\n",
       "       9.5510995e-03, 9.1428870e-01], dtype=float32)"
      ]
     },
     "execution_count": 50,
     "metadata": {},
     "output_type": "execute_result"
    }
   ],
   "source": [
    "model_single_dl.predict_proba(x_test_flatten)[0]"
   ]
  },
  {
   "cell_type": "code",
   "execution_count": 51,
   "metadata": {},
   "outputs": [
    {
     "data": {
      "image/png": "[encoded data removed]",
      "text/plain": [
       "<Figure size 288x432 with 2 Axes>"
      ]
     },
     "metadata": {},
     "output_type": "display_data"
    }
   ],
   "source": [
    "plot_prediction(0, x_test, y_test, x_test_flatten, model_single_dl)"
   ]
  },
  {
   "cell_type": "markdown",
   "metadata": {},
   "source": [
    "## Deep Learning Approach - Multi Layer Perceptron\n",
    "\n",
    "**Step 2 & 3: Craft the feature transfomation and classifier model **"
   ]
  },
  {
   "cell_type": "code",
   "execution_count": 101,
   "metadata": {},
   "outputs": [],
   "source": [
    "model_multi_dl = Sequential()\n",
    "model_multi_dl.add(Dense(100, input_shape=(784,), activation='sigmoid'))\n",
    "model_multi_dl.add(Dense(50, activation='sigmoid'))\n",
    "model_multi_dl.add(Dense(10, activation='softmax'))"
   ]
  },
  {
   "cell_type": "code",
   "execution_count": 102,
   "metadata": {},
   "outputs": [
    {
     "name": "stdout",
     "output_type": "stream",
     "text": [
      "_________________________________________________________________\n",
      "Layer (type)                 Output Shape              Param #   \n",
      "=================================================================\n",
      "dense_6 (Dense)              (None, 100)               78500     \n",
      "_________________________________________________________________\n",
      "dense_7 (Dense)              (None, 50)                5050      \n",
      "_________________________________________________________________\n",
      "dense_8 (Dense)              (None, 10)                510       \n",
      "=================================================================\n",
      "Total params: 84,060\n",
      "Trainable params: 84,060\n",
      "Non-trainable params: 0\n",
      "_________________________________________________________________\n"
     ]
    }
   ],
   "source": [
    "model_multi_dl.summary()"
   ]
  },
  {
   "cell_type": "markdown",
   "metadata": {},
   "source": [
    "**Step 4: Compile and fit the model**"
   ]
  },
  {
   "cell_type": "code",
   "execution_count": 103,
   "metadata": {},
   "outputs": [],
   "source": [
    "model_multi_dl.compile(loss='categorical_crossentropy', optimizer=\"sgd\", metrics=['accuracy'])"
   ]
  },
  {
   "cell_type": "code",
   "execution_count": 104,
   "metadata": {},
   "outputs": [],
   "source": [
    "tbCallBack = keras.callbacks.TensorBoard(log_dir='logs/multi-dl')"
   ]
  },
  {
   "cell_type": "code",
   "execution_count": 105,
   "metadata": {},
   "outputs": [
    {
     "name": "stdout",
     "output_type": "stream",
     "text": [
      "Train on 60000 samples, validate on 10000 samples\n",
      "Epoch 1/2\n",
      "60000/60000 [==============================] - 1s 23us/step - loss: 2.2845 - acc: 0.2545 - val_loss: 2.2250 - val_acc: 0.4255\n",
      "Epoch 2/2\n",
      "60000/60000 [==============================] - 1s 21us/step - loss: 2.1704 - acc: 0.4688 - val_loss: 2.1071 - val_acc: 0.4655\n",
      "CPU times: user 7.2 s, sys: 620 ms, total: 7.82 s\n",
      "Wall time: 3 s\n"
     ]
    },
    {
     "data": {
      "text/plain": [
       "<keras.callbacks.History at 0x7f7aa512dbe0>"
      ]
     },
     "execution_count": 105,
     "metadata": {},
     "output_type": "execute_result"
    }
   ],
   "source": [
    "%%time \n",
    "model_multi_dl.fit(x_train_flatten, y_train_class, batch_size=128, epochs=2, verbose=1,\n",
    "                    validation_data=(x_test_flatten, y_test_class),\n",
    "                    callbacks=[tbCallBack, history])"
   ]
  },
  {
   "cell_type": "markdown",
   "metadata": {},
   "source": [
    "**Step 5: Check the performance of the model**"
   ]
  },
  {
   "cell_type": "code",
   "execution_count": 57,
   "metadata": {},
   "outputs": [
    {
     "name": "stdout",
     "output_type": "stream",
     "text": [
      "10000/10000 [==============================] - 0s 49us/step\n"
     ]
    }
   ],
   "source": [
    "score = model_multi_dl.evaluate(x_test_flatten, y_test_class, verbose=1)"
   ]
  },
  {
   "cell_type": "code",
   "execution_count": 58,
   "metadata": {},
   "outputs": [
    {
     "name": "stdout",
     "output_type": "stream",
     "text": [
      "Test loss: 2.388753424453735\n",
      "Test accuracy: 0.0997\n"
     ]
    }
   ],
   "source": [
    "print('Test loss:', score[0])\n",
    "print('Test accuracy:', score[1])"
   ]
  },
  {
   "cell_type": "markdown",
   "metadata": {},
   "source": [
    "**Step 6: Make & Visualise the Prediction**"
   ]
  },
  {
   "cell_type": "code",
   "execution_count": 59,
   "metadata": {},
   "outputs": [
    {
     "data": {
      "text/plain": [
       "array([0.11647817, 0.13288964, 0.09337792, 0.13705982, 0.10375784,\n",
       "       0.06192795, 0.15350011, 0.03354678, 0.10829023, 0.0591715 ],\n",
       "      dtype=float32)"
      ]
     },
     "execution_count": 59,
     "metadata": {},
     "output_type": "execute_result"
    }
   ],
   "source": [
    "model_multi_dl.predict_proba(x_test_flatten)[0]"
   ]
  },
  {
   "cell_type": "code",
   "execution_count": 60,
   "metadata": {},
   "outputs": [
    {
     "data": {
      "image/png": "[encoded data removed]",
      "text/plain": [
       "<Figure size 288x432 with 2 Axes>"
      ]
     },
     "metadata": {},
     "output_type": "display_data"
    }
   ],
   "source": [
    "plot_prediction(0, x_test, y_test, x_test_flatten, model_multi_dl)"
   ]
  },
  {
   "cell_type": "code",
   "execution_count": null,
   "metadata": {},
   "outputs": [],
   "source": []
  },
  {
   "cell_type": "code",
   "execution_count": null,
   "metadata": {},
   "outputs": [],
   "source": []
  },
  {
   "cell_type": "code",
   "execution_count": null,
   "metadata": {},
   "outputs": [],
   "source": []
  }
 ],
 "metadata": {
  "kernelspec": {
   "display_name": "Python 3",
   "language": "python",
   "name": "python3"
  },
  "language_info": {
   "codemirror_mode": {
    "name": "ipython",
    "version": 3
   },
   "file_extension": ".py",
   "mimetype": "text/x-python",
   "name": "python",
   "nbconvert_exporter": "python",
   "pygments_lexer": "ipython3",
   "version": "3.6.4"
  }
 },
 "nbformat": 4,
 "nbformat_minor": 2
}
